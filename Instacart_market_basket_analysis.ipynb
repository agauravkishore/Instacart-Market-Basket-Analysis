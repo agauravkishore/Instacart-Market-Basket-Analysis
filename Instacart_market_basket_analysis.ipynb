{
  "nbformat": 4,
  "nbformat_minor": 0,
  "metadata": {
    "colab": {
      "name": "Instacart market basket analysis.ipynb",
      "provenance": [],
      "collapsed_sections": [],
      "machine_shape": "hm",
      "include_colab_link": true
    },
    "kernelspec": {
      "name": "python3",
      "display_name": "Python 3"
    },
    "accelerator": "GPU"
  },
  "cells": [
    {
      "cell_type": "markdown",
      "metadata": {
        "id": "view-in-github",
        "colab_type": "text"
      },
      "source": [
        "<a href=\"https://colab.research.google.com/github/agauravkishore/Instacart-Market-Basket-Analysis/blob/master/Instacart_market_basket_analysis.ipynb\" target=\"_parent\"><img src=\"https://colab.research.google.com/assets/colab-badge.svg\" alt=\"Open In Colab\"/></a>"
      ]
    },
    {
      "cell_type": "code",
      "metadata": {
        "id": "EOEkKVOVby-q",
        "colab_type": "code",
        "outputId": "55f4507a-c0ed-45e6-8d04-ec426847605f",
        "colab": {
          "base_uri": "https://localhost:8080/",
          "height": 35
        }
      },
      "source": [
        "import numpy as np\n",
        "import matplotlib.pyplot as plt\n",
        "import pandas as pd\n",
        "import seaborn as sns\n",
        "from sklearn.metrics import precision_score\n",
        "\n",
        "import os\n",
        "os.getcwd()"
      ],
      "execution_count": 0,
      "outputs": [
        {
          "output_type": "execute_result",
          "data": {
            "text/plain": [
              "'/content/drive/Shared drives/ML with Python - Project'"
            ]
          },
          "metadata": {
            "tags": []
          },
          "execution_count": 72
        }
      ]
    },
    {
      "cell_type": "code",
      "metadata": {
        "id": "mReh_nqKluGW",
        "colab_type": "code",
        "outputId": "e51f9c5b-9a53-4ec4-d6d0-dee98e6c28a0",
        "colab": {
          "base_uri": "https://localhost:8080/",
          "height": 35
        }
      },
      "source": [
        "#Mounting Google drive\n",
        "from google.colab import drive\n",
        "drive.mount('/content/drive')"
      ],
      "execution_count": 0,
      "outputs": [
        {
          "output_type": "stream",
          "text": [
            "Drive already mounted at /content/drive; to attempt to forcibly remount, call drive.mount(\"/content/drive\", force_remount=True).\n"
          ],
          "name": "stdout"
        }
      ]
    },
    {
      "cell_type": "code",
      "metadata": {
        "id": "zJ7NmY8bo17b",
        "colab_type": "code",
        "colab": {}
      },
      "source": [
        "#Changing directory to the shared drive\n",
        "os.chdir('/content/drive/Shared drives/ML with Python - Project')"
      ],
      "execution_count": 0,
      "outputs": []
    },
    {
      "cell_type": "code",
      "metadata": {
        "id": "MLugpem7c_Ne",
        "colab_type": "code",
        "colab": {}
      },
      "source": [
        "import io\n",
        "orders = pd.read_csv(r'orders.csv') #Null values in days_since_prior_order\n",
        "products = pd.read_csv(r'products.csv')\n",
        "aisles = pd.read_csv(r'aisles.csv')\n",
        "departments = pd.read_csv(r'departments.csv')\n",
        "order_products_prior = pd.read_csv(r'order_products__prior.csv')\n",
        "sample_submission = pd.read_csv(r'sample_submission.csv')\n",
        "order_products_train = pd.read_csv(r'order_products__train.csv')\n",
        "\n"
      ],
      "execution_count": 0,
      "outputs": []
    },
    {
      "cell_type": "code",
      "metadata": {
        "id": "r1y-eTHw-2RL",
        "colab_type": "code",
        "outputId": "fa75ef00-ad47-418d-ef4b-600c57d37a84",
        "colab": {
          "base_uri": "https://localhost:8080/",
          "height": 202
        }
      },
      "source": [
        "departments.head(5)"
      ],
      "execution_count": 0,
      "outputs": [
        {
          "output_type": "execute_result",
          "data": {
            "text/html": [
              "<div>\n",
              "<style scoped>\n",
              "    .dataframe tbody tr th:only-of-type {\n",
              "        vertical-align: middle;\n",
              "    }\n",
              "\n",
              "    .dataframe tbody tr th {\n",
              "        vertical-align: top;\n",
              "    }\n",
              "\n",
              "    .dataframe thead th {\n",
              "        text-align: right;\n",
              "    }\n",
              "</style>\n",
              "<table border=\"1\" class=\"dataframe\">\n",
              "  <thead>\n",
              "    <tr style=\"text-align: right;\">\n",
              "      <th></th>\n",
              "      <th>department_id</th>\n",
              "      <th>department</th>\n",
              "    </tr>\n",
              "  </thead>\n",
              "  <tbody>\n",
              "    <tr>\n",
              "      <th>0</th>\n",
              "      <td>1</td>\n",
              "      <td>frozen</td>\n",
              "    </tr>\n",
              "    <tr>\n",
              "      <th>1</th>\n",
              "      <td>2</td>\n",
              "      <td>other</td>\n",
              "    </tr>\n",
              "    <tr>\n",
              "      <th>2</th>\n",
              "      <td>3</td>\n",
              "      <td>bakery</td>\n",
              "    </tr>\n",
              "    <tr>\n",
              "      <th>3</th>\n",
              "      <td>4</td>\n",
              "      <td>produce</td>\n",
              "    </tr>\n",
              "    <tr>\n",
              "      <th>4</th>\n",
              "      <td>5</td>\n",
              "      <td>alcohol</td>\n",
              "    </tr>\n",
              "  </tbody>\n",
              "</table>\n",
              "</div>"
            ],
            "text/plain": [
              "   department_id department\n",
              "0              1     frozen\n",
              "1              2      other\n",
              "2              3     bakery\n",
              "3              4    produce\n",
              "4              5    alcohol"
            ]
          },
          "metadata": {
            "tags": []
          },
          "execution_count": 6
        }
      ]
    },
    {
      "cell_type": "code",
      "metadata": {
        "id": "aGQQw1SZmh6P",
        "colab_type": "code",
        "outputId": "c495899b-5da6-446a-fdb0-ba795450a668",
        "colab": {
          "base_uri": "https://localhost:8080/",
          "height": 204
        }
      },
      "source": [
        "order_products_prior.head(5)"
      ],
      "execution_count": 0,
      "outputs": [
        {
          "output_type": "execute_result",
          "data": {
            "text/html": [
              "<div>\n",
              "<style scoped>\n",
              "    .dataframe tbody tr th:only-of-type {\n",
              "        vertical-align: middle;\n",
              "    }\n",
              "\n",
              "    .dataframe tbody tr th {\n",
              "        vertical-align: top;\n",
              "    }\n",
              "\n",
              "    .dataframe thead th {\n",
              "        text-align: right;\n",
              "    }\n",
              "</style>\n",
              "<table border=\"1\" class=\"dataframe\">\n",
              "  <thead>\n",
              "    <tr style=\"text-align: right;\">\n",
              "      <th></th>\n",
              "      <th>order_id</th>\n",
              "      <th>product_id</th>\n",
              "      <th>add_to_cart_order</th>\n",
              "      <th>reordered</th>\n",
              "    </tr>\n",
              "  </thead>\n",
              "  <tbody>\n",
              "    <tr>\n",
              "      <th>0</th>\n",
              "      <td>2</td>\n",
              "      <td>33120</td>\n",
              "      <td>1</td>\n",
              "      <td>1</td>\n",
              "    </tr>\n",
              "    <tr>\n",
              "      <th>1</th>\n",
              "      <td>2</td>\n",
              "      <td>28985</td>\n",
              "      <td>2</td>\n",
              "      <td>1</td>\n",
              "    </tr>\n",
              "    <tr>\n",
              "      <th>2</th>\n",
              "      <td>2</td>\n",
              "      <td>9327</td>\n",
              "      <td>3</td>\n",
              "      <td>0</td>\n",
              "    </tr>\n",
              "    <tr>\n",
              "      <th>3</th>\n",
              "      <td>2</td>\n",
              "      <td>45918</td>\n",
              "      <td>4</td>\n",
              "      <td>1</td>\n",
              "    </tr>\n",
              "    <tr>\n",
              "      <th>4</th>\n",
              "      <td>2</td>\n",
              "      <td>30035</td>\n",
              "      <td>5</td>\n",
              "      <td>0</td>\n",
              "    </tr>\n",
              "  </tbody>\n",
              "</table>\n",
              "</div>"
            ],
            "text/plain": [
              "   order_id  product_id  add_to_cart_order  reordered\n",
              "0         2       33120                  1          1\n",
              "1         2       28985                  2          1\n",
              "2         2        9327                  3          0\n",
              "3         2       45918                  4          1\n",
              "4         2       30035                  5          0"
            ]
          },
          "metadata": {
            "tags": []
          },
          "execution_count": 7
        }
      ]
    },
    {
      "cell_type": "code",
      "metadata": {
        "id": "ahL6K5Eqmh8_",
        "colab_type": "code",
        "outputId": "3d2ff325-7c60-4594-9e6c-5cdd7946f371",
        "colab": {
          "base_uri": "https://localhost:8080/",
          "height": 204
        }
      },
      "source": [
        "aisles.head(5)"
      ],
      "execution_count": 0,
      "outputs": [
        {
          "output_type": "execute_result",
          "data": {
            "text/html": [
              "<div>\n",
              "<style scoped>\n",
              "    .dataframe tbody tr th:only-of-type {\n",
              "        vertical-align: middle;\n",
              "    }\n",
              "\n",
              "    .dataframe tbody tr th {\n",
              "        vertical-align: top;\n",
              "    }\n",
              "\n",
              "    .dataframe thead th {\n",
              "        text-align: right;\n",
              "    }\n",
              "</style>\n",
              "<table border=\"1\" class=\"dataframe\">\n",
              "  <thead>\n",
              "    <tr style=\"text-align: right;\">\n",
              "      <th></th>\n",
              "      <th>aisle_id</th>\n",
              "      <th>aisle</th>\n",
              "    </tr>\n",
              "  </thead>\n",
              "  <tbody>\n",
              "    <tr>\n",
              "      <th>0</th>\n",
              "      <td>1</td>\n",
              "      <td>prepared soups salads</td>\n",
              "    </tr>\n",
              "    <tr>\n",
              "      <th>1</th>\n",
              "      <td>2</td>\n",
              "      <td>specialty cheeses</td>\n",
              "    </tr>\n",
              "    <tr>\n",
              "      <th>2</th>\n",
              "      <td>3</td>\n",
              "      <td>energy granola bars</td>\n",
              "    </tr>\n",
              "    <tr>\n",
              "      <th>3</th>\n",
              "      <td>4</td>\n",
              "      <td>instant foods</td>\n",
              "    </tr>\n",
              "    <tr>\n",
              "      <th>4</th>\n",
              "      <td>5</td>\n",
              "      <td>marinades meat preparation</td>\n",
              "    </tr>\n",
              "  </tbody>\n",
              "</table>\n",
              "</div>"
            ],
            "text/plain": [
              "   aisle_id                       aisle\n",
              "0         1       prepared soups salads\n",
              "1         2           specialty cheeses\n",
              "2         3         energy granola bars\n",
              "3         4               instant foods\n",
              "4         5  marinades meat preparation"
            ]
          },
          "metadata": {
            "tags": []
          },
          "execution_count": 8
        }
      ]
    },
    {
      "cell_type": "code",
      "metadata": {
        "id": "PLaLC0SFmh_5",
        "colab_type": "code",
        "outputId": "510c90eb-c2a8-4a6e-b8f9-0578e4ba58b2",
        "colab": {
          "base_uri": "https://localhost:8080/",
          "height": 204
        }
      },
      "source": [
        "products.head(5)"
      ],
      "execution_count": 0,
      "outputs": [
        {
          "output_type": "execute_result",
          "data": {
            "text/html": [
              "<div>\n",
              "<style scoped>\n",
              "    .dataframe tbody tr th:only-of-type {\n",
              "        vertical-align: middle;\n",
              "    }\n",
              "\n",
              "    .dataframe tbody tr th {\n",
              "        vertical-align: top;\n",
              "    }\n",
              "\n",
              "    .dataframe thead th {\n",
              "        text-align: right;\n",
              "    }\n",
              "</style>\n",
              "<table border=\"1\" class=\"dataframe\">\n",
              "  <thead>\n",
              "    <tr style=\"text-align: right;\">\n",
              "      <th></th>\n",
              "      <th>product_id</th>\n",
              "      <th>product_name</th>\n",
              "      <th>aisle_id</th>\n",
              "      <th>department_id</th>\n",
              "    </tr>\n",
              "  </thead>\n",
              "  <tbody>\n",
              "    <tr>\n",
              "      <th>0</th>\n",
              "      <td>1</td>\n",
              "      <td>Chocolate Sandwich Cookies</td>\n",
              "      <td>61</td>\n",
              "      <td>19</td>\n",
              "    </tr>\n",
              "    <tr>\n",
              "      <th>1</th>\n",
              "      <td>2</td>\n",
              "      <td>All-Seasons Salt</td>\n",
              "      <td>104</td>\n",
              "      <td>13</td>\n",
              "    </tr>\n",
              "    <tr>\n",
              "      <th>2</th>\n",
              "      <td>3</td>\n",
              "      <td>Robust Golden Unsweetened Oolong Tea</td>\n",
              "      <td>94</td>\n",
              "      <td>7</td>\n",
              "    </tr>\n",
              "    <tr>\n",
              "      <th>3</th>\n",
              "      <td>4</td>\n",
              "      <td>Smart Ones Classic Favorites Mini Rigatoni Wit...</td>\n",
              "      <td>38</td>\n",
              "      <td>1</td>\n",
              "    </tr>\n",
              "    <tr>\n",
              "      <th>4</th>\n",
              "      <td>5</td>\n",
              "      <td>Green Chile Anytime Sauce</td>\n",
              "      <td>5</td>\n",
              "      <td>13</td>\n",
              "    </tr>\n",
              "  </tbody>\n",
              "</table>\n",
              "</div>"
            ],
            "text/plain": [
              "   product_id  ... department_id\n",
              "0           1  ...            19\n",
              "1           2  ...            13\n",
              "2           3  ...             7\n",
              "3           4  ...             1\n",
              "4           5  ...            13\n",
              "\n",
              "[5 rows x 4 columns]"
            ]
          },
          "metadata": {
            "tags": []
          },
          "execution_count": 9
        }
      ]
    },
    {
      "cell_type": "code",
      "metadata": {
        "id": "m_X4vphHmiCu",
        "colab_type": "code",
        "outputId": "ef1f298a-bc0a-4924-9340-04ee8613e865",
        "colab": {
          "base_uri": "https://localhost:8080/",
          "height": 204
        }
      },
      "source": [
        "order_products_train.head(5)"
      ],
      "execution_count": 0,
      "outputs": [
        {
          "output_type": "execute_result",
          "data": {
            "text/html": [
              "<div>\n",
              "<style scoped>\n",
              "    .dataframe tbody tr th:only-of-type {\n",
              "        vertical-align: middle;\n",
              "    }\n",
              "\n",
              "    .dataframe tbody tr th {\n",
              "        vertical-align: top;\n",
              "    }\n",
              "\n",
              "    .dataframe thead th {\n",
              "        text-align: right;\n",
              "    }\n",
              "</style>\n",
              "<table border=\"1\" class=\"dataframe\">\n",
              "  <thead>\n",
              "    <tr style=\"text-align: right;\">\n",
              "      <th></th>\n",
              "      <th>order_id</th>\n",
              "      <th>product_id</th>\n",
              "      <th>add_to_cart_order</th>\n",
              "      <th>reordered</th>\n",
              "    </tr>\n",
              "  </thead>\n",
              "  <tbody>\n",
              "    <tr>\n",
              "      <th>0</th>\n",
              "      <td>1</td>\n",
              "      <td>49302</td>\n",
              "      <td>1</td>\n",
              "      <td>1</td>\n",
              "    </tr>\n",
              "    <tr>\n",
              "      <th>1</th>\n",
              "      <td>1</td>\n",
              "      <td>11109</td>\n",
              "      <td>2</td>\n",
              "      <td>1</td>\n",
              "    </tr>\n",
              "    <tr>\n",
              "      <th>2</th>\n",
              "      <td>1</td>\n",
              "      <td>10246</td>\n",
              "      <td>3</td>\n",
              "      <td>0</td>\n",
              "    </tr>\n",
              "    <tr>\n",
              "      <th>3</th>\n",
              "      <td>1</td>\n",
              "      <td>49683</td>\n",
              "      <td>4</td>\n",
              "      <td>0</td>\n",
              "    </tr>\n",
              "    <tr>\n",
              "      <th>4</th>\n",
              "      <td>1</td>\n",
              "      <td>43633</td>\n",
              "      <td>5</td>\n",
              "      <td>1</td>\n",
              "    </tr>\n",
              "  </tbody>\n",
              "</table>\n",
              "</div>"
            ],
            "text/plain": [
              "   order_id  product_id  add_to_cart_order  reordered\n",
              "0         1       49302                  1          1\n",
              "1         1       11109                  2          1\n",
              "2         1       10246                  3          0\n",
              "3         1       49683                  4          0\n",
              "4         1       43633                  5          1"
            ]
          },
          "metadata": {
            "tags": []
          },
          "execution_count": 10
        }
      ]
    },
    {
      "cell_type": "code",
      "metadata": {
        "id": "NhTH-WNlmiIH",
        "colab_type": "code",
        "outputId": "77027fc7-71e3-41dc-d8bf-9a6be6c54eb0",
        "colab": {
          "base_uri": "https://localhost:8080/",
          "height": 204
        }
      },
      "source": [
        "orders.head(5)"
      ],
      "execution_count": 0,
      "outputs": [
        {
          "output_type": "execute_result",
          "data": {
            "text/html": [
              "<div>\n",
              "<style scoped>\n",
              "    .dataframe tbody tr th:only-of-type {\n",
              "        vertical-align: middle;\n",
              "    }\n",
              "\n",
              "    .dataframe tbody tr th {\n",
              "        vertical-align: top;\n",
              "    }\n",
              "\n",
              "    .dataframe thead th {\n",
              "        text-align: right;\n",
              "    }\n",
              "</style>\n",
              "<table border=\"1\" class=\"dataframe\">\n",
              "  <thead>\n",
              "    <tr style=\"text-align: right;\">\n",
              "      <th></th>\n",
              "      <th>order_id</th>\n",
              "      <th>user_id</th>\n",
              "      <th>eval_set</th>\n",
              "      <th>order_number</th>\n",
              "      <th>order_dow</th>\n",
              "      <th>order_hour_of_day</th>\n",
              "      <th>days_since_prior_order</th>\n",
              "    </tr>\n",
              "  </thead>\n",
              "  <tbody>\n",
              "    <tr>\n",
              "      <th>0</th>\n",
              "      <td>2539329</td>\n",
              "      <td>1</td>\n",
              "      <td>prior</td>\n",
              "      <td>1</td>\n",
              "      <td>2</td>\n",
              "      <td>8</td>\n",
              "      <td>NaN</td>\n",
              "    </tr>\n",
              "    <tr>\n",
              "      <th>1</th>\n",
              "      <td>2398795</td>\n",
              "      <td>1</td>\n",
              "      <td>prior</td>\n",
              "      <td>2</td>\n",
              "      <td>3</td>\n",
              "      <td>7</td>\n",
              "      <td>15.0</td>\n",
              "    </tr>\n",
              "    <tr>\n",
              "      <th>2</th>\n",
              "      <td>473747</td>\n",
              "      <td>1</td>\n",
              "      <td>prior</td>\n",
              "      <td>3</td>\n",
              "      <td>3</td>\n",
              "      <td>12</td>\n",
              "      <td>21.0</td>\n",
              "    </tr>\n",
              "    <tr>\n",
              "      <th>3</th>\n",
              "      <td>2254736</td>\n",
              "      <td>1</td>\n",
              "      <td>prior</td>\n",
              "      <td>4</td>\n",
              "      <td>4</td>\n",
              "      <td>7</td>\n",
              "      <td>29.0</td>\n",
              "    </tr>\n",
              "    <tr>\n",
              "      <th>4</th>\n",
              "      <td>431534</td>\n",
              "      <td>1</td>\n",
              "      <td>prior</td>\n",
              "      <td>5</td>\n",
              "      <td>4</td>\n",
              "      <td>15</td>\n",
              "      <td>28.0</td>\n",
              "    </tr>\n",
              "  </tbody>\n",
              "</table>\n",
              "</div>"
            ],
            "text/plain": [
              "   order_id  user_id  ... order_hour_of_day  days_since_prior_order\n",
              "0   2539329        1  ...                 8                     NaN\n",
              "1   2398795        1  ...                 7                    15.0\n",
              "2    473747        1  ...                12                    21.0\n",
              "3   2254736        1  ...                 7                    29.0\n",
              "4    431534        1  ...                15                    28.0\n",
              "\n",
              "[5 rows x 7 columns]"
            ]
          },
          "metadata": {
            "tags": []
          },
          "execution_count": 11
        }
      ]
    },
    {
      "cell_type": "markdown",
      "metadata": {
        "id": "kkcMKpuFnK0p",
        "colab_type": "text"
      },
      "source": [
        "## Data cleaning"
      ]
    },
    {
      "cell_type": "code",
      "metadata": {
        "id": "LRUKnYfOmiK8",
        "colab_type": "code",
        "outputId": "621ce3d7-bde4-4094-84ed-3a51eadda621",
        "colab": {
          "base_uri": "https://localhost:8080/",
          "height": 297
        }
      },
      "source": [
        "# Get the statistics of your dataframe\n",
        "departments.describe()\n",
        "products.describe()\n",
        "order_products_prior.describe()\n",
        "aisles.describe()\n",
        "orders.describe()"
      ],
      "execution_count": 0,
      "outputs": [
        {
          "output_type": "execute_result",
          "data": {
            "text/html": [
              "<div>\n",
              "<style scoped>\n",
              "    .dataframe tbody tr th:only-of-type {\n",
              "        vertical-align: middle;\n",
              "    }\n",
              "\n",
              "    .dataframe tbody tr th {\n",
              "        vertical-align: top;\n",
              "    }\n",
              "\n",
              "    .dataframe thead th {\n",
              "        text-align: right;\n",
              "    }\n",
              "</style>\n",
              "<table border=\"1\" class=\"dataframe\">\n",
              "  <thead>\n",
              "    <tr style=\"text-align: right;\">\n",
              "      <th></th>\n",
              "      <th>order_id</th>\n",
              "      <th>user_id</th>\n",
              "      <th>order_number</th>\n",
              "      <th>order_dow</th>\n",
              "      <th>order_hour_of_day</th>\n",
              "      <th>days_since_prior_order</th>\n",
              "    </tr>\n",
              "  </thead>\n",
              "  <tbody>\n",
              "    <tr>\n",
              "      <th>count</th>\n",
              "      <td>3.421083e+06</td>\n",
              "      <td>3.421083e+06</td>\n",
              "      <td>3.421083e+06</td>\n",
              "      <td>3.421083e+06</td>\n",
              "      <td>3.421083e+06</td>\n",
              "      <td>3.214874e+06</td>\n",
              "    </tr>\n",
              "    <tr>\n",
              "      <th>mean</th>\n",
              "      <td>1.710542e+06</td>\n",
              "      <td>1.029782e+05</td>\n",
              "      <td>1.715486e+01</td>\n",
              "      <td>2.776219e+00</td>\n",
              "      <td>1.345202e+01</td>\n",
              "      <td>1.111484e+01</td>\n",
              "    </tr>\n",
              "    <tr>\n",
              "      <th>std</th>\n",
              "      <td>9.875817e+05</td>\n",
              "      <td>5.953372e+04</td>\n",
              "      <td>1.773316e+01</td>\n",
              "      <td>2.046829e+00</td>\n",
              "      <td>4.226088e+00</td>\n",
              "      <td>9.206737e+00</td>\n",
              "    </tr>\n",
              "    <tr>\n",
              "      <th>min</th>\n",
              "      <td>1.000000e+00</td>\n",
              "      <td>1.000000e+00</td>\n",
              "      <td>1.000000e+00</td>\n",
              "      <td>0.000000e+00</td>\n",
              "      <td>0.000000e+00</td>\n",
              "      <td>0.000000e+00</td>\n",
              "    </tr>\n",
              "    <tr>\n",
              "      <th>25%</th>\n",
              "      <td>8.552715e+05</td>\n",
              "      <td>5.139400e+04</td>\n",
              "      <td>5.000000e+00</td>\n",
              "      <td>1.000000e+00</td>\n",
              "      <td>1.000000e+01</td>\n",
              "      <td>4.000000e+00</td>\n",
              "    </tr>\n",
              "    <tr>\n",
              "      <th>50%</th>\n",
              "      <td>1.710542e+06</td>\n",
              "      <td>1.026890e+05</td>\n",
              "      <td>1.100000e+01</td>\n",
              "      <td>3.000000e+00</td>\n",
              "      <td>1.300000e+01</td>\n",
              "      <td>7.000000e+00</td>\n",
              "    </tr>\n",
              "    <tr>\n",
              "      <th>75%</th>\n",
              "      <td>2.565812e+06</td>\n",
              "      <td>1.543850e+05</td>\n",
              "      <td>2.300000e+01</td>\n",
              "      <td>5.000000e+00</td>\n",
              "      <td>1.600000e+01</td>\n",
              "      <td>1.500000e+01</td>\n",
              "    </tr>\n",
              "    <tr>\n",
              "      <th>max</th>\n",
              "      <td>3.421083e+06</td>\n",
              "      <td>2.062090e+05</td>\n",
              "      <td>1.000000e+02</td>\n",
              "      <td>6.000000e+00</td>\n",
              "      <td>2.300000e+01</td>\n",
              "      <td>3.000000e+01</td>\n",
              "    </tr>\n",
              "  </tbody>\n",
              "</table>\n",
              "</div>"
            ],
            "text/plain": [
              "           order_id       user_id  ...  order_hour_of_day  days_since_prior_order\n",
              "count  3.421083e+06  3.421083e+06  ...       3.421083e+06            3.214874e+06\n",
              "mean   1.710542e+06  1.029782e+05  ...       1.345202e+01            1.111484e+01\n",
              "std    9.875817e+05  5.953372e+04  ...       4.226088e+00            9.206737e+00\n",
              "min    1.000000e+00  1.000000e+00  ...       0.000000e+00            0.000000e+00\n",
              "25%    8.552715e+05  5.139400e+04  ...       1.000000e+01            4.000000e+00\n",
              "50%    1.710542e+06  1.026890e+05  ...       1.300000e+01            7.000000e+00\n",
              "75%    2.565812e+06  1.543850e+05  ...       1.600000e+01            1.500000e+01\n",
              "max    3.421083e+06  2.062090e+05  ...       2.300000e+01            3.000000e+01\n",
              "\n",
              "[8 rows x 6 columns]"
            ]
          },
          "metadata": {
            "tags": []
          },
          "execution_count": 13
        }
      ]
    },
    {
      "cell_type": "code",
      "metadata": {
        "id": "PQgyZZyCcFBJ",
        "colab_type": "code",
        "outputId": "b2f0bca9-7b27-492e-8e28-636b1b72d0f3",
        "colab": {
          "base_uri": "https://localhost:8080/",
          "height": 156
        }
      },
      "source": [
        "missing = orders.isnull().sum()\n",
        "Percent_missing = (missing/len(orders))*100\n",
        "Percent_missing"
      ],
      "execution_count": 0,
      "outputs": [
        {
          "output_type": "execute_result",
          "data": {
            "text/plain": [
              "order_id                  0.000000\n",
              "user_id                   0.000000\n",
              "eval_set                  0.000000\n",
              "order_number              0.000000\n",
              "order_dow                 0.000000\n",
              "order_hour_of_day         0.000000\n",
              "days_since_prior_order    6.027594\n",
              "dtype: float64"
            ]
          },
          "metadata": {
            "tags": []
          },
          "execution_count": 76
        }
      ]
    },
    {
      "cell_type": "markdown",
      "metadata": {
        "id": "nkijjVW2nmnZ",
        "colab_type": "text"
      },
      "source": [
        "From above we observed that, only 6% of days_since_prior_order column is null. So we decided to truncate them"
      ]
    },
    {
      "cell_type": "code",
      "metadata": {
        "id": "o3MkWg9KnlVN",
        "colab_type": "code",
        "outputId": "6aaf956c-d9cd-4a33-9f2e-a9200d306f79",
        "colab": {
          "base_uri": "https://localhost:8080/",
          "height": 202
        }
      },
      "source": [
        "orders=orders[orders['days_since_prior_order'].notnull()]\n",
        "orders.head()"
      ],
      "execution_count": 0,
      "outputs": [
        {
          "output_type": "execute_result",
          "data": {
            "text/html": [
              "<div>\n",
              "<style scoped>\n",
              "    .dataframe tbody tr th:only-of-type {\n",
              "        vertical-align: middle;\n",
              "    }\n",
              "\n",
              "    .dataframe tbody tr th {\n",
              "        vertical-align: top;\n",
              "    }\n",
              "\n",
              "    .dataframe thead th {\n",
              "        text-align: right;\n",
              "    }\n",
              "</style>\n",
              "<table border=\"1\" class=\"dataframe\">\n",
              "  <thead>\n",
              "    <tr style=\"text-align: right;\">\n",
              "      <th></th>\n",
              "      <th>order_id</th>\n",
              "      <th>user_id</th>\n",
              "      <th>eval_set</th>\n",
              "      <th>order_number</th>\n",
              "      <th>order_dow</th>\n",
              "      <th>order_hour_of_day</th>\n",
              "      <th>days_since_prior_order</th>\n",
              "    </tr>\n",
              "  </thead>\n",
              "  <tbody>\n",
              "    <tr>\n",
              "      <th>1</th>\n",
              "      <td>2398795</td>\n",
              "      <td>1</td>\n",
              "      <td>prior</td>\n",
              "      <td>2</td>\n",
              "      <td>3</td>\n",
              "      <td>7</td>\n",
              "      <td>15.0</td>\n",
              "    </tr>\n",
              "    <tr>\n",
              "      <th>2</th>\n",
              "      <td>473747</td>\n",
              "      <td>1</td>\n",
              "      <td>prior</td>\n",
              "      <td>3</td>\n",
              "      <td>3</td>\n",
              "      <td>12</td>\n",
              "      <td>21.0</td>\n",
              "    </tr>\n",
              "    <tr>\n",
              "      <th>3</th>\n",
              "      <td>2254736</td>\n",
              "      <td>1</td>\n",
              "      <td>prior</td>\n",
              "      <td>4</td>\n",
              "      <td>4</td>\n",
              "      <td>7</td>\n",
              "      <td>29.0</td>\n",
              "    </tr>\n",
              "    <tr>\n",
              "      <th>4</th>\n",
              "      <td>431534</td>\n",
              "      <td>1</td>\n",
              "      <td>prior</td>\n",
              "      <td>5</td>\n",
              "      <td>4</td>\n",
              "      <td>15</td>\n",
              "      <td>28.0</td>\n",
              "    </tr>\n",
              "    <tr>\n",
              "      <th>5</th>\n",
              "      <td>3367565</td>\n",
              "      <td>1</td>\n",
              "      <td>prior</td>\n",
              "      <td>6</td>\n",
              "      <td>2</td>\n",
              "      <td>7</td>\n",
              "      <td>19.0</td>\n",
              "    </tr>\n",
              "  </tbody>\n",
              "</table>\n",
              "</div>"
            ],
            "text/plain": [
              "   order_id  user_id  ... order_hour_of_day  days_since_prior_order\n",
              "1   2398795        1  ...                 7                    15.0\n",
              "2    473747        1  ...                12                    21.0\n",
              "3   2254736        1  ...                 7                    29.0\n",
              "4    431534        1  ...                15                    28.0\n",
              "5   3367565        1  ...                 7                    19.0\n",
              "\n",
              "[5 rows x 7 columns]"
            ]
          },
          "metadata": {
            "tags": []
          },
          "execution_count": 77
        }
      ]
    },
    {
      "cell_type": "code",
      "metadata": {
        "id": "f2hf9-7VmiNy",
        "colab_type": "code",
        "outputId": "f85dd154-7170-48bb-91a2-9151f1e6b340",
        "colab": {
          "base_uri": "https://localhost:8080/",
          "height": 69
        }
      },
      "source": [
        "#checking missing value for departments\n",
        "departments.isnull().any()\n",
        "#no missisng value"
      ],
      "execution_count": 0,
      "outputs": [
        {
          "output_type": "execute_result",
          "data": {
            "text/plain": [
              "department_id    False\n",
              "department       False\n",
              "dtype: bool"
            ]
          },
          "metadata": {
            "tags": []
          },
          "execution_count": 7
        }
      ]
    },
    {
      "cell_type": "code",
      "metadata": {
        "id": "6IF4b0mtmiQq",
        "colab_type": "code",
        "outputId": "3829ecb4-7510-42a8-f8e7-02662dab2328",
        "colab": {
          "base_uri": "https://localhost:8080/",
          "height": 69
        }
      },
      "source": [
        "#checking missing value for aisles\n",
        "aisles.isnull().any()\n",
        "#no missisng value"
      ],
      "execution_count": 0,
      "outputs": [
        {
          "output_type": "execute_result",
          "data": {
            "text/plain": [
              "aisle_id    False\n",
              "aisle       False\n",
              "dtype: bool"
            ]
          },
          "metadata": {
            "tags": []
          },
          "execution_count": 8
        }
      ]
    },
    {
      "cell_type": "code",
      "metadata": {
        "id": "5d6JsWOUmiFa",
        "colab_type": "code",
        "outputId": "f1860352-27fe-48d0-9ee4-b10c4f0190fb",
        "colab": {
          "base_uri": "https://localhost:8080/",
          "height": 100
        }
      },
      "source": [
        "#checking missing value for products\n",
        "products.isnull().any()\n",
        "#no missisng value"
      ],
      "execution_count": 0,
      "outputs": [
        {
          "output_type": "execute_result",
          "data": {
            "text/plain": [
              "product_id       False\n",
              "product_name     False\n",
              "aisle_id         False\n",
              "department_id    False\n",
              "dtype: bool"
            ]
          },
          "metadata": {
            "tags": []
          },
          "execution_count": 10
        }
      ]
    },
    {
      "cell_type": "code",
      "metadata": {
        "id": "_Qc02e7Mn2TH",
        "colab_type": "code",
        "outputId": "050c0d13-d771-4418-e118-5ad54bb851a2",
        "colab": {
          "base_uri": "https://localhost:8080/",
          "height": 100
        }
      },
      "source": [
        "#checking missing value for order_products_prior\n",
        "order_products_prior.isnull().any()\n",
        "#no missisng value"
      ],
      "execution_count": 0,
      "outputs": [
        {
          "output_type": "execute_result",
          "data": {
            "text/plain": [
              "order_id             False\n",
              "product_id           False\n",
              "add_to_cart_order    False\n",
              "reordered            False\n",
              "dtype: bool"
            ]
          },
          "metadata": {
            "tags": []
          },
          "execution_count": 11
        }
      ]
    },
    {
      "cell_type": "code",
      "metadata": {
        "id": "FPjlJUJXn2WD",
        "colab_type": "code",
        "outputId": "7e934619-7173-4129-8fc7-5debcecdef79",
        "colab": {
          "base_uri": "https://localhost:8080/",
          "height": 100
        }
      },
      "source": [
        "#checking missing value for order_products_prior\n",
        "order_products_train.isnull().any()\n",
        "#no missisng value"
      ],
      "execution_count": 0,
      "outputs": [
        {
          "output_type": "execute_result",
          "data": {
            "text/plain": [
              "order_id             False\n",
              "product_id           False\n",
              "add_to_cart_order    False\n",
              "reordered            False\n",
              "dtype: bool"
            ]
          },
          "metadata": {
            "tags": []
          },
          "execution_count": 12
        }
      ]
    },
    {
      "cell_type": "markdown",
      "metadata": {
        "id": "oS1Id3Wnn8-L",
        "colab_type": "text"
      },
      "source": [
        "There aren't any missing value except for orders data which we have handled."
      ]
    },
    {
      "cell_type": "markdown",
      "metadata": {
        "id": "SCQwb-9toJMd",
        "colab_type": "text"
      },
      "source": [
        "# DATA VISUALIZATION AND EXPLORARTORY DATA ANALYSIS"
      ]
    },
    {
      "cell_type": "code",
      "metadata": {
        "id": "F6cknWmAn2Y3",
        "colab_type": "code",
        "outputId": "2019b073-da88-4d8b-e7b8-dfc79a379650",
        "colab": {
          "base_uri": "https://localhost:8080/",
          "height": 301
        }
      },
      "source": [
        "sns.countplot(x='eval_set', data=orders, palette='hls')"
      ],
      "execution_count": 0,
      "outputs": [
        {
          "output_type": "execute_result",
          "data": {
            "text/plain": [
              "<matplotlib.axes._subplots.AxesSubplot at 0x7f84fda5f940>"
            ]
          },
          "metadata": {
            "tags": []
          },
          "execution_count": 21
        },
        {
          "output_type": "display_data",
          "data": {
            "image/png": "[encoded data removed]",
            "text/plain": [
              "<Figure size 432x288 with 1 Axes>"
            ]
          },
          "metadata": {
            "tags": []
          }
        }
      ]
    },
    {
      "cell_type": "code",
      "metadata": {
        "id": "OUO_A-1on2bl",
        "colab_type": "code",
        "outputId": "e1a0f02f-7b33-4d2b-8430-c69e5822b6b0",
        "colab": {
          "base_uri": "https://localhost:8080/",
          "height": 85
        }
      },
      "source": [
        "orders['eval_set'].value_counts()\n",
        "#From the above graph we can see that that test evaluation as 75000 samples on which we will obtain predictions"
      ],
      "execution_count": 0,
      "outputs": [
        {
          "output_type": "execute_result",
          "data": {
            "text/plain": [
              "prior    3008665\n",
              "train     131209\n",
              "test       75000\n",
              "Name: eval_set, dtype: int64"
            ]
          },
          "metadata": {
            "tags": []
          },
          "execution_count": 22
        }
      ]
    },
    {
      "cell_type": "code",
      "metadata": {
        "id": "iMQrcSj1n2hT",
        "colab_type": "code",
        "outputId": "4a24b361-d9d4-4c1a-93c7-e94723baa9d4",
        "colab": {
          "base_uri": "https://localhost:8080/",
          "height": 284
        }
      },
      "source": [
        "#distribution with respect to the hour of the day\n",
        "ax = sns.countplot(x=\"order_hour_of_day\", data=orders)"
      ],
      "execution_count": 0,
      "outputs": [
        {
          "output_type": "display_data",
          "data": {
            "image/png": "[encoded data removed]",
            "text/plain": [
              "<Figure size 432x288 with 1 Axes>"
            ]
          },
          "metadata": {
            "tags": []
          }
        }
      ]
    },
    {
      "cell_type": "code",
      "metadata": {
        "id": "vxTVCFzon2kL",
        "colab_type": "code",
        "outputId": "c12eb1a2-b985-4044-ec44-f1e1ace43e82",
        "colab": {
          "base_uri": "https://localhost:8080/",
          "height": 442
        }
      },
      "source": [
        "orders['order_hour_of_day'].value_counts()"
      ],
      "execution_count": 0,
      "outputs": [
        {
          "output_type": "execute_result",
          "data": {
            "text/plain": [
              "10    271768\n",
              "11    267812\n",
              "15    266375\n",
              "14    266007\n",
              "13    261087\n",
              "12    255846\n",
              "16    255459\n",
              "9     243452\n",
              "17    214208\n",
              "18    171133\n",
              "8     168744\n",
              "19    131383\n",
              "20     97619\n",
              "7      87227\n",
              "21     73471\n",
              "22     57605\n",
              "23     37507\n",
              "6      28956\n",
              "0      21265\n",
              "1      11636\n",
              "5       9023\n",
              "2       7010\n",
              "4       5164\n",
              "3       5117\n",
              "Name: order_hour_of_day, dtype: int64"
            ]
          },
          "metadata": {
            "tags": []
          },
          "execution_count": 24
        }
      ]
    },
    {
      "cell_type": "markdown",
      "metadata": {
        "id": "JDZmTMe3oZBn",
        "colab_type": "text"
      },
      "source": [
        "From graph and value above, we observe that the maximum number of orders is around 10 AM and 11AM followed by 3-4PM. The reason  behind it that these are peak hours for the order as people are active during this time. Meanwhile orders are least at 3-4AM sas it's late night sleeping time."
      ]
    },
    {
      "cell_type": "code",
      "metadata": {
        "id": "9EpEMj9qn2nR",
        "colab_type": "code",
        "outputId": "024b6259-3f0d-4179-c13d-40e3549a8cf6",
        "colab": {
          "base_uri": "https://localhost:8080/",
          "height": 301
        }
      },
      "source": [
        "sns.countplot(x=\"order_dow\", data=orders,palette='hls')"
      ],
      "execution_count": 0,
      "outputs": [
        {
          "output_type": "execute_result",
          "data": {
            "text/plain": [
              "<matplotlib.axes._subplots.AxesSubplot at 0x7f84f9e7f048>"
            ]
          },
          "metadata": {
            "tags": []
          },
          "execution_count": 25
        },
        {
          "output_type": "display_data",
          "data": {
            "image/png": "[encoded data removed]",
            "text/plain": [
              "<Figure size 432x288 with 1 Axes>"
            ]
          },
          "metadata": {
            "tags": []
          }
        }
      ]
    },
    {
      "cell_type": "code",
      "metadata": {
        "id": "xYpEdF1Dn2qe",
        "colab_type": "code",
        "outputId": "efe0c92c-2070-4f00-f57f-7bfe15400ec8",
        "colab": {
          "base_uri": "https://localhost:8080/",
          "height": 153
        }
      },
      "source": [
        "orders['order_dow'].value_counts()"
      ],
      "execution_count": 0,
      "outputs": [
        {
          "output_type": "execute_result",
          "data": {
            "text/plain": [
              "0    562388\n",
              "1    552505\n",
              "2    439399\n",
              "5    427295\n",
              "6    420070\n",
              "3    411314\n",
              "4    401903\n",
              "Name: order_dow, dtype: int64"
            ]
          },
          "metadata": {
            "tags": []
          },
          "execution_count": 26
        }
      ]
    },
    {
      "cell_type": "markdown",
      "metadata": {
        "id": "CC-DH-93H8xH",
        "colab_type": "text"
      },
      "source": [
        "From the graph and value above, we observed that order number is maximum on Sunday and Monday. This is mainly because people prefer shopping for groceries either at the start of the week or in the weekend. Meanwhile,it's least in the middle of the week which is thursday followed by wednesday.\n"
      ]
    },
    {
      "cell_type": "code",
      "metadata": {
        "id": "Jh8dEBkFJ3Lo",
        "colab_type": "code",
        "outputId": "ab373fdb-41af-4162-dc0e-99ba46b28c43",
        "colab": {
          "base_uri": "https://localhost:8080/",
          "height": 301
        }
      },
      "source": [
        "#plot of order for sunday\n",
        "sns.countplot(x='order_hour_of_day',data=orders[orders['order_dow']==0])"
      ],
      "execution_count": 0,
      "outputs": [
        {
          "output_type": "execute_result",
          "data": {
            "text/plain": [
              "<matplotlib.axes._subplots.AxesSubplot at 0x7f9873429b70>"
            ]
          },
          "metadata": {
            "tags": []
          },
          "execution_count": 17
        },
        {
          "output_type": "display_data",
          "data": {
            "image/png": "[encoded data removed]",
            "text/plain": [
              "<Figure size 432x288 with 1 Axes>"
            ]
          },
          "metadata": {
            "tags": []
          }
        }
      ]
    },
    {
      "cell_type": "markdown",
      "metadata": {
        "id": "AvH-JiKnKsI-",
        "colab_type": "text"
      },
      "source": [
        " We observe that  maximum number of orders are placed around 2-3pm."
      ]
    },
    {
      "cell_type": "code",
      "metadata": {
        "id": "EqgaE2LOKru-",
        "colab_type": "code",
        "outputId": "de6a7400-12fb-4c8d-e48c-1a7d78dcc89c",
        "colab": {
          "base_uri": "https://localhost:8080/",
          "height": 301
        }
      },
      "source": [
        "sns.countplot(x='order_hour_of_day',data=orders[orders['order_dow']==1])"
      ],
      "execution_count": 0,
      "outputs": [
        {
          "output_type": "execute_result",
          "data": {
            "text/plain": [
              "<matplotlib.axes._subplots.AxesSubplot at 0x7f84f9e01f28>"
            ]
          },
          "metadata": {
            "tags": []
          },
          "execution_count": 28
        },
        {
          "output_type": "display_data",
          "data": {
            "image/png": "[encoded data removed]",
            "text/plain": [
              "<Figure size 432x288 with 1 Axes>"
            ]
          },
          "metadata": {
            "tags": []
          }
        }
      ]
    },
    {
      "cell_type": "markdown",
      "metadata": {
        "id": "qZEAe3gFLI4a",
        "colab_type": "text"
      },
      "source": [
        "The peak is reached at 10AM. So most of the orders are placed in the morning on Monday from 9-11AM. Followed by 12-3pm.\n",
        "\n",
        "---\n",
        "\n"
      ]
    },
    {
      "cell_type": "markdown",
      "metadata": {
        "id": "wVt_DsTALkSF",
        "colab_type": "text"
      },
      "source": [
        "Next we get the orders in terms of hour of the day and day of the week in a single dataset by using the groupby option for better visualization"
      ]
    },
    {
      "cell_type": "code",
      "metadata": {
        "id": "mugKX1RJLjYG",
        "colab_type": "code",
        "outputId": "40d41b74-6024-49f8-da30-d71f69080fed",
        "colab": {
          "base_uri": "https://localhost:8080/",
          "height": 225
        }
      },
      "source": [
        "\n",
        "orders_group = orders.groupby([\"order_dow\", \"order_hour_of_day\"])[\"order_number\"].aggregate(\"count\").reset_index()\n",
        "\n",
        "orders_group.head(), orders_group.tail()"
      ],
      "execution_count": 0,
      "outputs": [
        {
          "output_type": "execute_result",
          "data": {
            "text/plain": [
              "(   order_dow  order_hour_of_day  order_number\n",
              " 0          0                  0          3690\n",
              " 1          0                  1          2245\n",
              " 2          0                  2          1296\n",
              " 3          0                  3           902\n",
              " 4          0                  4           756,\n",
              "      order_dow  order_hour_of_day  order_number\n",
              " 163          6                 19         17128\n",
              " 164          6                 20         12486\n",
              " 165          6                 21          9842\n",
              " 166          6                 22          7973\n",
              " 167          6                 23          5710)"
            ]
          },
          "metadata": {
            "tags": []
          },
          "execution_count": 78
        }
      ]
    },
    {
      "cell_type": "code",
      "metadata": {
        "id": "lsogyYMHMM2y",
        "colab_type": "code",
        "outputId": "2c6f8878-2cbc-481f-f3d3-8375614b7ef0",
        "colab": {
          "base_uri": "https://localhost:8080/",
          "height": 314
        }
      },
      "source": [
        "#pivot table \n",
        "orders_group = orders_group.pivot(index = 'order_dow', columns = 'order_hour_of_day', values = 'order_number')\n",
        "orders_group"
      ],
      "execution_count": 0,
      "outputs": [
        {
          "output_type": "execute_result",
          "data": {
            "text/html": [
              "<div>\n",
              "<style scoped>\n",
              "    .dataframe tbody tr th:only-of-type {\n",
              "        vertical-align: middle;\n",
              "    }\n",
              "\n",
              "    .dataframe tbody tr th {\n",
              "        vertical-align: top;\n",
              "    }\n",
              "\n",
              "    .dataframe thead th {\n",
              "        text-align: right;\n",
              "    }\n",
              "</style>\n",
              "<table border=\"1\" class=\"dataframe\">\n",
              "  <thead>\n",
              "    <tr style=\"text-align: right;\">\n",
              "      <th>order_hour_of_day</th>\n",
              "      <th>0</th>\n",
              "      <th>1</th>\n",
              "      <th>2</th>\n",
              "      <th>3</th>\n",
              "      <th>4</th>\n",
              "      <th>5</th>\n",
              "      <th>6</th>\n",
              "      <th>7</th>\n",
              "      <th>8</th>\n",
              "      <th>9</th>\n",
              "      <th>10</th>\n",
              "      <th>11</th>\n",
              "      <th>12</th>\n",
              "      <th>13</th>\n",
              "      <th>14</th>\n",
              "      <th>15</th>\n",
              "      <th>16</th>\n",
              "      <th>17</th>\n",
              "      <th>18</th>\n",
              "      <th>19</th>\n",
              "      <th>20</th>\n",
              "      <th>21</th>\n",
              "      <th>22</th>\n",
              "      <th>23</th>\n",
              "    </tr>\n",
              "    <tr>\n",
              "      <th>order_dow</th>\n",
              "      <th></th>\n",
              "      <th></th>\n",
              "      <th></th>\n",
              "      <th></th>\n",
              "      <th></th>\n",
              "      <th></th>\n",
              "      <th></th>\n",
              "      <th></th>\n",
              "      <th></th>\n",
              "      <th></th>\n",
              "      <th></th>\n",
              "      <th></th>\n",
              "      <th></th>\n",
              "      <th></th>\n",
              "      <th></th>\n",
              "      <th></th>\n",
              "      <th></th>\n",
              "      <th></th>\n",
              "      <th></th>\n",
              "      <th></th>\n",
              "      <th></th>\n",
              "      <th></th>\n",
              "      <th></th>\n",
              "      <th></th>\n",
              "    </tr>\n",
              "  </thead>\n",
              "  <tbody>\n",
              "    <tr>\n",
              "      <th>0</th>\n",
              "      <td>3690</td>\n",
              "      <td>2245</td>\n",
              "      <td>1296</td>\n",
              "      <td>902</td>\n",
              "      <td>756</td>\n",
              "      <td>1093</td>\n",
              "      <td>3143</td>\n",
              "      <td>11762</td>\n",
              "      <td>26514</td>\n",
              "      <td>38363</td>\n",
              "      <td>45398</td>\n",
              "      <td>47806</td>\n",
              "      <td>48035</td>\n",
              "      <td>50372</td>\n",
              "      <td>51038</td>\n",
              "      <td>50427</td>\n",
              "      <td>46136</td>\n",
              "      <td>37056</td>\n",
              "      <td>27588</td>\n",
              "      <td>21126</td>\n",
              "      <td>17062</td>\n",
              "      <td>13577</td>\n",
              "      <td>10543</td>\n",
              "      <td>6460</td>\n",
              "    </tr>\n",
              "    <tr>\n",
              "      <th>1</th>\n",
              "      <td>3429</td>\n",
              "      <td>1723</td>\n",
              "      <td>1020</td>\n",
              "      <td>696</td>\n",
              "      <td>756</td>\n",
              "      <td>1523</td>\n",
              "      <td>5078</td>\n",
              "      <td>15725</td>\n",
              "      <td>32382</td>\n",
              "      <td>49136</td>\n",
              "      <td>52679</td>\n",
              "      <td>48611</td>\n",
              "      <td>44126</td>\n",
              "      <td>43894</td>\n",
              "      <td>43986</td>\n",
              "      <td>43590</td>\n",
              "      <td>41930</td>\n",
              "      <td>34407</td>\n",
              "      <td>27046</td>\n",
              "      <td>20687</td>\n",
              "      <td>15223</td>\n",
              "      <td>11196</td>\n",
              "      <td>8417</td>\n",
              "      <td>5245</td>\n",
              "    </tr>\n",
              "    <tr>\n",
              "      <th>2</th>\n",
              "      <td>2843</td>\n",
              "      <td>1472</td>\n",
              "      <td>878</td>\n",
              "      <td>683</td>\n",
              "      <td>696</td>\n",
              "      <td>1317</td>\n",
              "      <td>4511</td>\n",
              "      <td>12606</td>\n",
              "      <td>23343</td>\n",
              "      <td>34351</td>\n",
              "      <td>36997</td>\n",
              "      <td>35784</td>\n",
              "      <td>33626</td>\n",
              "      <td>34455</td>\n",
              "      <td>34946</td>\n",
              "      <td>35249</td>\n",
              "      <td>35239</td>\n",
              "      <td>30092</td>\n",
              "      <td>24797</td>\n",
              "      <td>18794</td>\n",
              "      <td>14045</td>\n",
              "      <td>10032</td>\n",
              "      <td>7649</td>\n",
              "      <td>4994</td>\n",
              "    </tr>\n",
              "    <tr>\n",
              "      <th>3</th>\n",
              "      <td>2760</td>\n",
              "      <td>1398</td>\n",
              "      <td>893</td>\n",
              "      <td>608</td>\n",
              "      <td>676</td>\n",
              "      <td>1279</td>\n",
              "      <td>4345</td>\n",
              "      <td>11775</td>\n",
              "      <td>21338</td>\n",
              "      <td>30578</td>\n",
              "      <td>34032</td>\n",
              "      <td>33203</td>\n",
              "      <td>31456</td>\n",
              "      <td>32141</td>\n",
              "      <td>32665</td>\n",
              "      <td>33878</td>\n",
              "      <td>33156</td>\n",
              "      <td>28483</td>\n",
              "      <td>23399</td>\n",
              "      <td>17991</td>\n",
              "      <td>12977</td>\n",
              "      <td>9681</td>\n",
              "      <td>7735</td>\n",
              "      <td>4867</td>\n",
              "    </tr>\n",
              "    <tr>\n",
              "      <th>4</th>\n",
              "      <td>2476</td>\n",
              "      <td>1415</td>\n",
              "      <td>841</td>\n",
              "      <td>644</td>\n",
              "      <td>695</td>\n",
              "      <td>1253</td>\n",
              "      <td>4184</td>\n",
              "      <td>11893</td>\n",
              "      <td>20682</td>\n",
              "      <td>29670</td>\n",
              "      <td>33070</td>\n",
              "      <td>31969</td>\n",
              "      <td>30337</td>\n",
              "      <td>30924</td>\n",
              "      <td>31696</td>\n",
              "      <td>32244</td>\n",
              "      <td>32034</td>\n",
              "      <td>27697</td>\n",
              "      <td>22935</td>\n",
              "      <td>18140</td>\n",
              "      <td>13326</td>\n",
              "      <td>10198</td>\n",
              "      <td>8275</td>\n",
              "      <td>5305</td>\n",
              "    </tr>\n",
              "    <tr>\n",
              "      <th>5</th>\n",
              "      <td>2987</td>\n",
              "      <td>1568</td>\n",
              "      <td>952</td>\n",
              "      <td>780</td>\n",
              "      <td>846</td>\n",
              "      <td>1502</td>\n",
              "      <td>4632</td>\n",
              "      <td>12770</td>\n",
              "      <td>22789</td>\n",
              "      <td>32342</td>\n",
              "      <td>36195</td>\n",
              "      <td>35816</td>\n",
              "      <td>33593</td>\n",
              "      <td>34185</td>\n",
              "      <td>35351</td>\n",
              "      <td>35379</td>\n",
              "      <td>33770</td>\n",
              "      <td>28131</td>\n",
              "      <td>22806</td>\n",
              "      <td>17517</td>\n",
              "      <td>12500</td>\n",
              "      <td>8945</td>\n",
              "      <td>7013</td>\n",
              "      <td>4926</td>\n",
              "    </tr>\n",
              "    <tr>\n",
              "      <th>6</th>\n",
              "      <td>3080</td>\n",
              "      <td>1815</td>\n",
              "      <td>1130</td>\n",
              "      <td>804</td>\n",
              "      <td>739</td>\n",
              "      <td>1056</td>\n",
              "      <td>3063</td>\n",
              "      <td>10696</td>\n",
              "      <td>21696</td>\n",
              "      <td>29012</td>\n",
              "      <td>33397</td>\n",
              "      <td>34623</td>\n",
              "      <td>34673</td>\n",
              "      <td>35116</td>\n",
              "      <td>36325</td>\n",
              "      <td>35608</td>\n",
              "      <td>33194</td>\n",
              "      <td>28342</td>\n",
              "      <td>22562</td>\n",
              "      <td>17128</td>\n",
              "      <td>12486</td>\n",
              "      <td>9842</td>\n",
              "      <td>7973</td>\n",
              "      <td>5710</td>\n",
              "    </tr>\n",
              "  </tbody>\n",
              "</table>\n",
              "</div>"
            ],
            "text/plain": [
              "order_hour_of_day    0     1     2    3    4   ...     19     20     21     22    23\n",
              "order_dow                                      ...                                  \n",
              "0                  3690  2245  1296  902  756  ...  21126  17062  13577  10543  6460\n",
              "1                  3429  1723  1020  696  756  ...  20687  15223  11196   8417  5245\n",
              "2                  2843  1472   878  683  696  ...  18794  14045  10032   7649  4994\n",
              "3                  2760  1398   893  608  676  ...  17991  12977   9681   7735  4867\n",
              "4                  2476  1415   841  644  695  ...  18140  13326  10198   8275  5305\n",
              "5                  2987  1568   952  780  846  ...  17517  12500   8945   7013  4926\n",
              "6                  3080  1815  1130  804  739  ...  17128  12486   9842   7973  5710\n",
              "\n",
              "[7 rows x 24 columns]"
            ]
          },
          "metadata": {
            "tags": []
          },
          "execution_count": 79
        }
      ]
    },
    {
      "cell_type": "code",
      "metadata": {
        "id": "xFUfekfoMYzQ",
        "colab_type": "code",
        "outputId": "64c20a13-37d5-46fb-8aee-430dc61290af",
        "colab": {
          "base_uri": "https://localhost:8080/",
          "height": 299
        }
      },
      "source": [
        "sns.heatmap(orders_group)\n",
        "plt.title(\"Frequency of Day of week Vs Hour of day\")\n",
        "plt.show()"
      ],
      "execution_count": 0,
      "outputs": [
        {
          "output_type": "display_data",
          "data": {
            "image/png": "[encoded data removed]",
            "text/plain": [
              "<Figure size 432x288 with 2 Axes>"
            ]
          },
          "metadata": {
            "tags": []
          }
        }
      ]
    },
    {
      "cell_type": "code",
      "metadata": {
        "id": "TSZ_JAFzMlyY",
        "colab_type": "code",
        "outputId": "870cf351-4cfe-4a50-9486-47d585a3ae5c",
        "colab": {
          "base_uri": "https://localhost:8080/",
          "height": 627
        }
      },
      "source": [
        "plt.figure(figsize=(12,10))\n",
        "sns.countplot(x=\"days_since_prior_order\", data=orders)\n",
        "plt.ylabel('Count', fontsize=14)\n",
        "plt.xlabel('Days since prior order', fontsize=14)\n",
        "plt.title(\"Frequency distribution by days since prior order\", fontsize=16)\n",
        "plt.show()"
      ],
      "execution_count": 0,
      "outputs": [
        {
          "output_type": "display_data",
          "data": {
            "image/png": "[encoded data removed]",
            "text/plain": [
              "<Figure size 864x720 with 1 Axes>"
            ]
          },
          "metadata": {
            "tags": []
          }
        }
      ]
    },
    {
      "cell_type": "markdown",
      "metadata": {
        "id": "B345CdPcM-QI",
        "colab_type": "text"
      },
      "source": [
        "We observe that 7th day  we have a spike followed  by a small peak at days. Then there is spike on 14,21 and 28 days. This indicates that every 7 days or weekly is the order frequency. Also,there's a huge peak at the end of the month showing there's a monthly peak."
      ]
    },
    {
      "cell_type": "code",
      "metadata": {
        "id": "5-dg6LktP2Qg",
        "colab_type": "code",
        "outputId": "e2460718-0c3a-4787-f195-17f1ccf9b84c",
        "colab": {
          "base_uri": "https://localhost:8080/",
          "height": 35
        }
      },
      "source": [
        "# percentage of re-orders in orders_products_prior\n",
        "order_products_prior.reordered.sum() / len(order_products_prior)"
      ],
      "execution_count": 0,
      "outputs": [
        {
          "output_type": "execute_result",
          "data": {
            "text/plain": [
              "0.5896974667922161"
            ]
          },
          "metadata": {
            "tags": []
          },
          "execution_count": 81
        }
      ]
    },
    {
      "cell_type": "markdown",
      "metadata": {
        "id": "2jNXSZGeP-FO",
        "colab_type": "text"
      },
      "source": [
        "59% of the products are re-ordered from the prior dataset"
      ]
    },
    {
      "cell_type": "code",
      "metadata": {
        "id": "jqCO3SzTQDg0",
        "colab_type": "code",
        "outputId": "9d34abd6-ddf2-43bd-a5b0-496146bb448d",
        "colab": {
          "base_uri": "https://localhost:8080/",
          "height": 35
        }
      },
      "source": [
        "# percentage of re-orders in orders_products_train\n",
        "order_products_train.reordered.sum() / len(order_products_train)"
      ],
      "execution_count": 0,
      "outputs": [
        {
          "output_type": "execute_result",
          "data": {
            "text/plain": [
              "0.5985944127509629"
            ]
          },
          "metadata": {
            "tags": []
          },
          "execution_count": 82
        }
      ]
    },
    {
      "cell_type": "markdown",
      "metadata": {
        "id": "U9-TOzfDQK6b",
        "colab_type": "text"
      },
      "source": [
        "\n",
        "60% of the products are re-ordered from the train dataset"
      ]
    },
    {
      "cell_type": "code",
      "metadata": {
        "id": "ft4m2frTQR4Q",
        "colab_type": "code",
        "colab": {}
      },
      "source": [
        "#merging order_products_prior and products\n",
        "op_prior_merged = pd.merge(order_products_prior, products, on='product_id', how='left')\n"
      ],
      "execution_count": 0,
      "outputs": []
    },
    {
      "cell_type": "code",
      "metadata": {
        "id": "lDmENAk7QdH0",
        "colab_type": "code",
        "colab": {}
      },
      "source": [
        "#merging op_merged with aisles\n",
        "op_prior_merged = pd.merge(op_prior_merged, aisles, on='aisle_id', how='left')"
      ],
      "execution_count": 0,
      "outputs": []
    },
    {
      "cell_type": "code",
      "metadata": {
        "id": "7W8dFQJlQjhg",
        "colab_type": "code",
        "outputId": "d03fa9f9-812f-4a35-b57d-c4e0c6d78122",
        "colab": {
          "base_uri": "https://localhost:8080/",
          "height": 202
        }
      },
      "source": [
        "\n",
        "#merging the new op_prior_merged with departments\n",
        "op_prior_merged= pd.merge(op_prior_merged, departments, on='department_id', how='left')\n",
        "op_prior_merged.head()"
      ],
      "execution_count": 0,
      "outputs": [
        {
          "output_type": "execute_result",
          "data": {
            "text/html": [
              "<div>\n",
              "<style scoped>\n",
              "    .dataframe tbody tr th:only-of-type {\n",
              "        vertical-align: middle;\n",
              "    }\n",
              "\n",
              "    .dataframe tbody tr th {\n",
              "        vertical-align: top;\n",
              "    }\n",
              "\n",
              "    .dataframe thead th {\n",
              "        text-align: right;\n",
              "    }\n",
              "</style>\n",
              "<table border=\"1\" class=\"dataframe\">\n",
              "  <thead>\n",
              "    <tr style=\"text-align: right;\">\n",
              "      <th></th>\n",
              "      <th>order_id</th>\n",
              "      <th>product_id</th>\n",
              "      <th>add_to_cart_order</th>\n",
              "      <th>reordered</th>\n",
              "      <th>product_name</th>\n",
              "      <th>aisle_id</th>\n",
              "      <th>department_id</th>\n",
              "      <th>aisle</th>\n",
              "      <th>department_x</th>\n",
              "      <th>department_y</th>\n",
              "    </tr>\n",
              "  </thead>\n",
              "  <tbody>\n",
              "    <tr>\n",
              "      <th>0</th>\n",
              "      <td>2</td>\n",
              "      <td>33120</td>\n",
              "      <td>1</td>\n",
              "      <td>1</td>\n",
              "      <td>Organic Egg Whites</td>\n",
              "      <td>86</td>\n",
              "      <td>16</td>\n",
              "      <td>eggs</td>\n",
              "      <td>dairy eggs</td>\n",
              "      <td>dairy eggs</td>\n",
              "    </tr>\n",
              "    <tr>\n",
              "      <th>1</th>\n",
              "      <td>2</td>\n",
              "      <td>28985</td>\n",
              "      <td>2</td>\n",
              "      <td>1</td>\n",
              "      <td>Michigan Organic Kale</td>\n",
              "      <td>83</td>\n",
              "      <td>4</td>\n",
              "      <td>fresh vegetables</td>\n",
              "      <td>produce</td>\n",
              "      <td>produce</td>\n",
              "    </tr>\n",
              "    <tr>\n",
              "      <th>2</th>\n",
              "      <td>2</td>\n",
              "      <td>9327</td>\n",
              "      <td>3</td>\n",
              "      <td>0</td>\n",
              "      <td>Garlic Powder</td>\n",
              "      <td>104</td>\n",
              "      <td>13</td>\n",
              "      <td>spices seasonings</td>\n",
              "      <td>pantry</td>\n",
              "      <td>pantry</td>\n",
              "    </tr>\n",
              "    <tr>\n",
              "      <th>3</th>\n",
              "      <td>2</td>\n",
              "      <td>45918</td>\n",
              "      <td>4</td>\n",
              "      <td>1</td>\n",
              "      <td>Coconut Butter</td>\n",
              "      <td>19</td>\n",
              "      <td>13</td>\n",
              "      <td>oils vinegars</td>\n",
              "      <td>pantry</td>\n",
              "      <td>pantry</td>\n",
              "    </tr>\n",
              "    <tr>\n",
              "      <th>4</th>\n",
              "      <td>2</td>\n",
              "      <td>30035</td>\n",
              "      <td>5</td>\n",
              "      <td>0</td>\n",
              "      <td>Natural Sweetener</td>\n",
              "      <td>17</td>\n",
              "      <td>13</td>\n",
              "      <td>baking ingredients</td>\n",
              "      <td>pantry</td>\n",
              "      <td>pantry</td>\n",
              "    </tr>\n",
              "  </tbody>\n",
              "</table>\n",
              "</div>"
            ],
            "text/plain": [
              "   order_id  product_id  ...  department_x  department_y\n",
              "0         2       33120  ...    dairy eggs    dairy eggs\n",
              "1         2       28985  ...       produce       produce\n",
              "2         2        9327  ...        pantry        pantry\n",
              "3         2       45918  ...        pantry        pantry\n",
              "4         2       30035  ...        pantry        pantry\n",
              "\n",
              "[5 rows x 10 columns]"
            ]
          },
          "metadata": {
            "tags": []
          },
          "execution_count": 86
        }
      ]
    },
    {
      "cell_type": "code",
      "metadata": {
        "id": "_63xR0cEQpGS",
        "colab_type": "code",
        "outputId": "67e2349c-4cd5-4505-e41e-cf953d783aba",
        "colab": {
          "base_uri": "https://localhost:8080/",
          "height": 202
        }
      },
      "source": [
        "count_products = op_prior_merged['product_name'].value_counts().reset_index().head(20)\n",
        "count_products.columns=['product_name','frequency']\n",
        "count_products.head()"
      ],
      "execution_count": 0,
      "outputs": [
        {
          "output_type": "execute_result",
          "data": {
            "text/html": [
              "<div>\n",
              "<style scoped>\n",
              "    .dataframe tbody tr th:only-of-type {\n",
              "        vertical-align: middle;\n",
              "    }\n",
              "\n",
              "    .dataframe tbody tr th {\n",
              "        vertical-align: top;\n",
              "    }\n",
              "\n",
              "    .dataframe thead th {\n",
              "        text-align: right;\n",
              "    }\n",
              "</style>\n",
              "<table border=\"1\" class=\"dataframe\">\n",
              "  <thead>\n",
              "    <tr style=\"text-align: right;\">\n",
              "      <th></th>\n",
              "      <th>product_name</th>\n",
              "      <th>frequency</th>\n",
              "    </tr>\n",
              "  </thead>\n",
              "  <tbody>\n",
              "    <tr>\n",
              "      <th>0</th>\n",
              "      <td>Banana</td>\n",
              "      <td>472565</td>\n",
              "    </tr>\n",
              "    <tr>\n",
              "      <th>1</th>\n",
              "      <td>Bag of Organic Bananas</td>\n",
              "      <td>379450</td>\n",
              "    </tr>\n",
              "    <tr>\n",
              "      <th>2</th>\n",
              "      <td>Organic Strawberries</td>\n",
              "      <td>264683</td>\n",
              "    </tr>\n",
              "    <tr>\n",
              "      <th>3</th>\n",
              "      <td>Organic Baby Spinach</td>\n",
              "      <td>241921</td>\n",
              "    </tr>\n",
              "    <tr>\n",
              "      <th>4</th>\n",
              "      <td>Organic Hass Avocado</td>\n",
              "      <td>213584</td>\n",
              "    </tr>\n",
              "  </tbody>\n",
              "</table>\n",
              "</div>"
            ],
            "text/plain": [
              "             product_name  frequency\n",
              "0                  Banana     472565\n",
              "1  Bag of Organic Bananas     379450\n",
              "2    Organic Strawberries     264683\n",
              "3    Organic Baby Spinach     241921\n",
              "4    Organic Hass Avocado     213584"
            ]
          },
          "metadata": {
            "tags": []
          },
          "execution_count": 87
        }
      ]
    },
    {
      "cell_type": "code",
      "metadata": {
        "id": "rYqE067BQ6yW",
        "colab_type": "code",
        "outputId": "3b3c07b3-5320-41b4-b9b4-0bfef38c78be",
        "colab": {
          "base_uri": "https://localhost:8080/",
          "height": 402
        }
      },
      "source": [
        "plt.figure(figsize=(8,4))\n",
        "sns.barplot(count_products.product_name, count_products.frequency, alpha=0.8)\n",
        "plt.ylabel('Frequencies', fontsize=14)\n",
        "plt.xlabel('Products', fontsize=10)\n",
        "plt.xticks(rotation='vertical')\n",
        "plt.show()"
      ],
      "execution_count": 0,
      "outputs": [
        {
          "output_type": "display_data",
          "data": {
            "image/png": "[encoded data removed]",
            "text/plain": [
              "<Figure size 576x288 with 1 Axes>"
            ]
          },
          "metadata": {
            "tags": []
          }
        }
      ]
    },
    {
      "cell_type": "markdown",
      "metadata": {
        "id": "_pAjiUCXRMGi",
        "colab_type": "text"
      },
      "source": [
        "The most ordered products are fruits like bananas, strawberries and organic products."
      ]
    },
    {
      "cell_type": "code",
      "metadata": {
        "id": "5yOPGpDpRRRB",
        "colab_type": "code",
        "outputId": "abfbaca5-52fb-4131-c417-87f5674aa78b",
        "colab": {
          "base_uri": "https://localhost:8080/",
          "height": 381
        }
      },
      "source": [
        "count_aisles = op_prior_merged['aisle'].value_counts().head(20)\n",
        "count_aisles"
      ],
      "execution_count": 0,
      "outputs": [
        {
          "output_type": "execute_result",
          "data": {
            "text/plain": [
              "fresh fruits                     3642188\n",
              "fresh vegetables                 3418021\n",
              "packaged vegetables fruits       1765313\n",
              "yogurt                           1452343\n",
              "packaged cheese                   979763\n",
              "milk                              891015\n",
              "water seltzer sparkling water     841533\n",
              "chips pretzels                    722470\n",
              "soy lactosefree                   638253\n",
              "bread                             584834\n",
              "refrigerated                      575881\n",
              "frozen produce                    522654\n",
              "ice cream ice                     498425\n",
              "crackers                          458838\n",
              "energy granola bars               456386\n",
              "eggs                              452134\n",
              "lunch meat                        395130\n",
              "frozen meals                      390299\n",
              "baby food formula                 382456\n",
              "fresh herbs                       377741\n",
              "Name: aisle, dtype: int64"
            ]
          },
          "metadata": {
            "tags": []
          },
          "execution_count": 88
        }
      ]
    },
    {
      "cell_type": "code",
      "metadata": {
        "id": "mYqI3x-pRX7y",
        "colab_type": "code",
        "outputId": "3145d10a-1e48-4dbf-e662-8b381ad53e3e",
        "colab": {
          "base_uri": "https://localhost:8080/",
          "height": 418
        }
      },
      "source": [
        "plt.figure(figsize=(8,4))\n",
        "sns.barplot(count_aisles.index, count_aisles.values, alpha=0.8)\n",
        "plt.ylabel('Frequencies', fontsize=14)\n",
        "plt.xlabel('Aisle', fontsize=10)\n",
        "plt.xticks(rotation='vertical')\n",
        "plt.show()"
      ],
      "execution_count": 0,
      "outputs": [
        {
          "output_type": "display_data",
          "data": {
            "image/png": "[encoded data removed]",
            "text/plain": [
              "<Figure size 576x288 with 1 Axes>"
            ]
          },
          "metadata": {
            "tags": []
          }
        }
      ]
    },
    {
      "cell_type": "markdown",
      "metadata": {
        "id": "nkJbnBv9RdW0",
        "colab_type": "text"
      },
      "source": [
        "We can see that fresh food and vegetables aisles are most visited"
      ]
    },
    {
      "cell_type": "code",
      "metadata": {
        "id": "c-zOu5AKRhuD",
        "colab_type": "code",
        "outputId": "ca7a383a-602b-4534-899e-46f7972c7579",
        "colab": {
          "base_uri": "https://localhost:8080/",
          "height": 202
        }
      },
      "source": [
        "#merge order_product_prior with orders \n",
        "merged_reorders = pd.merge(order_products_prior, orders, on='order_id', how='left')\n",
        "merged_reorders.head()"
      ],
      "execution_count": 0,
      "outputs": [
        {
          "output_type": "execute_result",
          "data": {
            "text/html": [
              "<div>\n",
              "<style scoped>\n",
              "    .dataframe tbody tr th:only-of-type {\n",
              "        vertical-align: middle;\n",
              "    }\n",
              "\n",
              "    .dataframe tbody tr th {\n",
              "        vertical-align: top;\n",
              "    }\n",
              "\n",
              "    .dataframe thead th {\n",
              "        text-align: right;\n",
              "    }\n",
              "</style>\n",
              "<table border=\"1\" class=\"dataframe\">\n",
              "  <thead>\n",
              "    <tr style=\"text-align: right;\">\n",
              "      <th></th>\n",
              "      <th>order_id</th>\n",
              "      <th>product_id</th>\n",
              "      <th>add_to_cart_order</th>\n",
              "      <th>reordered</th>\n",
              "      <th>user_id</th>\n",
              "      <th>eval_set</th>\n",
              "      <th>order_number</th>\n",
              "      <th>order_dow</th>\n",
              "      <th>order_hour_of_day</th>\n",
              "      <th>days_since_prior_order</th>\n",
              "    </tr>\n",
              "  </thead>\n",
              "  <tbody>\n",
              "    <tr>\n",
              "      <th>0</th>\n",
              "      <td>2</td>\n",
              "      <td>33120</td>\n",
              "      <td>1</td>\n",
              "      <td>1</td>\n",
              "      <td>202279.0</td>\n",
              "      <td>prior</td>\n",
              "      <td>3.0</td>\n",
              "      <td>5.0</td>\n",
              "      <td>9.0</td>\n",
              "      <td>8.0</td>\n",
              "    </tr>\n",
              "    <tr>\n",
              "      <th>1</th>\n",
              "      <td>2</td>\n",
              "      <td>28985</td>\n",
              "      <td>2</td>\n",
              "      <td>1</td>\n",
              "      <td>202279.0</td>\n",
              "      <td>prior</td>\n",
              "      <td>3.0</td>\n",
              "      <td>5.0</td>\n",
              "      <td>9.0</td>\n",
              "      <td>8.0</td>\n",
              "    </tr>\n",
              "    <tr>\n",
              "      <th>2</th>\n",
              "      <td>2</td>\n",
              "      <td>9327</td>\n",
              "      <td>3</td>\n",
              "      <td>0</td>\n",
              "      <td>202279.0</td>\n",
              "      <td>prior</td>\n",
              "      <td>3.0</td>\n",
              "      <td>5.0</td>\n",
              "      <td>9.0</td>\n",
              "      <td>8.0</td>\n",
              "    </tr>\n",
              "    <tr>\n",
              "      <th>3</th>\n",
              "      <td>2</td>\n",
              "      <td>45918</td>\n",
              "      <td>4</td>\n",
              "      <td>1</td>\n",
              "      <td>202279.0</td>\n",
              "      <td>prior</td>\n",
              "      <td>3.0</td>\n",
              "      <td>5.0</td>\n",
              "      <td>9.0</td>\n",
              "      <td>8.0</td>\n",
              "    </tr>\n",
              "    <tr>\n",
              "      <th>4</th>\n",
              "      <td>2</td>\n",
              "      <td>30035</td>\n",
              "      <td>5</td>\n",
              "      <td>0</td>\n",
              "      <td>202279.0</td>\n",
              "      <td>prior</td>\n",
              "      <td>3.0</td>\n",
              "      <td>5.0</td>\n",
              "      <td>9.0</td>\n",
              "      <td>8.0</td>\n",
              "    </tr>\n",
              "  </tbody>\n",
              "</table>\n",
              "</div>"
            ],
            "text/plain": [
              "   order_id  product_id  ...  order_hour_of_day  days_since_prior_order\n",
              "0         2       33120  ...                9.0                     8.0\n",
              "1         2       28985  ...                9.0                     8.0\n",
              "2         2        9327  ...                9.0                     8.0\n",
              "3         2       45918  ...                9.0                     8.0\n",
              "4         2       30035  ...                9.0                     8.0\n",
              "\n",
              "[5 rows x 10 columns]"
            ]
          },
          "metadata": {
            "tags": []
          },
          "execution_count": 89
        }
      ]
    },
    {
      "cell_type": "code",
      "metadata": {
        "id": "PPt7_sWySBwf",
        "colab_type": "code",
        "outputId": "2beec16c-d128-4864-809a-9eb6487df0c6",
        "colab": {
          "base_uri": "https://localhost:8080/",
          "height": 69
        }
      },
      "source": [
        "count_reordered = merged_reorders['reordered'].value_counts()\n",
        "count_reordered"
      ],
      "execution_count": 0,
      "outputs": [
        {
          "output_type": "execute_result",
          "data": {
            "text/plain": [
              "1    19126536\n",
              "0    13307953\n",
              "Name: reordered, dtype: int64"
            ]
          },
          "metadata": {
            "tags": []
          },
          "execution_count": 90
        }
      ]
    },
    {
      "cell_type": "code",
      "metadata": {
        "id": "O5roWaTxSEtU",
        "colab_type": "code",
        "outputId": "38dd9a3f-7730-4cbd-b07a-60e35aadb9b2",
        "colab": {
          "base_uri": "https://localhost:8080/",
          "height": 719
        }
      },
      "source": [
        "plt.figure(figsize=(6,12))\n",
        "sns.barplot(count_reordered.index, count_reordered.values)\n",
        "plt.ylabel('Frequency', fontsize=14)\n",
        "plt.xlabel('Reordered', fontsize=4)\n",
        "plt.show()"
      ],
      "execution_count": 0,
      "outputs": [
        {
          "output_type": "display_data",
          "data": {
            "image/png": "[encoded data removed]",
            "text/plain": [
              "<Figure size 432x864 with 1 Axes>"
            ]
          },
          "metadata": {
            "tags": []
          }
        }
      ]
    },
    {
      "cell_type": "code",
      "metadata": {
        "id": "yJqa6odFWrqD",
        "colab_type": "code",
        "outputId": "b009e35b-417f-415f-b9fb-18820e96491a",
        "colab": {
          "base_uri": "https://localhost:8080/",
          "height": 263
        }
      },
      "source": [
        "#finding reorders against day of the week\n",
        "grouped_reorders_dow = merged_reorders.groupby([\"order_dow\"])[\"reordered\"].aggregate(\"count\").reset_index()\n",
        "grouped_reorders_dow"
      ],
      "execution_count": 0,
      "outputs": [
        {
          "output_type": "execute_result",
          "data": {
            "text/html": [
              "<div>\n",
              "<style scoped>\n",
              "    .dataframe tbody tr th:only-of-type {\n",
              "        vertical-align: middle;\n",
              "    }\n",
              "\n",
              "    .dataframe tbody tr th {\n",
              "        vertical-align: top;\n",
              "    }\n",
              "\n",
              "    .dataframe thead th {\n",
              "        text-align: right;\n",
              "    }\n",
              "</style>\n",
              "<table border=\"1\" class=\"dataframe\">\n",
              "  <thead>\n",
              "    <tr style=\"text-align: right;\">\n",
              "      <th></th>\n",
              "      <th>order_dow</th>\n",
              "      <th>reordered</th>\n",
              "    </tr>\n",
              "  </thead>\n",
              "  <tbody>\n",
              "    <tr>\n",
              "      <th>0</th>\n",
              "      <td>0.0</td>\n",
              "      <td>5784174</td>\n",
              "    </tr>\n",
              "    <tr>\n",
              "      <th>1</th>\n",
              "      <td>1.0</td>\n",
              "      <td>5308998</td>\n",
              "    </tr>\n",
              "    <tr>\n",
              "      <th>2</th>\n",
              "      <td>2.0</td>\n",
              "      <td>3951279</td>\n",
              "    </tr>\n",
              "    <tr>\n",
              "      <th>3</th>\n",
              "      <td>3.0</td>\n",
              "      <td>3603910</td>\n",
              "    </tr>\n",
              "    <tr>\n",
              "      <th>4</th>\n",
              "      <td>4.0</td>\n",
              "      <td>3557740</td>\n",
              "    </tr>\n",
              "    <tr>\n",
              "      <th>5</th>\n",
              "      <td>5.0</td>\n",
              "      <td>3955823</td>\n",
              "    </tr>\n",
              "    <tr>\n",
              "      <th>6</th>\n",
              "      <td>6.0</td>\n",
              "      <td>4194497</td>\n",
              "    </tr>\n",
              "  </tbody>\n",
              "</table>\n",
              "</div>"
            ],
            "text/plain": [
              "   order_dow  reordered\n",
              "0        0.0    5784174\n",
              "1        1.0    5308998\n",
              "2        2.0    3951279\n",
              "3        3.0    3603910\n",
              "4        4.0    3557740\n",
              "5        5.0    3955823\n",
              "6        6.0    4194497"
            ]
          },
          "metadata": {
            "tags": []
          },
          "execution_count": 91
        }
      ]
    },
    {
      "cell_type": "code",
      "metadata": {
        "id": "yfp4Jp2bWuO8",
        "colab_type": "code",
        "outputId": "3448ce98-13ed-452c-e314-972d565e627f",
        "colab": {
          "base_uri": "https://localhost:8080/",
          "height": 631
        }
      },
      "source": [
        "plt.figure(figsize=(6,10))\n",
        "sns.barplot(grouped_reorders_dow.order_dow, grouped_reorders_dow.reordered, alpha=0.8)\n",
        "plt.ylabel('Total number of reordered products', fontsize=14)\n",
        "plt.xlabel('order_day_of_week', fontsize=14)\n",
        "plt.title('Day-wise Distribution of Reordered items', fontsize=20)\n",
        "\n",
        "plt.show()"
      ],
      "execution_count": 0,
      "outputs": [
        {
          "output_type": "display_data",
          "data": {
            "image/png": "[encoded data removed]",
            "text/plain": [
              "<Figure size 432x720 with 1 Axes>"
            ]
          },
          "metadata": {
            "tags": []
          }
        }
      ]
    },
    {
      "cell_type": "markdown",
      "metadata": {
        "id": "EXBZNas2Wwhp",
        "colab_type": "text"
      },
      "source": [
        "Most products are reordered on Sunday followed by Monday and Saturday. Which follows the same trend as orders placed over the week."
      ]
    },
    {
      "cell_type": "code",
      "metadata": {
        "id": "sjHuJjmpXCe4",
        "colab_type": "code",
        "outputId": "46b61d9e-1341-43c9-f844-fff4b1752e78",
        "colab": {
          "base_uri": "https://localhost:8080/",
          "height": 202
        }
      },
      "source": [
        "#finding reorders against hour of the day\n",
        "grouped_reorders_hod = merged_reorders.groupby([\"order_hour_of_day\"])[\"reordered\"].aggregate(\"count\").reset_index()\n",
        "grouped_reorders_hod.head()"
      ],
      "execution_count": 0,
      "outputs": [
        {
          "output_type": "execute_result",
          "data": {
            "text/html": [
              "<div>\n",
              "<style scoped>\n",
              "    .dataframe tbody tr th:only-of-type {\n",
              "        vertical-align: middle;\n",
              "    }\n",
              "\n",
              "    .dataframe tbody tr th {\n",
              "        vertical-align: top;\n",
              "    }\n",
              "\n",
              "    .dataframe thead th {\n",
              "        text-align: right;\n",
              "    }\n",
              "</style>\n",
              "<table border=\"1\" class=\"dataframe\">\n",
              "  <thead>\n",
              "    <tr style=\"text-align: right;\">\n",
              "      <th></th>\n",
              "      <th>order_hour_of_day</th>\n",
              "      <th>reordered</th>\n",
              "    </tr>\n",
              "  </thead>\n",
              "  <tbody>\n",
              "    <tr>\n",
              "      <th>0</th>\n",
              "      <td>0.0</td>\n",
              "      <td>203624</td>\n",
              "    </tr>\n",
              "    <tr>\n",
              "      <th>1</th>\n",
              "      <td>1.0</td>\n",
              "      <td>108192</td>\n",
              "    </tr>\n",
              "    <tr>\n",
              "      <th>2</th>\n",
              "      <td>2.0</td>\n",
              "      <td>64016</td>\n",
              "    </tr>\n",
              "    <tr>\n",
              "      <th>3</th>\n",
              "      <td>3.0</td>\n",
              "      <td>47894</td>\n",
              "    </tr>\n",
              "    <tr>\n",
              "      <th>4</th>\n",
              "      <td>4.0</td>\n",
              "      <td>49441</td>\n",
              "    </tr>\n",
              "  </tbody>\n",
              "</table>\n",
              "</div>"
            ],
            "text/plain": [
              "   order_hour_of_day  reordered\n",
              "0                0.0     203624\n",
              "1                1.0     108192\n",
              "2                2.0      64016\n",
              "3                3.0      47894\n",
              "4                4.0      49441"
            ]
          },
          "metadata": {
            "tags": []
          },
          "execution_count": 92
        }
      ]
    },
    {
      "cell_type": "code",
      "metadata": {
        "id": "Lq0f6JKJXRr7",
        "colab_type": "code",
        "outputId": "a12d9eed-8e0c-455f-c98b-8873c4c5c024",
        "colab": {
          "base_uri": "https://localhost:8080/",
          "height": 722
        }
      },
      "source": [
        "plt.figure(figsize=(12,12))\n",
        "sns.barplot(grouped_reorders_hod.order_hour_of_day, grouped_reorders_hod.reordered)\n",
        "plt.ylabel('Total number of reordered products', fontsize=14)\n",
        "plt.xlabel('order_hour_of_day', fontsize=14)\n",
        "plt.show()"
      ],
      "execution_count": 0,
      "outputs": [
        {
          "output_type": "display_data",
          "data": {
            "image/png": "[encoded data removed]",
            "text/plain": [
              "<Figure size 864x864 with 1 Axes>"
            ]
          },
          "metadata": {
            "tags": []
          }
        }
      ]
    },
    {
      "cell_type": "markdown",
      "metadata": {
        "id": "Fuz7p2olXaAZ",
        "colab_type": "text"
      },
      "source": [
        "Most of the products are reordered from 10-11AM followed by 1-3pm. This aligns with the number of products ordered during the week and the weekends."
      ]
    },
    {
      "cell_type": "markdown",
      "metadata": {
        "id": "2HwZZoa4ad4f",
        "colab_type": "text"
      },
      "source": [
        "correaltion for variable selection"
      ]
    },
    {
      "cell_type": "code",
      "metadata": {
        "id": "09Ie_nB3ahAC",
        "colab_type": "code",
        "outputId": "e1d8d519-7b47-49ad-bb24-b466b2db7124",
        "colab": {
          "base_uri": "https://localhost:8080/",
          "height": 722
        }
      },
      "source": [
        "corr = products.corr()\n",
        "plt.figure(figsize=(12,12))\n",
        "sns.heatmap(corr, \n",
        "            xticklabels=corr.columns.values,\n",
        "            yticklabels=corr.columns.values)"
      ],
      "execution_count": 0,
      "outputs": [
        {
          "output_type": "execute_result",
          "data": {
            "text/plain": [
              "<matplotlib.axes._subplots.AxesSubplot at 0x7f6702501160>"
            ]
          },
          "metadata": {
            "tags": []
          },
          "execution_count": 28
        },
        {
          "output_type": "display_data",
          "data": {
            "image/png": "[encoded data removed]",
            "text/plain": [
              "<Figure size 864x864 with 2 Axes>"
            ]
          },
          "metadata": {
            "tags": []
          }
        }
      ]
    },
    {
      "cell_type": "code",
      "metadata": {
        "id": "sDlBLAWYazTv",
        "colab_type": "code",
        "outputId": "f15a45c2-1b5b-49af-bbe3-7c47e762d2b0",
        "colab": {
          "base_uri": "https://localhost:8080/",
          "height": 826
        }
      },
      "source": [
        "plt.figure(figsize=(12,12))\n",
        "corr_orders = orders.corr()\n",
        "sns.heatmap(corr_orders, \n",
        "            xticklabels=corr_orders.columns.values,\n",
        "            yticklabels=corr_orders.columns.values,annot=True)"
      ],
      "execution_count": 0,
      "outputs": [
        {
          "output_type": "execute_result",
          "data": {
            "text/plain": [
              "<matplotlib.axes._subplots.AxesSubplot at 0x7f986f6781d0>"
            ]
          },
          "metadata": {
            "tags": []
          },
          "execution_count": 32
        },
        {
          "output_type": "display_data",
          "data": {
            "image/png": "[encoded data removed]",
            "text/plain": [
              "<Figure size 864x864 with 2 Axes>"
            ]
          },
          "metadata": {
            "tags": []
          }
        }
      ]
    },
    {
      "cell_type": "code",
      "metadata": {
        "id": "j_r9UQ7nbL8H",
        "colab_type": "code",
        "outputId": "586b1037-37f1-4216-f9bb-3a64e079655f",
        "colab": {
          "base_uri": "https://localhost:8080/",
          "height": 722
        }
      },
      "source": [
        "plt.figure(figsize=(12,12))\n",
        "corr_op = op_prior_merged.corr()\n",
        "sns.heatmap(corr_op, \n",
        "            xticklabels=corr_op.columns.values,\n",
        "            yticklabels=corr_op.columns.values, annot=True)"
      ],
      "execution_count": 0,
      "outputs": [
        {
          "output_type": "execute_result",
          "data": {
            "text/plain": [
              "<matplotlib.axes._subplots.AxesSubplot at 0x7f986f5fe0f0>"
            ]
          },
          "metadata": {
            "tags": []
          },
          "execution_count": 33
        },
        {
          "output_type": "display_data",
          "data": {
            "image/png": "[encoded data removed]",
            "text/plain": [
              "<Figure size 864x864 with 2 Axes>"
            ]
          },
          "metadata": {
            "tags": []
          }
        }
      ]
    },
    {
      "cell_type": "code",
      "metadata": {
        "id": "iLKVoNXMboJl",
        "colab_type": "code",
        "outputId": "323ed4fc-bc0d-474b-d74f-6dbe266492e9",
        "colab": {
          "base_uri": "https://localhost:8080/",
          "height": 826
        }
      },
      "source": [
        "plt.figure(figsize=(12,12))\n",
        "corr_reorders = merged_reorders.corr()\n",
        "sns.heatmap(corr_reorders, \n",
        "            xticklabels=corr_reorders.columns.values,\n",
        "            yticklabels=corr_reorders.columns.values, annot=True)"
      ],
      "execution_count": 0,
      "outputs": [
        {
          "output_type": "execute_result",
          "data": {
            "text/plain": [
              "<matplotlib.axes._subplots.AxesSubplot at 0x7f986f7e22b0>"
            ]
          },
          "metadata": {
            "tags": []
          },
          "execution_count": 34
        },
        {
          "output_type": "display_data",
          "data": {
            "image/png": "[encoded data removed]",
            "text/plain": [
              "<Figure size 864x864 with 2 Axes>"
            ]
          },
          "metadata": {
            "tags": []
          }
        }
      ]
    },
    {
      "cell_type": "markdown",
      "metadata": {
        "id": "Z8SEMcmewT0D",
        "colab_type": "text"
      },
      "source": [
        "**MODEL BUILDING**"
      ]
    },
    {
      "cell_type": "markdown",
      "metadata": {
        "id": "FWqduWMMnYPg",
        "colab_type": "text"
      },
      "source": [
        "The features which would be used -\n",
        "\n",
        "1) predict whether a product will be reordered or not : Order_id,Order_number,Average_days_between_orders,Nb_orders(Number of orders),Average_basket,Total items, Aisle,Department,Product,User_id,Order_hour_of_day,Order_dow(day of week),Days_since_prior_order,Days_since_ratio\n",
        "\n",
        "2) Predict which department a product will belong to : Order_id,Order_number,Average_days_between_orders,Nb_orders(Number of orders),Average_basket,Orders,Reorders,Reordered rate,Total items,User_id,Order_hour_of_day,Order_dow(day of week),Days_since_prior_order,Days_since_ratio"
      ]
    },
    {
      "cell_type": "code",
      "metadata": {
        "id": "9TM-0CfxntoG",
        "colab_type": "code",
        "outputId": "8e4a2359-0bbe-4432-9ece-ae2ed7da00f5",
        "colab": {
          "base_uri": "https://localhost:8080/",
          "height": 202
        }
      },
      "source": [
        "merged1 = pd.merge(order_products_train, orders, on='order_id', how='left')\n",
        "merged1.head()"
      ],
      "execution_count": 0,
      "outputs": [
        {
          "output_type": "execute_result",
          "data": {
            "text/html": [
              "<div>\n",
              "<style scoped>\n",
              "    .dataframe tbody tr th:only-of-type {\n",
              "        vertical-align: middle;\n",
              "    }\n",
              "\n",
              "    .dataframe tbody tr th {\n",
              "        vertical-align: top;\n",
              "    }\n",
              "\n",
              "    .dataframe thead th {\n",
              "        text-align: right;\n",
              "    }\n",
              "</style>\n",
              "<table border=\"1\" class=\"dataframe\">\n",
              "  <thead>\n",
              "    <tr style=\"text-align: right;\">\n",
              "      <th></th>\n",
              "      <th>order_id</th>\n",
              "      <th>product_id</th>\n",
              "      <th>add_to_cart_order</th>\n",
              "      <th>reordered</th>\n",
              "      <th>user_id</th>\n",
              "      <th>eval_set</th>\n",
              "      <th>order_number</th>\n",
              "      <th>order_dow</th>\n",
              "      <th>order_hour_of_day</th>\n",
              "      <th>days_since_prior_order</th>\n",
              "    </tr>\n",
              "  </thead>\n",
              "  <tbody>\n",
              "    <tr>\n",
              "      <th>0</th>\n",
              "      <td>1</td>\n",
              "      <td>49302</td>\n",
              "      <td>1</td>\n",
              "      <td>1</td>\n",
              "      <td>112108</td>\n",
              "      <td>train</td>\n",
              "      <td>4</td>\n",
              "      <td>4</td>\n",
              "      <td>10</td>\n",
              "      <td>9.0</td>\n",
              "    </tr>\n",
              "    <tr>\n",
              "      <th>1</th>\n",
              "      <td>1</td>\n",
              "      <td>11109</td>\n",
              "      <td>2</td>\n",
              "      <td>1</td>\n",
              "      <td>112108</td>\n",
              "      <td>train</td>\n",
              "      <td>4</td>\n",
              "      <td>4</td>\n",
              "      <td>10</td>\n",
              "      <td>9.0</td>\n",
              "    </tr>\n",
              "    <tr>\n",
              "      <th>2</th>\n",
              "      <td>1</td>\n",
              "      <td>10246</td>\n",
              "      <td>3</td>\n",
              "      <td>0</td>\n",
              "      <td>112108</td>\n",
              "      <td>train</td>\n",
              "      <td>4</td>\n",
              "      <td>4</td>\n",
              "      <td>10</td>\n",
              "      <td>9.0</td>\n",
              "    </tr>\n",
              "    <tr>\n",
              "      <th>3</th>\n",
              "      <td>1</td>\n",
              "      <td>49683</td>\n",
              "      <td>4</td>\n",
              "      <td>0</td>\n",
              "      <td>112108</td>\n",
              "      <td>train</td>\n",
              "      <td>4</td>\n",
              "      <td>4</td>\n",
              "      <td>10</td>\n",
              "      <td>9.0</td>\n",
              "    </tr>\n",
              "    <tr>\n",
              "      <th>4</th>\n",
              "      <td>1</td>\n",
              "      <td>43633</td>\n",
              "      <td>5</td>\n",
              "      <td>1</td>\n",
              "      <td>112108</td>\n",
              "      <td>train</td>\n",
              "      <td>4</td>\n",
              "      <td>4</td>\n",
              "      <td>10</td>\n",
              "      <td>9.0</td>\n",
              "    </tr>\n",
              "  </tbody>\n",
              "</table>\n",
              "</div>"
            ],
            "text/plain": [
              "   order_id  product_id  ...  order_hour_of_day  days_since_prior_order\n",
              "0         1       49302  ...                 10                     9.0\n",
              "1         1       11109  ...                 10                     9.0\n",
              "2         1       10246  ...                 10                     9.0\n",
              "3         1       49683  ...                 10                     9.0\n",
              "4         1       43633  ...                 10                     9.0\n",
              "\n",
              "[5 rows x 10 columns]"
            ]
          },
          "metadata": {
            "tags": []
          },
          "execution_count": 93
        }
      ]
    },
    {
      "cell_type": "code",
      "metadata": {
        "id": "2QMGGy0in0FY",
        "colab_type": "code",
        "outputId": "0fed85f2-a816-48a6-8e1f-cbdbae7af24e",
        "colab": {
          "base_uri": "https://localhost:8080/",
          "height": 378
        }
      },
      "source": [
        "df_merged1 = pd.merge(merged1, products, on='product_id', how='left')\n",
        "df_merged1.head()"
      ],
      "execution_count": 0,
      "outputs": [
        {
          "output_type": "execute_result",
          "data": {
            "text/html": [
              "<div>\n",
              "<style scoped>\n",
              "    .dataframe tbody tr th:only-of-type {\n",
              "        vertical-align: middle;\n",
              "    }\n",
              "\n",
              "    .dataframe tbody tr th {\n",
              "        vertical-align: top;\n",
              "    }\n",
              "\n",
              "    .dataframe thead th {\n",
              "        text-align: right;\n",
              "    }\n",
              "</style>\n",
              "<table border=\"1\" class=\"dataframe\">\n",
              "  <thead>\n",
              "    <tr style=\"text-align: right;\">\n",
              "      <th></th>\n",
              "      <th>order_id</th>\n",
              "      <th>product_id</th>\n",
              "      <th>add_to_cart_order</th>\n",
              "      <th>reordered</th>\n",
              "      <th>user_id</th>\n",
              "      <th>eval_set</th>\n",
              "      <th>order_number</th>\n",
              "      <th>order_dow</th>\n",
              "      <th>order_hour_of_day</th>\n",
              "      <th>days_since_prior_order</th>\n",
              "      <th>product_name</th>\n",
              "      <th>aisle_id</th>\n",
              "      <th>department_id</th>\n",
              "    </tr>\n",
              "  </thead>\n",
              "  <tbody>\n",
              "    <tr>\n",
              "      <th>0</th>\n",
              "      <td>1</td>\n",
              "      <td>49302</td>\n",
              "      <td>1</td>\n",
              "      <td>1</td>\n",
              "      <td>112108</td>\n",
              "      <td>train</td>\n",
              "      <td>4</td>\n",
              "      <td>4</td>\n",
              "      <td>10</td>\n",
              "      <td>9.0</td>\n",
              "      <td>Bulgarian Yogurt</td>\n",
              "      <td>120</td>\n",
              "      <td>16</td>\n",
              "    </tr>\n",
              "    <tr>\n",
              "      <th>1</th>\n",
              "      <td>1</td>\n",
              "      <td>11109</td>\n",
              "      <td>2</td>\n",
              "      <td>1</td>\n",
              "      <td>112108</td>\n",
              "      <td>train</td>\n",
              "      <td>4</td>\n",
              "      <td>4</td>\n",
              "      <td>10</td>\n",
              "      <td>9.0</td>\n",
              "      <td>Organic 4% Milk Fat Whole Milk Cottage Cheese</td>\n",
              "      <td>108</td>\n",
              "      <td>16</td>\n",
              "    </tr>\n",
              "    <tr>\n",
              "      <th>2</th>\n",
              "      <td>1</td>\n",
              "      <td>10246</td>\n",
              "      <td>3</td>\n",
              "      <td>0</td>\n",
              "      <td>112108</td>\n",
              "      <td>train</td>\n",
              "      <td>4</td>\n",
              "      <td>4</td>\n",
              "      <td>10</td>\n",
              "      <td>9.0</td>\n",
              "      <td>Organic Celery Hearts</td>\n",
              "      <td>83</td>\n",
              "      <td>4</td>\n",
              "    </tr>\n",
              "    <tr>\n",
              "      <th>3</th>\n",
              "      <td>1</td>\n",
              "      <td>49683</td>\n",
              "      <td>4</td>\n",
              "      <td>0</td>\n",
              "      <td>112108</td>\n",
              "      <td>train</td>\n",
              "      <td>4</td>\n",
              "      <td>4</td>\n",
              "      <td>10</td>\n",
              "      <td>9.0</td>\n",
              "      <td>Cucumber Kirby</td>\n",
              "      <td>83</td>\n",
              "      <td>4</td>\n",
              "    </tr>\n",
              "    <tr>\n",
              "      <th>4</th>\n",
              "      <td>1</td>\n",
              "      <td>43633</td>\n",
              "      <td>5</td>\n",
              "      <td>1</td>\n",
              "      <td>112108</td>\n",
              "      <td>train</td>\n",
              "      <td>4</td>\n",
              "      <td>4</td>\n",
              "      <td>10</td>\n",
              "      <td>9.0</td>\n",
              "      <td>Lightly Smoked Sardines in Olive Oil</td>\n",
              "      <td>95</td>\n",
              "      <td>15</td>\n",
              "    </tr>\n",
              "  </tbody>\n",
              "</table>\n",
              "</div>"
            ],
            "text/plain": [
              "   order_id  product_id  ...  aisle_id  department_id\n",
              "0         1       49302  ...       120             16\n",
              "1         1       11109  ...       108             16\n",
              "2         1       10246  ...        83              4\n",
              "3         1       49683  ...        83              4\n",
              "4         1       43633  ...        95             15\n",
              "\n",
              "[5 rows x 13 columns]"
            ]
          },
          "metadata": {
            "tags": []
          },
          "execution_count": 94
        }
      ]
    },
    {
      "cell_type": "code",
      "metadata": {
        "id": "f82r-Dokn3xY",
        "colab_type": "code",
        "outputId": "48bc907f-5789-4996-874c-eebf3ec499e8",
        "colab": {
          "base_uri": "https://localhost:8080/",
          "height": 378
        }
      },
      "source": [
        "#Final data set is generated using all datasets\n",
        "df = pd.merge(df_merged1, departments, on='department_id', how='left')\n",
        "df.head()"
      ],
      "execution_count": 0,
      "outputs": [
        {
          "output_type": "execute_result",
          "data": {
            "text/html": [
              "<div>\n",
              "<style scoped>\n",
              "    .dataframe tbody tr th:only-of-type {\n",
              "        vertical-align: middle;\n",
              "    }\n",
              "\n",
              "    .dataframe tbody tr th {\n",
              "        vertical-align: top;\n",
              "    }\n",
              "\n",
              "    .dataframe thead th {\n",
              "        text-align: right;\n",
              "    }\n",
              "</style>\n",
              "<table border=\"1\" class=\"dataframe\">\n",
              "  <thead>\n",
              "    <tr style=\"text-align: right;\">\n",
              "      <th></th>\n",
              "      <th>order_id</th>\n",
              "      <th>product_id</th>\n",
              "      <th>add_to_cart_order</th>\n",
              "      <th>reordered</th>\n",
              "      <th>user_id</th>\n",
              "      <th>eval_set</th>\n",
              "      <th>order_number</th>\n",
              "      <th>order_dow</th>\n",
              "      <th>order_hour_of_day</th>\n",
              "      <th>days_since_prior_order</th>\n",
              "      <th>product_name</th>\n",
              "      <th>aisle_id</th>\n",
              "      <th>department_id</th>\n",
              "      <th>department</th>\n",
              "    </tr>\n",
              "  </thead>\n",
              "  <tbody>\n",
              "    <tr>\n",
              "      <th>0</th>\n",
              "      <td>1</td>\n",
              "      <td>49302</td>\n",
              "      <td>1</td>\n",
              "      <td>1</td>\n",
              "      <td>112108</td>\n",
              "      <td>train</td>\n",
              "      <td>4</td>\n",
              "      <td>4</td>\n",
              "      <td>10</td>\n",
              "      <td>9.0</td>\n",
              "      <td>Bulgarian Yogurt</td>\n",
              "      <td>120</td>\n",
              "      <td>16</td>\n",
              "      <td>dairy eggs</td>\n",
              "    </tr>\n",
              "    <tr>\n",
              "      <th>1</th>\n",
              "      <td>1</td>\n",
              "      <td>11109</td>\n",
              "      <td>2</td>\n",
              "      <td>1</td>\n",
              "      <td>112108</td>\n",
              "      <td>train</td>\n",
              "      <td>4</td>\n",
              "      <td>4</td>\n",
              "      <td>10</td>\n",
              "      <td>9.0</td>\n",
              "      <td>Organic 4% Milk Fat Whole Milk Cottage Cheese</td>\n",
              "      <td>108</td>\n",
              "      <td>16</td>\n",
              "      <td>dairy eggs</td>\n",
              "    </tr>\n",
              "    <tr>\n",
              "      <th>2</th>\n",
              "      <td>1</td>\n",
              "      <td>10246</td>\n",
              "      <td>3</td>\n",
              "      <td>0</td>\n",
              "      <td>112108</td>\n",
              "      <td>train</td>\n",
              "      <td>4</td>\n",
              "      <td>4</td>\n",
              "      <td>10</td>\n",
              "      <td>9.0</td>\n",
              "      <td>Organic Celery Hearts</td>\n",
              "      <td>83</td>\n",
              "      <td>4</td>\n",
              "      <td>produce</td>\n",
              "    </tr>\n",
              "    <tr>\n",
              "      <th>3</th>\n",
              "      <td>1</td>\n",
              "      <td>49683</td>\n",
              "      <td>4</td>\n",
              "      <td>0</td>\n",
              "      <td>112108</td>\n",
              "      <td>train</td>\n",
              "      <td>4</td>\n",
              "      <td>4</td>\n",
              "      <td>10</td>\n",
              "      <td>9.0</td>\n",
              "      <td>Cucumber Kirby</td>\n",
              "      <td>83</td>\n",
              "      <td>4</td>\n",
              "      <td>produce</td>\n",
              "    </tr>\n",
              "    <tr>\n",
              "      <th>4</th>\n",
              "      <td>1</td>\n",
              "      <td>43633</td>\n",
              "      <td>5</td>\n",
              "      <td>1</td>\n",
              "      <td>112108</td>\n",
              "      <td>train</td>\n",
              "      <td>4</td>\n",
              "      <td>4</td>\n",
              "      <td>10</td>\n",
              "      <td>9.0</td>\n",
              "      <td>Lightly Smoked Sardines in Olive Oil</td>\n",
              "      <td>95</td>\n",
              "      <td>15</td>\n",
              "      <td>canned goods</td>\n",
              "    </tr>\n",
              "  </tbody>\n",
              "</table>\n",
              "</div>"
            ],
            "text/plain": [
              "   order_id  product_id  ...  department_id    department\n",
              "0         1       49302  ...             16    dairy eggs\n",
              "1         1       11109  ...             16    dairy eggs\n",
              "2         1       10246  ...              4       produce\n",
              "3         1       49683  ...              4       produce\n",
              "4         1       43633  ...             15  canned goods\n",
              "\n",
              "[5 rows x 14 columns]"
            ]
          },
          "metadata": {
            "tags": []
          },
          "execution_count": 95
        }
      ]
    },
    {
      "cell_type": "code",
      "metadata": {
        "id": "IsQfA1IFoNCe",
        "colab_type": "code",
        "colab": {}
      },
      "source": [
        "df_new = df.copy()"
      ],
      "execution_count": 0,
      "outputs": []
    },
    {
      "cell_type": "code",
      "metadata": {
        "id": "_xFhExcqoPzq",
        "colab_type": "code",
        "colab": {}
      },
      "source": [
        "\n",
        "del df['eval_set']\n",
        "\n",
        "del df['add_to_cart_order']"
      ],
      "execution_count": 0,
      "outputs": []
    },
    {
      "cell_type": "code",
      "metadata": {
        "id": "sIilhFDUoTnk",
        "colab_type": "code",
        "outputId": "5bce7837-fc9d-4e90-b61f-d4ff14ce48e7",
        "colab": {
          "base_uri": "https://localhost:8080/",
          "height": 378
        }
      },
      "source": [
        "df.head()"
      ],
      "execution_count": 0,
      "outputs": [
        {
          "output_type": "execute_result",
          "data": {
            "text/html": [
              "<div>\n",
              "<style scoped>\n",
              "    .dataframe tbody tr th:only-of-type {\n",
              "        vertical-align: middle;\n",
              "    }\n",
              "\n",
              "    .dataframe tbody tr th {\n",
              "        vertical-align: top;\n",
              "    }\n",
              "\n",
              "    .dataframe thead th {\n",
              "        text-align: right;\n",
              "    }\n",
              "</style>\n",
              "<table border=\"1\" class=\"dataframe\">\n",
              "  <thead>\n",
              "    <tr style=\"text-align: right;\">\n",
              "      <th></th>\n",
              "      <th>order_id</th>\n",
              "      <th>product_id</th>\n",
              "      <th>reordered</th>\n",
              "      <th>user_id</th>\n",
              "      <th>order_number</th>\n",
              "      <th>order_dow</th>\n",
              "      <th>order_hour_of_day</th>\n",
              "      <th>days_since_prior_order</th>\n",
              "      <th>product_name</th>\n",
              "      <th>aisle_id</th>\n",
              "      <th>department_id</th>\n",
              "      <th>department</th>\n",
              "    </tr>\n",
              "  </thead>\n",
              "  <tbody>\n",
              "    <tr>\n",
              "      <th>0</th>\n",
              "      <td>1</td>\n",
              "      <td>49302</td>\n",
              "      <td>1</td>\n",
              "      <td>112108</td>\n",
              "      <td>4</td>\n",
              "      <td>4</td>\n",
              "      <td>10</td>\n",
              "      <td>9.0</td>\n",
              "      <td>Bulgarian Yogurt</td>\n",
              "      <td>120</td>\n",
              "      <td>16</td>\n",
              "      <td>dairy eggs</td>\n",
              "    </tr>\n",
              "    <tr>\n",
              "      <th>1</th>\n",
              "      <td>1</td>\n",
              "      <td>11109</td>\n",
              "      <td>1</td>\n",
              "      <td>112108</td>\n",
              "      <td>4</td>\n",
              "      <td>4</td>\n",
              "      <td>10</td>\n",
              "      <td>9.0</td>\n",
              "      <td>Organic 4% Milk Fat Whole Milk Cottage Cheese</td>\n",
              "      <td>108</td>\n",
              "      <td>16</td>\n",
              "      <td>dairy eggs</td>\n",
              "    </tr>\n",
              "    <tr>\n",
              "      <th>2</th>\n",
              "      <td>1</td>\n",
              "      <td>10246</td>\n",
              "      <td>0</td>\n",
              "      <td>112108</td>\n",
              "      <td>4</td>\n",
              "      <td>4</td>\n",
              "      <td>10</td>\n",
              "      <td>9.0</td>\n",
              "      <td>Organic Celery Hearts</td>\n",
              "      <td>83</td>\n",
              "      <td>4</td>\n",
              "      <td>produce</td>\n",
              "    </tr>\n",
              "    <tr>\n",
              "      <th>3</th>\n",
              "      <td>1</td>\n",
              "      <td>49683</td>\n",
              "      <td>0</td>\n",
              "      <td>112108</td>\n",
              "      <td>4</td>\n",
              "      <td>4</td>\n",
              "      <td>10</td>\n",
              "      <td>9.0</td>\n",
              "      <td>Cucumber Kirby</td>\n",
              "      <td>83</td>\n",
              "      <td>4</td>\n",
              "      <td>produce</td>\n",
              "    </tr>\n",
              "    <tr>\n",
              "      <th>4</th>\n",
              "      <td>1</td>\n",
              "      <td>43633</td>\n",
              "      <td>1</td>\n",
              "      <td>112108</td>\n",
              "      <td>4</td>\n",
              "      <td>4</td>\n",
              "      <td>10</td>\n",
              "      <td>9.0</td>\n",
              "      <td>Lightly Smoked Sardines in Olive Oil</td>\n",
              "      <td>95</td>\n",
              "      <td>15</td>\n",
              "      <td>canned goods</td>\n",
              "    </tr>\n",
              "  </tbody>\n",
              "</table>\n",
              "</div>"
            ],
            "text/plain": [
              "   order_id  product_id  reordered  ...  aisle_id  department_id    department\n",
              "0         1       49302          1  ...       120             16    dairy eggs\n",
              "1         1       11109          1  ...       108             16    dairy eggs\n",
              "2         1       10246          0  ...        83              4       produce\n",
              "3         1       49683          0  ...        83              4       produce\n",
              "4         1       43633          1  ...        95             15  canned goods\n",
              "\n",
              "[5 rows x 12 columns]"
            ]
          },
          "metadata": {
            "tags": []
          },
          "execution_count": 98
        }
      ]
    },
    {
      "cell_type": "code",
      "metadata": {
        "id": "qbjNhVozodWj",
        "colab_type": "code",
        "colab": {}
      },
      "source": [
        "#Getting average days between orders as a feature by using days_since_prior_order\n",
        "df['avg_days_btwn_orders'] = orders.groupby('user_id')['days_since_prior_order'].mean().astype(np.float32)\n",
        "df['avg_days_btwn_orders'] = df['avg_days_btwn_orders'].replace(np.nan, 0)"
      ],
      "execution_count": 0,
      "outputs": []
    },
    {
      "cell_type": "code",
      "metadata": {
        "id": "XiRruqkDpow9",
        "colab_type": "code",
        "colab": {}
      },
      "source": [
        "df['avg_days_btwn_orders'] = df['avg_days_btwn_orders'].replace(0, 1)"
      ],
      "execution_count": 0,
      "outputs": []
    },
    {
      "cell_type": "code",
      "metadata": {
        "id": "G-LwF7n1pzyl",
        "colab_type": "code",
        "colab": {}
      },
      "source": [
        "#number of orders as a feature using the orders dataset\n",
        "df['nb_orders'] = orders.groupby('user_id').size().astype(np.int16)\n",
        "df['nb_orders'] = df['nb_orders'].replace(np.nan, 0)"
      ],
      "execution_count": 0,
      "outputs": []
    },
    {
      "cell_type": "code",
      "metadata": {
        "id": "9vDQ-QW9p6EZ",
        "colab_type": "code",
        "outputId": "406f5c54-4d03-47bf-de84-a014cd9e25b4",
        "colab": {
          "base_uri": "https://localhost:8080/",
          "height": 378
        }
      },
      "source": [
        "df.head()"
      ],
      "execution_count": 0,
      "outputs": [
        {
          "output_type": "execute_result",
          "data": {
            "text/html": [
              "<div>\n",
              "<style scoped>\n",
              "    .dataframe tbody tr th:only-of-type {\n",
              "        vertical-align: middle;\n",
              "    }\n",
              "\n",
              "    .dataframe tbody tr th {\n",
              "        vertical-align: top;\n",
              "    }\n",
              "\n",
              "    .dataframe thead th {\n",
              "        text-align: right;\n",
              "    }\n",
              "</style>\n",
              "<table border=\"1\" class=\"dataframe\">\n",
              "  <thead>\n",
              "    <tr style=\"text-align: right;\">\n",
              "      <th></th>\n",
              "      <th>order_id</th>\n",
              "      <th>product_id</th>\n",
              "      <th>reordered</th>\n",
              "      <th>user_id</th>\n",
              "      <th>order_number</th>\n",
              "      <th>order_dow</th>\n",
              "      <th>order_hour_of_day</th>\n",
              "      <th>days_since_prior_order</th>\n",
              "      <th>product_name</th>\n",
              "      <th>aisle_id</th>\n",
              "      <th>department_id</th>\n",
              "      <th>department</th>\n",
              "      <th>avg_days_btwn_orders</th>\n",
              "      <th>nb_orders</th>\n",
              "    </tr>\n",
              "  </thead>\n",
              "  <tbody>\n",
              "    <tr>\n",
              "      <th>0</th>\n",
              "      <td>1</td>\n",
              "      <td>49302</td>\n",
              "      <td>1</td>\n",
              "      <td>112108</td>\n",
              "      <td>4</td>\n",
              "      <td>4</td>\n",
              "      <td>10</td>\n",
              "      <td>9.0</td>\n",
              "      <td>Bulgarian Yogurt</td>\n",
              "      <td>120</td>\n",
              "      <td>16</td>\n",
              "      <td>dairy eggs</td>\n",
              "      <td>1.000000</td>\n",
              "      <td>0.0</td>\n",
              "    </tr>\n",
              "    <tr>\n",
              "      <th>1</th>\n",
              "      <td>1</td>\n",
              "      <td>11109</td>\n",
              "      <td>1</td>\n",
              "      <td>112108</td>\n",
              "      <td>4</td>\n",
              "      <td>4</td>\n",
              "      <td>10</td>\n",
              "      <td>9.0</td>\n",
              "      <td>Organic 4% Milk Fat Whole Milk Cottage Cheese</td>\n",
              "      <td>108</td>\n",
              "      <td>16</td>\n",
              "      <td>dairy eggs</td>\n",
              "      <td>19.000000</td>\n",
              "      <td>10.0</td>\n",
              "    </tr>\n",
              "    <tr>\n",
              "      <th>2</th>\n",
              "      <td>1</td>\n",
              "      <td>10246</td>\n",
              "      <td>0</td>\n",
              "      <td>112108</td>\n",
              "      <td>4</td>\n",
              "      <td>4</td>\n",
              "      <td>10</td>\n",
              "      <td>9.0</td>\n",
              "      <td>Organic Celery Hearts</td>\n",
              "      <td>83</td>\n",
              "      <td>4</td>\n",
              "      <td>produce</td>\n",
              "      <td>16.285715</td>\n",
              "      <td>14.0</td>\n",
              "    </tr>\n",
              "    <tr>\n",
              "      <th>3</th>\n",
              "      <td>1</td>\n",
              "      <td>49683</td>\n",
              "      <td>0</td>\n",
              "      <td>112108</td>\n",
              "      <td>4</td>\n",
              "      <td>4</td>\n",
              "      <td>10</td>\n",
              "      <td>9.0</td>\n",
              "      <td>Cucumber Kirby</td>\n",
              "      <td>83</td>\n",
              "      <td>4</td>\n",
              "      <td>produce</td>\n",
              "      <td>12.000000</td>\n",
              "      <td>12.0</td>\n",
              "    </tr>\n",
              "    <tr>\n",
              "      <th>4</th>\n",
              "      <td>1</td>\n",
              "      <td>43633</td>\n",
              "      <td>1</td>\n",
              "      <td>112108</td>\n",
              "      <td>4</td>\n",
              "      <td>4</td>\n",
              "      <td>10</td>\n",
              "      <td>9.0</td>\n",
              "      <td>Lightly Smoked Sardines in Olive Oil</td>\n",
              "      <td>95</td>\n",
              "      <td>15</td>\n",
              "      <td>canned goods</td>\n",
              "      <td>17.000000</td>\n",
              "      <td>5.0</td>\n",
              "    </tr>\n",
              "  </tbody>\n",
              "</table>\n",
              "</div>"
            ],
            "text/plain": [
              "   order_id  product_id  ...  avg_days_btwn_orders  nb_orders\n",
              "0         1       49302  ...              1.000000        0.0\n",
              "1         1       11109  ...             19.000000       10.0\n",
              "2         1       10246  ...             16.285715       14.0\n",
              "3         1       49683  ...             12.000000       12.0\n",
              "4         1       43633  ...             17.000000        5.0\n",
              "\n",
              "[5 rows x 14 columns]"
            ]
          },
          "metadata": {
            "tags": []
          },
          "execution_count": 31
        }
      ]
    },
    {
      "cell_type": "code",
      "metadata": {
        "id": "7fz1uzgdp91W",
        "colab_type": "code",
        "outputId": "1b858f6e-b84c-4e05-8d68-8baf28242ded",
        "colab": {
          "base_uri": "https://localhost:8080/",
          "height": 378
        }
      },
      "source": [
        "#Getting the total items using the entire dataset \n",
        "df['total_items'] = df_merged1.groupby('user_id').size().astype(np.int16)\n",
        "df['total_items'] = df['total_items'].replace(np.nan, 0)\n",
        "df.head(5)"
      ],
      "execution_count": 0,
      "outputs": [
        {
          "output_type": "execute_result",
          "data": {
            "text/html": [
              "<div>\n",
              "<style scoped>\n",
              "    .dataframe tbody tr th:only-of-type {\n",
              "        vertical-align: middle;\n",
              "    }\n",
              "\n",
              "    .dataframe tbody tr th {\n",
              "        vertical-align: top;\n",
              "    }\n",
              "\n",
              "    .dataframe thead th {\n",
              "        text-align: right;\n",
              "    }\n",
              "</style>\n",
              "<table border=\"1\" class=\"dataframe\">\n",
              "  <thead>\n",
              "    <tr style=\"text-align: right;\">\n",
              "      <th></th>\n",
              "      <th>order_id</th>\n",
              "      <th>product_id</th>\n",
              "      <th>reordered</th>\n",
              "      <th>user_id</th>\n",
              "      <th>order_number</th>\n",
              "      <th>order_dow</th>\n",
              "      <th>order_hour_of_day</th>\n",
              "      <th>days_since_prior_order</th>\n",
              "      <th>product_name</th>\n",
              "      <th>aisle_id</th>\n",
              "      <th>department_id</th>\n",
              "      <th>department</th>\n",
              "      <th>avg_days_btwn_orders</th>\n",
              "      <th>nb_orders</th>\n",
              "      <th>total_items</th>\n",
              "    </tr>\n",
              "  </thead>\n",
              "  <tbody>\n",
              "    <tr>\n",
              "      <th>0</th>\n",
              "      <td>1</td>\n",
              "      <td>49302</td>\n",
              "      <td>1</td>\n",
              "      <td>112108</td>\n",
              "      <td>4</td>\n",
              "      <td>4</td>\n",
              "      <td>10</td>\n",
              "      <td>9.0</td>\n",
              "      <td>Bulgarian Yogurt</td>\n",
              "      <td>120</td>\n",
              "      <td>16</td>\n",
              "      <td>dairy eggs</td>\n",
              "      <td>1.000000</td>\n",
              "      <td>0.0</td>\n",
              "      <td>0.0</td>\n",
              "    </tr>\n",
              "    <tr>\n",
              "      <th>1</th>\n",
              "      <td>1</td>\n",
              "      <td>11109</td>\n",
              "      <td>1</td>\n",
              "      <td>112108</td>\n",
              "      <td>4</td>\n",
              "      <td>4</td>\n",
              "      <td>10</td>\n",
              "      <td>9.0</td>\n",
              "      <td>Organic 4% Milk Fat Whole Milk Cottage Cheese</td>\n",
              "      <td>108</td>\n",
              "      <td>16</td>\n",
              "      <td>dairy eggs</td>\n",
              "      <td>19.000000</td>\n",
              "      <td>10.0</td>\n",
              "      <td>11.0</td>\n",
              "    </tr>\n",
              "    <tr>\n",
              "      <th>2</th>\n",
              "      <td>1</td>\n",
              "      <td>10246</td>\n",
              "      <td>0</td>\n",
              "      <td>112108</td>\n",
              "      <td>4</td>\n",
              "      <td>4</td>\n",
              "      <td>10</td>\n",
              "      <td>9.0</td>\n",
              "      <td>Organic Celery Hearts</td>\n",
              "      <td>83</td>\n",
              "      <td>4</td>\n",
              "      <td>produce</td>\n",
              "      <td>16.285715</td>\n",
              "      <td>14.0</td>\n",
              "      <td>31.0</td>\n",
              "    </tr>\n",
              "    <tr>\n",
              "      <th>3</th>\n",
              "      <td>1</td>\n",
              "      <td>49683</td>\n",
              "      <td>0</td>\n",
              "      <td>112108</td>\n",
              "      <td>4</td>\n",
              "      <td>4</td>\n",
              "      <td>10</td>\n",
              "      <td>9.0</td>\n",
              "      <td>Cucumber Kirby</td>\n",
              "      <td>83</td>\n",
              "      <td>4</td>\n",
              "      <td>produce</td>\n",
              "      <td>12.000000</td>\n",
              "      <td>12.0</td>\n",
              "      <td>0.0</td>\n",
              "    </tr>\n",
              "    <tr>\n",
              "      <th>4</th>\n",
              "      <td>1</td>\n",
              "      <td>43633</td>\n",
              "      <td>1</td>\n",
              "      <td>112108</td>\n",
              "      <td>4</td>\n",
              "      <td>4</td>\n",
              "      <td>10</td>\n",
              "      <td>9.0</td>\n",
              "      <td>Lightly Smoked Sardines in Olive Oil</td>\n",
              "      <td>95</td>\n",
              "      <td>15</td>\n",
              "      <td>canned goods</td>\n",
              "      <td>17.000000</td>\n",
              "      <td>5.0</td>\n",
              "      <td>0.0</td>\n",
              "    </tr>\n",
              "  </tbody>\n",
              "</table>\n",
              "</div>"
            ],
            "text/plain": [
              "   order_id  product_id  ...  nb_orders  total_items\n",
              "0         1       49302  ...        0.0          0.0\n",
              "1         1       11109  ...       10.0         11.0\n",
              "2         1       10246  ...       14.0         31.0\n",
              "3         1       49683  ...       12.0          0.0\n",
              "4         1       43633  ...        5.0          0.0\n",
              "\n",
              "[5 rows x 15 columns]"
            ]
          },
          "metadata": {
            "tags": []
          },
          "execution_count": 102
        }
      ]
    },
    {
      "cell_type": "code",
      "metadata": {
        "id": "uUioFJ8gqBYc",
        "colab_type": "code",
        "outputId": "7d72a3b7-b35b-4d8d-a57c-a94fa65a8014",
        "colab": {
          "base_uri": "https://localhost:8080/",
          "height": 378
        }
      },
      "source": [
        "#getting average basket as a feature by using total items and number of orders\n",
        "df['average_basket'] = (df.total_items /df.nb_orders).astype(np.float32)\n",
        "df.head()"
      ],
      "execution_count": 0,
      "outputs": [
        {
          "output_type": "execute_result",
          "data": {
            "text/html": [
              "<div>\n",
              "<style scoped>\n",
              "    .dataframe tbody tr th:only-of-type {\n",
              "        vertical-align: middle;\n",
              "    }\n",
              "\n",
              "    .dataframe tbody tr th {\n",
              "        vertical-align: top;\n",
              "    }\n",
              "\n",
              "    .dataframe thead th {\n",
              "        text-align: right;\n",
              "    }\n",
              "</style>\n",
              "<table border=\"1\" class=\"dataframe\">\n",
              "  <thead>\n",
              "    <tr style=\"text-align: right;\">\n",
              "      <th></th>\n",
              "      <th>order_id</th>\n",
              "      <th>product_id</th>\n",
              "      <th>reordered</th>\n",
              "      <th>user_id</th>\n",
              "      <th>order_number</th>\n",
              "      <th>order_dow</th>\n",
              "      <th>order_hour_of_day</th>\n",
              "      <th>days_since_prior_order</th>\n",
              "      <th>product_name</th>\n",
              "      <th>aisle_id</th>\n",
              "      <th>department_id</th>\n",
              "      <th>department</th>\n",
              "      <th>avg_days_btwn_orders</th>\n",
              "      <th>nb_orders</th>\n",
              "      <th>total_items</th>\n",
              "      <th>average_basket</th>\n",
              "    </tr>\n",
              "  </thead>\n",
              "  <tbody>\n",
              "    <tr>\n",
              "      <th>0</th>\n",
              "      <td>1</td>\n",
              "      <td>49302</td>\n",
              "      <td>1</td>\n",
              "      <td>112108</td>\n",
              "      <td>4</td>\n",
              "      <td>4</td>\n",
              "      <td>10</td>\n",
              "      <td>9.0</td>\n",
              "      <td>Bulgarian Yogurt</td>\n",
              "      <td>120</td>\n",
              "      <td>16</td>\n",
              "      <td>dairy eggs</td>\n",
              "      <td>1.000000</td>\n",
              "      <td>0.0</td>\n",
              "      <td>0.0</td>\n",
              "      <td>NaN</td>\n",
              "    </tr>\n",
              "    <tr>\n",
              "      <th>1</th>\n",
              "      <td>1</td>\n",
              "      <td>11109</td>\n",
              "      <td>1</td>\n",
              "      <td>112108</td>\n",
              "      <td>4</td>\n",
              "      <td>4</td>\n",
              "      <td>10</td>\n",
              "      <td>9.0</td>\n",
              "      <td>Organic 4% Milk Fat Whole Milk Cottage Cheese</td>\n",
              "      <td>108</td>\n",
              "      <td>16</td>\n",
              "      <td>dairy eggs</td>\n",
              "      <td>19.000000</td>\n",
              "      <td>10.0</td>\n",
              "      <td>11.0</td>\n",
              "      <td>1.100000</td>\n",
              "    </tr>\n",
              "    <tr>\n",
              "      <th>2</th>\n",
              "      <td>1</td>\n",
              "      <td>10246</td>\n",
              "      <td>0</td>\n",
              "      <td>112108</td>\n",
              "      <td>4</td>\n",
              "      <td>4</td>\n",
              "      <td>10</td>\n",
              "      <td>9.0</td>\n",
              "      <td>Organic Celery Hearts</td>\n",
              "      <td>83</td>\n",
              "      <td>4</td>\n",
              "      <td>produce</td>\n",
              "      <td>16.285715</td>\n",
              "      <td>14.0</td>\n",
              "      <td>31.0</td>\n",
              "      <td>2.214286</td>\n",
              "    </tr>\n",
              "    <tr>\n",
              "      <th>3</th>\n",
              "      <td>1</td>\n",
              "      <td>49683</td>\n",
              "      <td>0</td>\n",
              "      <td>112108</td>\n",
              "      <td>4</td>\n",
              "      <td>4</td>\n",
              "      <td>10</td>\n",
              "      <td>9.0</td>\n",
              "      <td>Cucumber Kirby</td>\n",
              "      <td>83</td>\n",
              "      <td>4</td>\n",
              "      <td>produce</td>\n",
              "      <td>12.000000</td>\n",
              "      <td>12.0</td>\n",
              "      <td>0.0</td>\n",
              "      <td>0.000000</td>\n",
              "    </tr>\n",
              "    <tr>\n",
              "      <th>4</th>\n",
              "      <td>1</td>\n",
              "      <td>43633</td>\n",
              "      <td>1</td>\n",
              "      <td>112108</td>\n",
              "      <td>4</td>\n",
              "      <td>4</td>\n",
              "      <td>10</td>\n",
              "      <td>9.0</td>\n",
              "      <td>Lightly Smoked Sardines in Olive Oil</td>\n",
              "      <td>95</td>\n",
              "      <td>15</td>\n",
              "      <td>canned goods</td>\n",
              "      <td>17.000000</td>\n",
              "      <td>5.0</td>\n",
              "      <td>0.0</td>\n",
              "      <td>0.000000</td>\n",
              "    </tr>\n",
              "  </tbody>\n",
              "</table>\n",
              "</div>"
            ],
            "text/plain": [
              "   order_id  product_id  reordered  ...  nb_orders  total_items  average_basket\n",
              "0         1       49302          1  ...        0.0          0.0             NaN\n",
              "1         1       11109          1  ...       10.0         11.0        1.100000\n",
              "2         1       10246          0  ...       14.0         31.0        2.214286\n",
              "3         1       49683          0  ...       12.0          0.0        0.000000\n",
              "4         1       43633          1  ...        5.0          0.0        0.000000\n",
              "\n",
              "[5 rows x 16 columns]"
            ]
          },
          "metadata": {
            "tags": []
          },
          "execution_count": 103
        }
      ]
    },
    {
      "cell_type": "code",
      "metadata": {
        "id": "BHkYDaeBqKLG",
        "colab_type": "code",
        "colab": {}
      },
      "source": [
        "df['average_basket'] = df['average_basket'].replace(np.nan, 0)"
      ],
      "execution_count": 0,
      "outputs": []
    },
    {
      "cell_type": "code",
      "metadata": {
        "id": "iaRR-IE1qMzr",
        "colab_type": "code",
        "outputId": "962ead91-ea76-48b1-c2b8-97494b1ce72f",
        "colab": {
          "base_uri": "https://localhost:8080/",
          "height": 378
        }
      },
      "source": [
        "# creating a days_since_ratio using days_since_prior_order and average_days_between_orders\n",
        "df['days_since_ratio'] = df.days_since_prior_order / df.avg_days_btwn_orders\n",
        "df.head()"
      ],
      "execution_count": 0,
      "outputs": [
        {
          "output_type": "execute_result",
          "data": {
            "text/html": [
              "<div>\n",
              "<style scoped>\n",
              "    .dataframe tbody tr th:only-of-type {\n",
              "        vertical-align: middle;\n",
              "    }\n",
              "\n",
              "    .dataframe tbody tr th {\n",
              "        vertical-align: top;\n",
              "    }\n",
              "\n",
              "    .dataframe thead th {\n",
              "        text-align: right;\n",
              "    }\n",
              "</style>\n",
              "<table border=\"1\" class=\"dataframe\">\n",
              "  <thead>\n",
              "    <tr style=\"text-align: right;\">\n",
              "      <th></th>\n",
              "      <th>order_id</th>\n",
              "      <th>product_id</th>\n",
              "      <th>reordered</th>\n",
              "      <th>user_id</th>\n",
              "      <th>order_number</th>\n",
              "      <th>order_dow</th>\n",
              "      <th>order_hour_of_day</th>\n",
              "      <th>days_since_prior_order</th>\n",
              "      <th>product_name</th>\n",
              "      <th>aisle_id</th>\n",
              "      <th>department_id</th>\n",
              "      <th>department</th>\n",
              "      <th>avg_days_btwn_orders</th>\n",
              "      <th>nb_orders</th>\n",
              "      <th>total_items</th>\n",
              "      <th>average_basket</th>\n",
              "      <th>days_since_ratio</th>\n",
              "    </tr>\n",
              "  </thead>\n",
              "  <tbody>\n",
              "    <tr>\n",
              "      <th>0</th>\n",
              "      <td>1</td>\n",
              "      <td>49302</td>\n",
              "      <td>1</td>\n",
              "      <td>112108</td>\n",
              "      <td>4</td>\n",
              "      <td>4</td>\n",
              "      <td>10</td>\n",
              "      <td>9.0</td>\n",
              "      <td>Bulgarian Yogurt</td>\n",
              "      <td>120</td>\n",
              "      <td>16</td>\n",
              "      <td>dairy eggs</td>\n",
              "      <td>1.000000</td>\n",
              "      <td>0.0</td>\n",
              "      <td>0.0</td>\n",
              "      <td>0.000000</td>\n",
              "      <td>9.000000</td>\n",
              "    </tr>\n",
              "    <tr>\n",
              "      <th>1</th>\n",
              "      <td>1</td>\n",
              "      <td>11109</td>\n",
              "      <td>1</td>\n",
              "      <td>112108</td>\n",
              "      <td>4</td>\n",
              "      <td>4</td>\n",
              "      <td>10</td>\n",
              "      <td>9.0</td>\n",
              "      <td>Organic 4% Milk Fat Whole Milk Cottage Cheese</td>\n",
              "      <td>108</td>\n",
              "      <td>16</td>\n",
              "      <td>dairy eggs</td>\n",
              "      <td>19.000000</td>\n",
              "      <td>10.0</td>\n",
              "      <td>11.0</td>\n",
              "      <td>1.100000</td>\n",
              "      <td>0.473684</td>\n",
              "    </tr>\n",
              "    <tr>\n",
              "      <th>2</th>\n",
              "      <td>1</td>\n",
              "      <td>10246</td>\n",
              "      <td>0</td>\n",
              "      <td>112108</td>\n",
              "      <td>4</td>\n",
              "      <td>4</td>\n",
              "      <td>10</td>\n",
              "      <td>9.0</td>\n",
              "      <td>Organic Celery Hearts</td>\n",
              "      <td>83</td>\n",
              "      <td>4</td>\n",
              "      <td>produce</td>\n",
              "      <td>16.285715</td>\n",
              "      <td>14.0</td>\n",
              "      <td>31.0</td>\n",
              "      <td>2.214286</td>\n",
              "      <td>0.552632</td>\n",
              "    </tr>\n",
              "    <tr>\n",
              "      <th>3</th>\n",
              "      <td>1</td>\n",
              "      <td>49683</td>\n",
              "      <td>0</td>\n",
              "      <td>112108</td>\n",
              "      <td>4</td>\n",
              "      <td>4</td>\n",
              "      <td>10</td>\n",
              "      <td>9.0</td>\n",
              "      <td>Cucumber Kirby</td>\n",
              "      <td>83</td>\n",
              "      <td>4</td>\n",
              "      <td>produce</td>\n",
              "      <td>12.000000</td>\n",
              "      <td>12.0</td>\n",
              "      <td>0.0</td>\n",
              "      <td>0.000000</td>\n",
              "      <td>0.750000</td>\n",
              "    </tr>\n",
              "    <tr>\n",
              "      <th>4</th>\n",
              "      <td>1</td>\n",
              "      <td>43633</td>\n",
              "      <td>1</td>\n",
              "      <td>112108</td>\n",
              "      <td>4</td>\n",
              "      <td>4</td>\n",
              "      <td>10</td>\n",
              "      <td>9.0</td>\n",
              "      <td>Lightly Smoked Sardines in Olive Oil</td>\n",
              "      <td>95</td>\n",
              "      <td>15</td>\n",
              "      <td>canned goods</td>\n",
              "      <td>17.000000</td>\n",
              "      <td>5.0</td>\n",
              "      <td>0.0</td>\n",
              "      <td>0.000000</td>\n",
              "      <td>0.529412</td>\n",
              "    </tr>\n",
              "  </tbody>\n",
              "</table>\n",
              "</div>"
            ],
            "text/plain": [
              "   order_id  product_id  ...  average_basket  days_since_ratio\n",
              "0         1       49302  ...        0.000000          9.000000\n",
              "1         1       11109  ...        1.100000          0.473684\n",
              "2         1       10246  ...        2.214286          0.552632\n",
              "3         1       49683  ...        0.000000          0.750000\n",
              "4         1       43633  ...        0.000000          0.529412\n",
              "\n",
              "[5 rows x 17 columns]"
            ]
          },
          "metadata": {
            "tags": []
          },
          "execution_count": 105
        }
      ]
    },
    {
      "cell_type": "code",
      "metadata": {
        "id": "-SUoJwmtqYLi",
        "colab_type": "code",
        "outputId": "a6151f93-c1d0-4f95-effa-90abb276446e",
        "colab": {
          "base_uri": "https://localhost:8080/",
          "height": 222
        }
      },
      "source": [
        "del df['user_id']\n",
        "del df['product_name']\n",
        "del df['department']\n",
        "df.head()"
      ],
      "execution_count": 0,
      "outputs": [
        {
          "output_type": "execute_result",
          "data": {
            "text/html": [
              "<div>\n",
              "<style scoped>\n",
              "    .dataframe tbody tr th:only-of-type {\n",
              "        vertical-align: middle;\n",
              "    }\n",
              "\n",
              "    .dataframe tbody tr th {\n",
              "        vertical-align: top;\n",
              "    }\n",
              "\n",
              "    .dataframe thead th {\n",
              "        text-align: right;\n",
              "    }\n",
              "</style>\n",
              "<table border=\"1\" class=\"dataframe\">\n",
              "  <thead>\n",
              "    <tr style=\"text-align: right;\">\n",
              "      <th></th>\n",
              "      <th>order_id</th>\n",
              "      <th>product_id</th>\n",
              "      <th>reordered</th>\n",
              "      <th>order_number</th>\n",
              "      <th>order_dow</th>\n",
              "      <th>order_hour_of_day</th>\n",
              "      <th>days_since_prior_order</th>\n",
              "      <th>aisle_id</th>\n",
              "      <th>department_id</th>\n",
              "      <th>avg_days_btwn_orders</th>\n",
              "      <th>nb_orders</th>\n",
              "      <th>total_items</th>\n",
              "      <th>average_basket</th>\n",
              "      <th>days_since_ratio</th>\n",
              "    </tr>\n",
              "  </thead>\n",
              "  <tbody>\n",
              "    <tr>\n",
              "      <th>0</th>\n",
              "      <td>1</td>\n",
              "      <td>49302</td>\n",
              "      <td>1</td>\n",
              "      <td>4</td>\n",
              "      <td>4</td>\n",
              "      <td>10</td>\n",
              "      <td>9.0</td>\n",
              "      <td>120</td>\n",
              "      <td>16</td>\n",
              "      <td>1.000000</td>\n",
              "      <td>0.0</td>\n",
              "      <td>0.0</td>\n",
              "      <td>0.000000</td>\n",
              "      <td>9.000000</td>\n",
              "    </tr>\n",
              "    <tr>\n",
              "      <th>1</th>\n",
              "      <td>1</td>\n",
              "      <td>11109</td>\n",
              "      <td>1</td>\n",
              "      <td>4</td>\n",
              "      <td>4</td>\n",
              "      <td>10</td>\n",
              "      <td>9.0</td>\n",
              "      <td>108</td>\n",
              "      <td>16</td>\n",
              "      <td>19.000000</td>\n",
              "      <td>10.0</td>\n",
              "      <td>11.0</td>\n",
              "      <td>1.100000</td>\n",
              "      <td>0.473684</td>\n",
              "    </tr>\n",
              "    <tr>\n",
              "      <th>2</th>\n",
              "      <td>1</td>\n",
              "      <td>10246</td>\n",
              "      <td>0</td>\n",
              "      <td>4</td>\n",
              "      <td>4</td>\n",
              "      <td>10</td>\n",
              "      <td>9.0</td>\n",
              "      <td>83</td>\n",
              "      <td>4</td>\n",
              "      <td>16.285715</td>\n",
              "      <td>14.0</td>\n",
              "      <td>31.0</td>\n",
              "      <td>2.214286</td>\n",
              "      <td>0.552632</td>\n",
              "    </tr>\n",
              "    <tr>\n",
              "      <th>3</th>\n",
              "      <td>1</td>\n",
              "      <td>49683</td>\n",
              "      <td>0</td>\n",
              "      <td>4</td>\n",
              "      <td>4</td>\n",
              "      <td>10</td>\n",
              "      <td>9.0</td>\n",
              "      <td>83</td>\n",
              "      <td>4</td>\n",
              "      <td>12.000000</td>\n",
              "      <td>12.0</td>\n",
              "      <td>0.0</td>\n",
              "      <td>0.000000</td>\n",
              "      <td>0.750000</td>\n",
              "    </tr>\n",
              "    <tr>\n",
              "      <th>4</th>\n",
              "      <td>1</td>\n",
              "      <td>43633</td>\n",
              "      <td>1</td>\n",
              "      <td>4</td>\n",
              "      <td>4</td>\n",
              "      <td>10</td>\n",
              "      <td>9.0</td>\n",
              "      <td>95</td>\n",
              "      <td>15</td>\n",
              "      <td>17.000000</td>\n",
              "      <td>5.0</td>\n",
              "      <td>0.0</td>\n",
              "      <td>0.000000</td>\n",
              "      <td>0.529412</td>\n",
              "    </tr>\n",
              "  </tbody>\n",
              "</table>\n",
              "</div>"
            ],
            "text/plain": [
              "   order_id  product_id  ...  average_basket  days_since_ratio\n",
              "0         1       49302  ...        0.000000          9.000000\n",
              "1         1       11109  ...        1.100000          0.473684\n",
              "2         1       10246  ...        2.214286          0.552632\n",
              "3         1       49683  ...        0.000000          0.750000\n",
              "4         1       43633  ...        0.000000          0.529412\n",
              "\n",
              "[5 rows x 14 columns]"
            ]
          },
          "metadata": {
            "tags": []
          },
          "execution_count": 106
        }
      ]
    },
    {
      "cell_type": "markdown",
      "metadata": {
        "id": "hRn8CQQZqmA1",
        "colab_type": "text"
      },
      "source": [
        "Converting hour, aisle, dept, product, days_since_prior_order, day of week into categories."
      ]
    },
    {
      "cell_type": "code",
      "metadata": {
        "id": "G9Np4Z-pqoiT",
        "colab_type": "code",
        "colab": {}
      },
      "source": [
        "hour = {c:i for i,c in enumerate(df['order_hour_of_day'].unique())}\n",
        "aisle = {c:i for i,c in enumerate(df['aisle_id'].unique())}\n",
        "dept = {c:i for i,c in enumerate(df['department_id'].unique())}\n",
        "product = {c:i for i,c in enumerate(df['product_id'].unique())}"
      ],
      "execution_count": 0,
      "outputs": []
    },
    {
      "cell_type": "code",
      "metadata": {
        "id": "tnudhrmxqvjR",
        "colab_type": "code",
        "colab": {}
      },
      "source": [
        "df['aisle_new'] = [float(aisle[t]) for t in df.aisle_id]\n",
        "\n",
        "df['dept_new'] = [float(dept[t]) for t in df.department_id]\n",
        "df['product_new'] = [float(product[t]) for t in df.product_id]\n",
        "\n",
        "df['order_hour_of_day_new'] = [float(hour[t]) for t in df.order_hour_of_day]"
      ],
      "execution_count": 0,
      "outputs": []
    },
    {
      "cell_type": "code",
      "metadata": {
        "id": "MbvGSTxYq77-",
        "colab_type": "code",
        "outputId": "78f7ec53-82cd-43e0-9802-1644c4451be0",
        "colab": {
          "base_uri": "https://localhost:8080/",
          "height": 451
        }
      },
      "source": [
        "df['order_hour_of_day_new'].value_counts()"
      ],
      "execution_count": 0,
      "outputs": [
        {
          "output_type": "execute_result",
          "data": {
            "text/plain": [
              "5.0     119370\n",
              "11.0    116198\n",
              "6.0     114762\n",
              "15.0    114119\n",
              "8.0     111752\n",
              "0.0     110479\n",
              "2.0     110237\n",
              "9.0      96944\n",
              "10.0     93856\n",
              "1.0      76522\n",
              "4.0      67386\n",
              "13.0     58175\n",
              "3.0      40920\n",
              "12.0     36302\n",
              "7.0      34813\n",
              "16.0     27319\n",
              "17.0     16965\n",
              "14.0     11847\n",
              "18.0      9083\n",
              "20.0      5626\n",
              "22.0      3847\n",
              "21.0      3226\n",
              "23.0      2438\n",
              "19.0      2431\n",
              "Name: order_hour_of_day_new, dtype: int64"
            ]
          },
          "metadata": {
            "tags": []
          },
          "execution_count": 109
        }
      ]
    },
    {
      "cell_type": "code",
      "metadata": {
        "id": "zK_IM51prC5A",
        "colab_type": "code",
        "colab": {}
      },
      "source": [
        "dow = {c:i for i,c in enumerate(df['order_dow'].unique())}\n",
        "df['order_dow_new'] = [float(dow[t]) for t in df.order_dow]\n",
        "dspo = {c:i for i,c in enumerate(df['days_since_prior_order'].unique())}\n",
        "df['days_since_prior_order__new'] = [float(dspo[t]) for t in df.days_since_prior_order]\n",
        "df['reordered'] = df['reordered'].astype('float')"
      ],
      "execution_count": 0,
      "outputs": []
    },
    {
      "cell_type": "code",
      "metadata": {
        "id": "krW4bfKArTbN",
        "colab_type": "code",
        "outputId": "77c06880-4414-4078-c59c-3ed76df3e541",
        "colab": {
          "base_uri": "https://localhost:8080/",
          "height": 222
        }
      },
      "source": [
        "df.head()"
      ],
      "execution_count": 0,
      "outputs": [
        {
          "output_type": "execute_result",
          "data": {
            "text/html": [
              "<div>\n",
              "<style scoped>\n",
              "    .dataframe tbody tr th:only-of-type {\n",
              "        vertical-align: middle;\n",
              "    }\n",
              "\n",
              "    .dataframe tbody tr th {\n",
              "        vertical-align: top;\n",
              "    }\n",
              "\n",
              "    .dataframe thead th {\n",
              "        text-align: right;\n",
              "    }\n",
              "</style>\n",
              "<table border=\"1\" class=\"dataframe\">\n",
              "  <thead>\n",
              "    <tr style=\"text-align: right;\">\n",
              "      <th></th>\n",
              "      <th>order_id</th>\n",
              "      <th>product_id</th>\n",
              "      <th>reordered</th>\n",
              "      <th>order_number</th>\n",
              "      <th>order_dow</th>\n",
              "      <th>order_hour_of_day</th>\n",
              "      <th>days_since_prior_order</th>\n",
              "      <th>aisle_id</th>\n",
              "      <th>department_id</th>\n",
              "      <th>avg_days_btwn_orders</th>\n",
              "      <th>nb_orders</th>\n",
              "      <th>total_items</th>\n",
              "      <th>average_basket</th>\n",
              "      <th>days_since_ratio</th>\n",
              "      <th>aisle_new</th>\n",
              "      <th>dept_new</th>\n",
              "      <th>product_new</th>\n",
              "      <th>order_hour_of_day_new</th>\n",
              "      <th>order_dow_new</th>\n",
              "      <th>days_since_prior_order__new</th>\n",
              "    </tr>\n",
              "  </thead>\n",
              "  <tbody>\n",
              "    <tr>\n",
              "      <th>0</th>\n",
              "      <td>1</td>\n",
              "      <td>49302</td>\n",
              "      <td>1.0</td>\n",
              "      <td>4</td>\n",
              "      <td>4</td>\n",
              "      <td>10</td>\n",
              "      <td>9.0</td>\n",
              "      <td>120</td>\n",
              "      <td>16</td>\n",
              "      <td>1.000000</td>\n",
              "      <td>0.0</td>\n",
              "      <td>0.0</td>\n",
              "      <td>0.000000</td>\n",
              "      <td>9.000000</td>\n",
              "      <td>0.0</td>\n",
              "      <td>0.0</td>\n",
              "      <td>0.0</td>\n",
              "      <td>0.0</td>\n",
              "      <td>0.0</td>\n",
              "      <td>0.0</td>\n",
              "    </tr>\n",
              "    <tr>\n",
              "      <th>1</th>\n",
              "      <td>1</td>\n",
              "      <td>11109</td>\n",
              "      <td>1.0</td>\n",
              "      <td>4</td>\n",
              "      <td>4</td>\n",
              "      <td>10</td>\n",
              "      <td>9.0</td>\n",
              "      <td>108</td>\n",
              "      <td>16</td>\n",
              "      <td>19.000000</td>\n",
              "      <td>10.0</td>\n",
              "      <td>11.0</td>\n",
              "      <td>1.100000</td>\n",
              "      <td>0.473684</td>\n",
              "      <td>1.0</td>\n",
              "      <td>0.0</td>\n",
              "      <td>1.0</td>\n",
              "      <td>0.0</td>\n",
              "      <td>0.0</td>\n",
              "      <td>0.0</td>\n",
              "    </tr>\n",
              "    <tr>\n",
              "      <th>2</th>\n",
              "      <td>1</td>\n",
              "      <td>10246</td>\n",
              "      <td>0.0</td>\n",
              "      <td>4</td>\n",
              "      <td>4</td>\n",
              "      <td>10</td>\n",
              "      <td>9.0</td>\n",
              "      <td>83</td>\n",
              "      <td>4</td>\n",
              "      <td>16.285715</td>\n",
              "      <td>14.0</td>\n",
              "      <td>31.0</td>\n",
              "      <td>2.214286</td>\n",
              "      <td>0.552632</td>\n",
              "      <td>2.0</td>\n",
              "      <td>1.0</td>\n",
              "      <td>2.0</td>\n",
              "      <td>0.0</td>\n",
              "      <td>0.0</td>\n",
              "      <td>0.0</td>\n",
              "    </tr>\n",
              "    <tr>\n",
              "      <th>3</th>\n",
              "      <td>1</td>\n",
              "      <td>49683</td>\n",
              "      <td>0.0</td>\n",
              "      <td>4</td>\n",
              "      <td>4</td>\n",
              "      <td>10</td>\n",
              "      <td>9.0</td>\n",
              "      <td>83</td>\n",
              "      <td>4</td>\n",
              "      <td>12.000000</td>\n",
              "      <td>12.0</td>\n",
              "      <td>0.0</td>\n",
              "      <td>0.000000</td>\n",
              "      <td>0.750000</td>\n",
              "      <td>2.0</td>\n",
              "      <td>1.0</td>\n",
              "      <td>3.0</td>\n",
              "      <td>0.0</td>\n",
              "      <td>0.0</td>\n",
              "      <td>0.0</td>\n",
              "    </tr>\n",
              "    <tr>\n",
              "      <th>4</th>\n",
              "      <td>1</td>\n",
              "      <td>43633</td>\n",
              "      <td>1.0</td>\n",
              "      <td>4</td>\n",
              "      <td>4</td>\n",
              "      <td>10</td>\n",
              "      <td>9.0</td>\n",
              "      <td>95</td>\n",
              "      <td>15</td>\n",
              "      <td>17.000000</td>\n",
              "      <td>5.0</td>\n",
              "      <td>0.0</td>\n",
              "      <td>0.000000</td>\n",
              "      <td>0.529412</td>\n",
              "      <td>3.0</td>\n",
              "      <td>2.0</td>\n",
              "      <td>4.0</td>\n",
              "      <td>0.0</td>\n",
              "      <td>0.0</td>\n",
              "      <td>0.0</td>\n",
              "    </tr>\n",
              "  </tbody>\n",
              "</table>\n",
              "</div>"
            ],
            "text/plain": [
              "   order_id  product_id  ...  order_dow_new  days_since_prior_order__new\n",
              "0         1       49302  ...            0.0                          0.0\n",
              "1         1       11109  ...            0.0                          0.0\n",
              "2         1       10246  ...            0.0                          0.0\n",
              "3         1       49683  ...            0.0                          0.0\n",
              "4         1       43633  ...            0.0                          0.0\n",
              "\n",
              "[5 rows x 20 columns]"
            ]
          },
          "metadata": {
            "tags": []
          },
          "execution_count": 111
        }
      ]
    },
    {
      "cell_type": "code",
      "metadata": {
        "id": "pEwWXFKQrWQJ",
        "colab_type": "code",
        "colab": {}
      },
      "source": [
        "del df['aisle_id']\n",
        "\n",
        "del df['department_id']"
      ],
      "execution_count": 0,
      "outputs": []
    },
    {
      "cell_type": "code",
      "metadata": {
        "id": "eyAieR-XrcW-",
        "colab_type": "code",
        "colab": {}
      },
      "source": [
        "del df['order_hour_of_day']\n",
        "del df['order_dow']\n",
        "del df['days_since_prior_order']\n",
        "del df['product_id']"
      ],
      "execution_count": 0,
      "outputs": []
    },
    {
      "cell_type": "code",
      "metadata": {
        "id": "fSqCPbferjQp",
        "colab_type": "code",
        "colab": {}
      },
      "source": [
        "y=df['reordered']\n",
        "del df['reordered']"
      ],
      "execution_count": 0,
      "outputs": []
    },
    {
      "cell_type": "code",
      "metadata": {
        "id": "2stn1CcrrnGI",
        "colab_type": "code",
        "outputId": "8c8cc777-fd45-49d7-bc95-b825d4c92313",
        "colab": {
          "base_uri": "https://localhost:8080/",
          "height": 222
        }
      },
      "source": [
        "df.head()"
      ],
      "execution_count": 0,
      "outputs": [
        {
          "output_type": "execute_result",
          "data": {
            "text/html": [
              "<div>\n",
              "<style scoped>\n",
              "    .dataframe tbody tr th:only-of-type {\n",
              "        vertical-align: middle;\n",
              "    }\n",
              "\n",
              "    .dataframe tbody tr th {\n",
              "        vertical-align: top;\n",
              "    }\n",
              "\n",
              "    .dataframe thead th {\n",
              "        text-align: right;\n",
              "    }\n",
              "</style>\n",
              "<table border=\"1\" class=\"dataframe\">\n",
              "  <thead>\n",
              "    <tr style=\"text-align: right;\">\n",
              "      <th></th>\n",
              "      <th>order_id</th>\n",
              "      <th>order_number</th>\n",
              "      <th>avg_days_btwn_orders</th>\n",
              "      <th>nb_orders</th>\n",
              "      <th>total_items</th>\n",
              "      <th>average_basket</th>\n",
              "      <th>days_since_ratio</th>\n",
              "      <th>aisle_new</th>\n",
              "      <th>dept_new</th>\n",
              "      <th>product_new</th>\n",
              "      <th>order_hour_of_day_new</th>\n",
              "      <th>order_dow_new</th>\n",
              "      <th>days_since_prior_order__new</th>\n",
              "    </tr>\n",
              "  </thead>\n",
              "  <tbody>\n",
              "    <tr>\n",
              "      <th>0</th>\n",
              "      <td>1</td>\n",
              "      <td>4</td>\n",
              "      <td>1.000000</td>\n",
              "      <td>0.0</td>\n",
              "      <td>0.0</td>\n",
              "      <td>0.000000</td>\n",
              "      <td>9.000000</td>\n",
              "      <td>0.0</td>\n",
              "      <td>0.0</td>\n",
              "      <td>0.0</td>\n",
              "      <td>0.0</td>\n",
              "      <td>0.0</td>\n",
              "      <td>0.0</td>\n",
              "    </tr>\n",
              "    <tr>\n",
              "      <th>1</th>\n",
              "      <td>1</td>\n",
              "      <td>4</td>\n",
              "      <td>19.000000</td>\n",
              "      <td>10.0</td>\n",
              "      <td>11.0</td>\n",
              "      <td>1.100000</td>\n",
              "      <td>0.473684</td>\n",
              "      <td>1.0</td>\n",
              "      <td>0.0</td>\n",
              "      <td>1.0</td>\n",
              "      <td>0.0</td>\n",
              "      <td>0.0</td>\n",
              "      <td>0.0</td>\n",
              "    </tr>\n",
              "    <tr>\n",
              "      <th>2</th>\n",
              "      <td>1</td>\n",
              "      <td>4</td>\n",
              "      <td>16.285715</td>\n",
              "      <td>14.0</td>\n",
              "      <td>31.0</td>\n",
              "      <td>2.214286</td>\n",
              "      <td>0.552632</td>\n",
              "      <td>2.0</td>\n",
              "      <td>1.0</td>\n",
              "      <td>2.0</td>\n",
              "      <td>0.0</td>\n",
              "      <td>0.0</td>\n",
              "      <td>0.0</td>\n",
              "    </tr>\n",
              "    <tr>\n",
              "      <th>3</th>\n",
              "      <td>1</td>\n",
              "      <td>4</td>\n",
              "      <td>12.000000</td>\n",
              "      <td>12.0</td>\n",
              "      <td>0.0</td>\n",
              "      <td>0.000000</td>\n",
              "      <td>0.750000</td>\n",
              "      <td>2.0</td>\n",
              "      <td>1.0</td>\n",
              "      <td>3.0</td>\n",
              "      <td>0.0</td>\n",
              "      <td>0.0</td>\n",
              "      <td>0.0</td>\n",
              "    </tr>\n",
              "    <tr>\n",
              "      <th>4</th>\n",
              "      <td>1</td>\n",
              "      <td>4</td>\n",
              "      <td>17.000000</td>\n",
              "      <td>5.0</td>\n",
              "      <td>0.0</td>\n",
              "      <td>0.000000</td>\n",
              "      <td>0.529412</td>\n",
              "      <td>3.0</td>\n",
              "      <td>2.0</td>\n",
              "      <td>4.0</td>\n",
              "      <td>0.0</td>\n",
              "      <td>0.0</td>\n",
              "      <td>0.0</td>\n",
              "    </tr>\n",
              "  </tbody>\n",
              "</table>\n",
              "</div>"
            ],
            "text/plain": [
              "   order_id  order_number  ...  order_dow_new  days_since_prior_order__new\n",
              "0         1             4  ...            0.0                          0.0\n",
              "1         1             4  ...            0.0                          0.0\n",
              "2         1             4  ...            0.0                          0.0\n",
              "3         1             4  ...            0.0                          0.0\n",
              "4         1             4  ...            0.0                          0.0\n",
              "\n",
              "[5 rows x 13 columns]"
            ]
          },
          "metadata": {
            "tags": []
          },
          "execution_count": 115
        }
      ]
    },
    {
      "cell_type": "code",
      "metadata": {
        "id": "SSSYZOISsC_f",
        "colab_type": "code",
        "colab": {}
      },
      "source": [
        "#Spliting into training and testing\n",
        "from sklearn.model_selection import train_test_split"
      ],
      "execution_count": 0,
      "outputs": []
    },
    {
      "cell_type": "code",
      "metadata": {
        "id": "is2sHTXkslHm",
        "colab_type": "code",
        "colab": {}
      },
      "source": [
        "Xtrain, Xtest, ytrain, ytest = train_test_split(df, y, test_size=0.30, random_state=5)"
      ],
      "execution_count": 0,
      "outputs": []
    },
    {
      "cell_type": "code",
      "metadata": {
        "id": "Gl-_lG3ks3jT",
        "colab_type": "code",
        "outputId": "961bb708-5f19-4c41-ea61-b9f0a249c335",
        "colab": {
          "base_uri": "https://localhost:8080/",
          "height": 35
        }
      },
      "source": [
        "Xtrain.shape\n",
        "Xtest.shape\n",
        "ytrain.shape\n",
        "ytest.shape"
      ],
      "execution_count": 0,
      "outputs": [
        {
          "output_type": "execute_result",
          "data": {
            "text/plain": [
              "(415386,)"
            ]
          },
          "metadata": {
            "tags": []
          },
          "execution_count": 118
        }
      ]
    },
    {
      "cell_type": "code",
      "metadata": {
        "id": "zj5aagGLtMdA",
        "colab_type": "code",
        "colab": {}
      },
      "source": [
        "ytrain=ytrain.ravel()\n",
        "ytest=ytest.ravel()"
      ],
      "execution_count": 0,
      "outputs": []
    },
    {
      "cell_type": "code",
      "metadata": {
        "id": "Odn00Cybtarg",
        "colab_type": "code",
        "colab": {}
      },
      "source": [
        "from sklearn.linear_model import LogisticRegression\n",
        "from sklearn.metrics import log_loss\n",
        "from sklearn.metrics import accuracy_score\n",
        "from sklearn.metrics import precision_score\n",
        "from sklearn.metrics import recall_score\n",
        "from sklearn.metrics import roc_curve\n",
        "from matplotlib import pyplot\n",
        "from sklearn.metrics import roc_auc_score"
      ],
      "execution_count": 0,
      "outputs": []
    },
    {
      "cell_type": "code",
      "metadata": {
        "id": "ydOI4JzitrjY",
        "colab_type": "code",
        "colab": {}
      },
      "source": [
        "#buidling logistic regression\n",
        "clf=(LogisticRegression(C=0.02))"
      ],
      "execution_count": 0,
      "outputs": []
    },
    {
      "cell_type": "code",
      "metadata": {
        "id": "FPh7-hmMttu1",
        "colab_type": "code",
        "outputId": "bf523d80-b980-4521-e139-eeddf071ce23",
        "colab": {
          "base_uri": "https://localhost:8080/",
          "height": 133
        }
      },
      "source": [
        "#fitting the model\n",
        "clf.fit(Xtrain, ytrain)"
      ],
      "execution_count": 0,
      "outputs": [
        {
          "output_type": "stream",
          "text": [
            "/usr/local/lib/python3.6/dist-packages/sklearn/linear_model/logistic.py:432: FutureWarning: Default solver will be changed to 'lbfgs' in 0.22. Specify a solver to silence this warning.\n",
            "  FutureWarning)\n"
          ],
          "name": "stderr"
        },
        {
          "output_type": "execute_result",
          "data": {
            "text/plain": [
              "LogisticRegression(C=0.02, class_weight=None, dual=False, fit_intercept=True,\n",
              "                   intercept_scaling=1, l1_ratio=None, max_iter=100,\n",
              "                   multi_class='warn', n_jobs=None, penalty='l2',\n",
              "                   random_state=None, solver='warn', tol=0.0001, verbose=0,\n",
              "                   warm_start=False)"
            ]
          },
          "metadata": {
            "tags": []
          },
          "execution_count": 52
        }
      ]
    },
    {
      "cell_type": "code",
      "metadata": {
        "id": "ZNKPp5oRvGBY",
        "colab_type": "code",
        "colab": {}
      },
      "source": [
        "train=clf.predict(Xtrain)"
      ],
      "execution_count": 0,
      "outputs": []
    },
    {
      "cell_type": "code",
      "metadata": {
        "id": "_7IQVqgYg689",
        "colab_type": "code",
        "outputId": "60afe9eb-1995-4208-e6cf-fb11c936e996",
        "colab": {
          "base_uri": "https://localhost:8080/",
          "height": 33
        }
      },
      "source": [
        "print(recall_score(train,ytrain))"
      ],
      "execution_count": 0,
      "outputs": [
        {
          "output_type": "stream",
          "text": [
            "0.6183511565154185\n"
          ],
          "name": "stdout"
        }
      ]
    },
    {
      "cell_type": "code",
      "metadata": {
        "id": "Fot1Ffk8vn94",
        "colab_type": "code",
        "outputId": "14eb9063-484e-4d2e-cd37-0d80d31e9f20",
        "colab": {
          "base_uri": "https://localhost:8080/",
          "height": 33
        }
      },
      "source": [
        "print(accuracy_score(train,ytrain))"
      ],
      "execution_count": 0,
      "outputs": [
        {
          "output_type": "stream",
          "text": [
            "0.597659381509671\n"
          ],
          "name": "stdout"
        }
      ]
    },
    {
      "cell_type": "code",
      "metadata": {
        "id": "lDBTLcEUv4vw",
        "colab_type": "code",
        "outputId": "b4f776e4-c4ac-43d8-e231-02fe9045ca59",
        "colab": {
          "base_uri": "https://localhost:8080/",
          "height": 33
        }
      },
      "source": [
        "print(precision_score(train,ytrain))"
      ],
      "execution_count": 0,
      "outputs": [
        {
          "output_type": "stream",
          "text": [
            "0.8563689046935303\n"
          ],
          "name": "stdout"
        }
      ]
    },
    {
      "cell_type": "code",
      "metadata": {
        "id": "PzLcEZIcv448",
        "colab_type": "code",
        "outputId": "19159810-1b1c-40ce-ca8c-7462ff7b1197",
        "colab": {
          "base_uri": "https://localhost:8080/",
          "height": 33
        }
      },
      "source": [
        "print(roc_auc_score(train,ytrain))"
      ],
      "execution_count": 0,
      "outputs": [
        {
          "output_type": "stream",
          "text": [
            "0.5578651302624383\n"
          ],
          "name": "stdout"
        }
      ]
    },
    {
      "cell_type": "code",
      "metadata": {
        "id": "u_4HahCvuDjI",
        "colab_type": "code",
        "colab": {}
      },
      "source": [
        "#On test data\n",
        "test=clf.predict(Xtest)"
      ],
      "execution_count": 0,
      "outputs": []
    },
    {
      "cell_type": "code",
      "metadata": {
        "id": "WbocqXjJuM8j",
        "colab_type": "code",
        "outputId": "f70cd1ef-f008-4004-a174-85fdd6fd68e4",
        "colab": {
          "base_uri": "https://localhost:8080/",
          "height": 33
        }
      },
      "source": [
        "test"
      ],
      "execution_count": 0,
      "outputs": [
        {
          "output_type": "execute_result",
          "data": {
            "text/plain": [
              "array([1., 1., 1., ..., 1., 0., 1.])"
            ]
          },
          "metadata": {
            "tags": []
          },
          "execution_count": 59
        }
      ]
    },
    {
      "cell_type": "code",
      "metadata": {
        "id": "FGS2o65wuSL3",
        "colab_type": "code",
        "outputId": "65d304b2-fb65-496c-eaa7-167cc08c29ca",
        "colab": {
          "base_uri": "https://localhost:8080/",
          "height": 33
        }
      },
      "source": [
        "#accuracy score of Logistic Regression Model\n",
        "print(accuracy_score(clf.predict(Xtest), ytest))"
      ],
      "execution_count": 0,
      "outputs": [
        {
          "output_type": "stream",
          "text": [
            "0.5971746760844131\n"
          ],
          "name": "stdout"
        }
      ]
    },
    {
      "cell_type": "code",
      "metadata": {
        "id": "fynrET9Krj6l",
        "colab_type": "code",
        "outputId": "e99d8cd9-a03e-4359-898f-705f49a84257",
        "colab": {
          "base_uri": "https://localhost:8080/",
          "height": 33
        }
      },
      "source": [
        "print(precision_score(clf.predict(Xtest), ytest))"
      ],
      "execution_count": 0,
      "outputs": [
        {
          "output_type": "stream",
          "text": [
            "0.8569837344431711\n"
          ],
          "name": "stdout"
        }
      ]
    },
    {
      "cell_type": "code",
      "metadata": {
        "id": "KOZYQAfusPbE",
        "colab_type": "code",
        "outputId": "1b847fd0-5a28-4edc-ea21-a82f4778cd20",
        "colab": {
          "base_uri": "https://localhost:8080/",
          "height": 33
        }
      },
      "source": [
        "print(recall_score(clf.predict(Xtest), ytest))"
      ],
      "execution_count": 0,
      "outputs": [
        {
          "output_type": "stream",
          "text": [
            "0.6179493796410936\n"
          ],
          "name": "stdout"
        }
      ]
    },
    {
      "cell_type": "code",
      "metadata": {
        "id": "-AlbJxF2rSWT",
        "colab_type": "code",
        "outputId": "c8629835-1bae-4192-ce4f-bf173aac98b5",
        "colab": {
          "base_uri": "https://localhost:8080/",
          "height": 33
        }
      },
      "source": [
        "print(roc_auc_score(clf.predict(Xtest), ytest))"
      ],
      "execution_count": 0,
      "outputs": [
        {
          "output_type": "stream",
          "text": [
            "0.55675144324229\n"
          ],
          "name": "stdout"
        }
      ]
    },
    {
      "cell_type": "markdown",
      "metadata": {
        "id": "Yp36BtSNub7s",
        "colab_type": "text"
      },
      "source": [
        "# Random Forest"
      ]
    },
    {
      "cell_type": "code",
      "metadata": {
        "id": "TmIohz8QudZo",
        "colab_type": "code",
        "colab": {}
      },
      "source": [
        "from sklearn.ensemble import RandomForestClassifier"
      ],
      "execution_count": 0,
      "outputs": []
    },
    {
      "cell_type": "code",
      "metadata": {
        "id": "mCzzSXqRutu9",
        "colab_type": "code",
        "colab": {}
      },
      "source": [
        "# Building Random Forest model\n",
        "clfrf = RandomForestClassifier(max_features=\"log2\", max_depth=11, n_estimators=24,min_samples_split=1000, \n",
        "                               oob_score=True)"
      ],
      "execution_count": 0,
      "outputs": []
    },
    {
      "cell_type": "code",
      "metadata": {
        "id": "m2eQUQH5u3R3",
        "colab_type": "code",
        "outputId": "e9f95c28-0099-4ed2-a028-bf6fcd4431b5",
        "colab": {
          "base_uri": "https://localhost:8080/",
          "height": 220
        }
      },
      "source": [
        "#fitting the model\n",
        "clfrf.fit(Xtrain, ytrain)"
      ],
      "execution_count": 0,
      "outputs": [
        {
          "output_type": "stream",
          "text": [
            "/usr/local/lib/python3.6/dist-packages/sklearn/ensemble/forest.py:460: UserWarning: Some inputs do not have OOB scores. This probably means too few trees were used to compute any reliable oob estimates.\n",
            "  warn(\"Some inputs do not have OOB scores. \"\n",
            "/usr/local/lib/python3.6/dist-packages/sklearn/ensemble/forest.py:465: RuntimeWarning: invalid value encountered in true_divide\n",
            "  predictions[k].sum(axis=1)[:, np.newaxis])\n"
          ],
          "name": "stderr"
        },
        {
          "output_type": "execute_result",
          "data": {
            "text/plain": [
              "RandomForestClassifier(bootstrap=True, class_weight=None, criterion='gini',\n",
              "                       max_depth=11, max_features='log2', max_leaf_nodes=None,\n",
              "                       min_impurity_decrease=0.0, min_impurity_split=None,\n",
              "                       min_samples_leaf=1, min_samples_split=1000,\n",
              "                       min_weight_fraction_leaf=0.0, n_estimators=24,\n",
              "                       n_jobs=None, oob_score=True, random_state=None,\n",
              "                       verbose=0, warm_start=False)"
            ]
          },
          "metadata": {
            "tags": []
          },
          "execution_count": 66
        }
      ]
    },
    {
      "cell_type": "code",
      "metadata": {
        "id": "H07wwFyPwBwh",
        "colab_type": "code",
        "colab": {}
      },
      "source": [
        "train=clf.predict(Xtrain)"
      ],
      "execution_count": 0,
      "outputs": []
    },
    {
      "cell_type": "code",
      "metadata": {
        "id": "aCa2CJlbwB5j",
        "colab_type": "code",
        "outputId": "3fb22916-c8a4-4a93-fb83-0dac309dfe6d",
        "colab": {
          "base_uri": "https://localhost:8080/",
          "height": 33
        }
      },
      "source": [
        "print(accuracy_score(train,ytrain))"
      ],
      "execution_count": 0,
      "outputs": [
        {
          "output_type": "stream",
          "text": [
            "0.597659381509671\n"
          ],
          "name": "stdout"
        }
      ]
    },
    {
      "cell_type": "code",
      "metadata": {
        "id": "qOGsEQcghceS",
        "colab_type": "code",
        "outputId": "d6b85294-d594-400c-a761-bc458a0892ba",
        "colab": {
          "base_uri": "https://localhost:8080/",
          "height": 33
        }
      },
      "source": [
        "print(precision_score(train, ytrain))"
      ],
      "execution_count": 0,
      "outputs": [
        {
          "output_type": "stream",
          "text": [
            "0.8563689046935303\n"
          ],
          "name": "stdout"
        }
      ]
    },
    {
      "cell_type": "code",
      "metadata": {
        "id": "hcZhGaD9wCHN",
        "colab_type": "code",
        "outputId": "b2f0f81e-6a00-4125-b275-4bad94cefbdb",
        "colab": {
          "base_uri": "https://localhost:8080/",
          "height": 33
        }
      },
      "source": [
        "print(recall_score(train,ytrain))"
      ],
      "execution_count": 0,
      "outputs": [
        {
          "output_type": "stream",
          "text": [
            "0.6183511565154185\n"
          ],
          "name": "stdout"
        }
      ]
    },
    {
      "cell_type": "code",
      "metadata": {
        "id": "mDRi9UXIwCS-",
        "colab_type": "code",
        "outputId": "d905256b-aeab-4c93-fac7-41b41b6e1759",
        "colab": {
          "base_uri": "https://localhost:8080/",
          "height": 33
        }
      },
      "source": [
        "print(roc_auc_score(train,ytrain))"
      ],
      "execution_count": 0,
      "outputs": [
        {
          "output_type": "stream",
          "text": [
            "0.5578651302624383\n"
          ],
          "name": "stdout"
        }
      ]
    },
    {
      "cell_type": "code",
      "metadata": {
        "id": "1L3SwWrhvIkb",
        "colab_type": "code",
        "colab": {}
      },
      "source": [
        "#testting the model\n",
        "testrf=clfrf.predict(Xtest)"
      ],
      "execution_count": 0,
      "outputs": []
    },
    {
      "cell_type": "code",
      "metadata": {
        "id": "ahRHGKrnvX2N",
        "colab_type": "code",
        "outputId": "24d94c9b-5434-40d2-938b-146b15332667",
        "colab": {
          "base_uri": "https://localhost:8080/",
          "height": 33
        }
      },
      "source": [
        "testrf"
      ],
      "execution_count": 0,
      "outputs": [
        {
          "output_type": "execute_result",
          "data": {
            "text/plain": [
              "array([1., 0., 1., ..., 1., 0., 1.])"
            ]
          },
          "metadata": {
            "tags": []
          },
          "execution_count": 73
        }
      ]
    },
    {
      "cell_type": "code",
      "metadata": {
        "id": "CNZV43x7vcE6",
        "colab_type": "code",
        "outputId": "818790cc-30b3-41d1-8bcc-12a5c550e978",
        "colab": {
          "base_uri": "https://localhost:8080/",
          "height": 33
        }
      },
      "source": [
        "#accuracy score for the random forest model\n",
        "accuracy_score(testrf, ytest)"
      ],
      "execution_count": 0,
      "outputs": [
        {
          "output_type": "execute_result",
          "data": {
            "text/plain": [
              "0.6648129691419548"
            ]
          },
          "metadata": {
            "tags": []
          },
          "execution_count": 74
        }
      ]
    },
    {
      "cell_type": "code",
      "metadata": {
        "id": "hgsf0GRWiJXE",
        "colab_type": "code",
        "outputId": "1dc76599-bae0-4f20-c57c-0f8576f3b2b9",
        "colab": {
          "base_uri": "https://localhost:8080/",
          "height": 33
        }
      },
      "source": [
        "#Recall score for the random forest model\n",
        "recall_score(testrf, ytest)"
      ],
      "execution_count": 0,
      "outputs": [
        {
          "output_type": "execute_result",
          "data": {
            "text/plain": [
              "0.6806542657665836"
            ]
          },
          "metadata": {
            "tags": []
          },
          "execution_count": 75
        }
      ]
    },
    {
      "cell_type": "code",
      "metadata": {
        "id": "yIr40qn_iBLW",
        "colab_type": "code",
        "outputId": "0c44b0bc-04b4-4bf3-af92-165faf5dcdec",
        "colab": {
          "base_uri": "https://localhost:8080/",
          "height": 33
        }
      },
      "source": [
        "#Precision score for the random forest model\n",
        "precision_score(testrf, ytest)"
      ],
      "execution_count": 0,
      "outputs": [
        {
          "output_type": "execute_result",
          "data": {
            "text/plain": [
              "0.8291372619981101"
            ]
          },
          "metadata": {
            "tags": []
          },
          "execution_count": 76
        }
      ]
    },
    {
      "cell_type": "code",
      "metadata": {
        "id": "yR3uZQIuuOFm",
        "colab_type": "code",
        "outputId": "c9044b77-4be8-4889-a8af-21e879959215",
        "colab": {
          "base_uri": "https://localhost:8080/",
          "height": 33
        }
      },
      "source": [
        "#AUC score for the random forest model\n",
        "roc_auc_score(testrf, ytest)"
      ],
      "execution_count": 0,
      "outputs": [
        {
          "output_type": "execute_result",
          "data": {
            "text/plain": [
              "0.6513959539698094"
            ]
          },
          "metadata": {
            "tags": []
          },
          "execution_count": 77
        }
      ]
    },
    {
      "cell_type": "code",
      "metadata": {
        "id": "LdS2Z89QvtrH",
        "colab_type": "code",
        "outputId": "4413e82e-35b8-47ff-fd48-f49cee562e59",
        "colab": {
          "base_uri": "https://localhost:8080/",
          "height": 421
        }
      },
      "source": [
        "feature_imp_reorder = pd.Series(clfrf.feature_importances_,index= df.columns)\n",
        "feature_imp_reorder.sort_values(ascending=False).plot(kind='Bar')"
      ],
      "execution_count": 0,
      "outputs": [
        {
          "output_type": "execute_result",
          "data": {
            "text/plain": [
              "<matplotlib.axes._subplots.AxesSubplot at 0x7f35bbdb1940>"
            ]
          },
          "metadata": {
            "tags": []
          },
          "execution_count": 78
        },
        {
          "output_type": "display_data",
          "data": {
            "image/png": "[encoded data removed]",
            "text/plain": [
              "<Figure size 432x288 with 1 Axes>"
            ]
          },
          "metadata": {
            "tags": []
          }
        }
      ]
    },
    {
      "cell_type": "markdown",
      "metadata": {
        "id": "PE5BCOoOv2p8",
        "colab_type": "text"
      },
      "source": [
        "Looking at the feature importances for predicting whether a product will be reoredered or not, the most important features we observed are order_number, department, product, days since prior order and aisle"
      ]
    },
    {
      "cell_type": "code",
      "metadata": {
        "id": "mv29DaQZwNjP",
        "colab_type": "code",
        "colab": {}
      },
      "source": [
        "from sklearn.ensemble import AdaBoostClassifier"
      ],
      "execution_count": 0,
      "outputs": []
    },
    {
      "cell_type": "code",
      "metadata": {
        "id": "K9mF2hANwmGZ",
        "colab_type": "code",
        "colab": {}
      },
      "source": [
        "#AdaBoost Classifier buiding\n",
        "clfa = AdaBoostClassifier( n_estimators=24,random_state=True)"
      ],
      "execution_count": 0,
      "outputs": []
    },
    {
      "cell_type": "code",
      "metadata": {
        "id": "sDnjM7uiwvO4",
        "colab_type": "code",
        "outputId": "ecbe1c83-31a5-42a2-f62c-74f9cc478329",
        "colab": {
          "base_uri": "https://localhost:8080/",
          "height": 50
        }
      },
      "source": [
        "#fitting\n",
        "clfa.fit(Xtrain, ytrain)"
      ],
      "execution_count": 0,
      "outputs": [
        {
          "output_type": "execute_result",
          "data": {
            "text/plain": [
              "AdaBoostClassifier(algorithm='SAMME.R', base_estimator=None, learning_rate=1.0,\n",
              "                   n_estimators=24, random_state=True)"
            ]
          },
          "metadata": {
            "tags": []
          },
          "execution_count": 81
        }
      ]
    },
    {
      "cell_type": "code",
      "metadata": {
        "id": "DiLp0wxOinON",
        "colab_type": "code",
        "colab": {}
      },
      "source": [
        "train = clfa.predict(Xtrain)"
      ],
      "execution_count": 0,
      "outputs": []
    },
    {
      "cell_type": "code",
      "metadata": {
        "id": "XNhoifjIinVf",
        "colab_type": "code",
        "outputId": "f185927e-6ec9-47da-9abb-64c13f2bc354",
        "colab": {
          "base_uri": "https://localhost:8080/",
          "height": 83
        }
      },
      "source": [
        "#Metrics for the random forest model\n",
        "print(accuracy_score(train,ytrain))\n",
        "print(precision_score(train, ytrain))\n",
        "print(recall_score(train,ytrain))\n",
        "print(roc_auc_score(testrf, ytest))\n"
      ],
      "execution_count": 0,
      "outputs": [
        {
          "output_type": "stream",
          "text": [
            "0.597659381509671\n",
            "0.8563689046935303\n",
            "0.6183511565154185\n",
            "0.6513959539698094\n"
          ],
          "name": "stdout"
        }
      ]
    },
    {
      "cell_type": "code",
      "metadata": {
        "id": "8LQnpxq2w28i",
        "colab_type": "code",
        "colab": {}
      },
      "source": [
        "#testing\n",
        "testada = clfa.predict(Xtest)"
      ],
      "execution_count": 0,
      "outputs": []
    },
    {
      "cell_type": "code",
      "metadata": {
        "id": "HQ8uS50DxFQ9",
        "colab_type": "code",
        "outputId": "72c64d57-4189-4b6c-d89f-335fbb5e7e91",
        "colab": {
          "base_uri": "https://localhost:8080/",
          "height": 83
        }
      },
      "source": [
        "#Metrics for AdaBoost Classifier\n",
        "\n",
        "print(accuracy_score(testada, ytest))\n",
        "print(precision_score(testada, ytest))\n",
        "print(recall_score(testada, ytest))\n",
        "print(roc_auc_score(testada, ytest))"
      ],
      "execution_count": 0,
      "outputs": [
        {
          "output_type": "stream",
          "text": [
            "0.6565339226647022\n",
            "0.8013028530068158\n",
            "0.6812019280073839\n",
            "0.6394996746893727\n"
          ],
          "name": "stdout"
        }
      ]
    },
    {
      "cell_type": "code",
      "metadata": {
        "id": "1-XKnjZ6xU3d",
        "colab_type": "code",
        "colab": {}
      },
      "source": [
        "from sklearn.ensemble import GradientBoostingClassifier"
      ],
      "execution_count": 0,
      "outputs": []
    },
    {
      "cell_type": "code",
      "metadata": {
        "id": "iJXVykwTxZm5",
        "colab_type": "code",
        "colab": {}
      },
      "source": [
        "clfg= GradientBoostingClassifier(max_features=\"log2\", max_depth=11, n_estimators=24,min_samples_split=1000)"
      ],
      "execution_count": 0,
      "outputs": []
    },
    {
      "cell_type": "code",
      "metadata": {
        "id": "fP_UtH1_xcoL",
        "colab_type": "code",
        "outputId": "dcfc6a14-a50d-4811-d6ed-ae926042f4e6",
        "colab": {
          "base_uri": "https://localhost:8080/",
          "height": 183
        }
      },
      "source": [
        "#fitting\n",
        "clfg.fit(Xtrain, ytrain)"
      ],
      "execution_count": 0,
      "outputs": [
        {
          "output_type": "execute_result",
          "data": {
            "text/plain": [
              "GradientBoostingClassifier(criterion='friedman_mse', init=None,\n",
              "                           learning_rate=0.1, loss='deviance', max_depth=11,\n",
              "                           max_features='log2', max_leaf_nodes=None,\n",
              "                           min_impurity_decrease=0.0, min_impurity_split=None,\n",
              "                           min_samples_leaf=1, min_samples_split=1000,\n",
              "                           min_weight_fraction_leaf=0.0, n_estimators=24,\n",
              "                           n_iter_no_change=None, presort='auto',\n",
              "                           random_state=None, subsample=1.0, tol=0.0001,\n",
              "                           validation_fraction=0.1, verbose=0,\n",
              "                           warm_start=False)"
            ]
          },
          "metadata": {
            "tags": []
          },
          "execution_count": 87
        }
      ]
    },
    {
      "cell_type": "code",
      "metadata": {
        "id": "RzOk88PLjuLy",
        "colab_type": "code",
        "colab": {}
      },
      "source": [
        "traing = clfg.predict(Xtrain)"
      ],
      "execution_count": 0,
      "outputs": []
    },
    {
      "cell_type": "code",
      "metadata": {
        "id": "4IlIYUU3j0E9",
        "colab_type": "code",
        "outputId": "2598ddf4-53ed-4d33-be06-515febae8d62",
        "colab": {
          "base_uri": "https://localhost:8080/",
          "height": 83
        }
      },
      "source": [
        "#Metrics for Gradient Boosting Model on training Data\n",
        "\n",
        "print(accuracy_score(traing,ytrain))\n",
        "print(precision_score(traing,ytrain))\n",
        "print(recall_score(traing,ytrain))\n",
        "print(roc_auc_score(traing,ytrain))"
      ],
      "execution_count": 0,
      "outputs": [
        {
          "output_type": "stream",
          "text": [
            "0.6762103151880202\n",
            "0.8299338606782167\n",
            "0.6911397819827113\n",
            "0.6645978048103285\n"
          ],
          "name": "stdout"
        }
      ]
    },
    {
      "cell_type": "code",
      "metadata": {
        "colab_type": "code",
        "id": "PAYKzXxFkQf4",
        "colab": {}
      },
      "source": [
        "testg = clfg.predict(Xtest)"
      ],
      "execution_count": 0,
      "outputs": []
    },
    {
      "cell_type": "code",
      "metadata": {
        "id": "f3co-EyxkTF1",
        "colab_type": "code",
        "outputId": "b26b2365-6cc8-43fe-ef92-5d49b122faf9",
        "colab": {
          "base_uri": "https://localhost:8080/",
          "height": 83
        }
      },
      "source": [
        "#Metrics for Gradient Boosting Model on Test Data\n",
        "\n",
        "print(accuracy_score(testg, ytest))\n",
        "print(precision_score(testg, ytest))\n",
        "print(recall_score(testg, ytest))\n",
        "print(roc_auc_score(testg, ytest))"
      ],
      "execution_count": 0,
      "outputs": [
        {
          "output_type": "stream",
          "text": [
            "0.67056665366671\n",
            "0.8260007640187386\n",
            "0.6870378112614345\n",
            "0.65764850932828\n"
          ],
          "name": "stdout"
        }
      ]
    },
    {
      "cell_type": "code",
      "metadata": {
        "id": "pk8mSHKhyl4t",
        "colab_type": "code",
        "colab": {}
      },
      "source": [
        "#for predicting department variable"
      ],
      "execution_count": 0,
      "outputs": []
    },
    {
      "cell_type": "code",
      "metadata": {
        "id": "9ByEVvnIyqoq",
        "colab_type": "code",
        "outputId": "67ee04a8-4dac-400b-e4f5-1ae921c9a700",
        "colab": {
          "base_uri": "https://localhost:8080/",
          "height": 378
        }
      },
      "source": [
        "df_new.head()"
      ],
      "execution_count": 0,
      "outputs": [
        {
          "output_type": "execute_result",
          "data": {
            "text/html": [
              "<div>\n",
              "<style scoped>\n",
              "    .dataframe tbody tr th:only-of-type {\n",
              "        vertical-align: middle;\n",
              "    }\n",
              "\n",
              "    .dataframe tbody tr th {\n",
              "        vertical-align: top;\n",
              "    }\n",
              "\n",
              "    .dataframe thead th {\n",
              "        text-align: right;\n",
              "    }\n",
              "</style>\n",
              "<table border=\"1\" class=\"dataframe\">\n",
              "  <thead>\n",
              "    <tr style=\"text-align: right;\">\n",
              "      <th></th>\n",
              "      <th>order_id</th>\n",
              "      <th>product_id</th>\n",
              "      <th>add_to_cart_order</th>\n",
              "      <th>reordered</th>\n",
              "      <th>user_id</th>\n",
              "      <th>eval_set</th>\n",
              "      <th>order_number</th>\n",
              "      <th>order_dow</th>\n",
              "      <th>order_hour_of_day</th>\n",
              "      <th>days_since_prior_order</th>\n",
              "      <th>product_name</th>\n",
              "      <th>aisle_id</th>\n",
              "      <th>department_id</th>\n",
              "      <th>department</th>\n",
              "    </tr>\n",
              "  </thead>\n",
              "  <tbody>\n",
              "    <tr>\n",
              "      <th>0</th>\n",
              "      <td>1</td>\n",
              "      <td>49302</td>\n",
              "      <td>1</td>\n",
              "      <td>1</td>\n",
              "      <td>112108</td>\n",
              "      <td>train</td>\n",
              "      <td>4</td>\n",
              "      <td>4</td>\n",
              "      <td>10</td>\n",
              "      <td>9.0</td>\n",
              "      <td>Bulgarian Yogurt</td>\n",
              "      <td>120</td>\n",
              "      <td>16</td>\n",
              "      <td>dairy eggs</td>\n",
              "    </tr>\n",
              "    <tr>\n",
              "      <th>1</th>\n",
              "      <td>1</td>\n",
              "      <td>11109</td>\n",
              "      <td>2</td>\n",
              "      <td>1</td>\n",
              "      <td>112108</td>\n",
              "      <td>train</td>\n",
              "      <td>4</td>\n",
              "      <td>4</td>\n",
              "      <td>10</td>\n",
              "      <td>9.0</td>\n",
              "      <td>Organic 4% Milk Fat Whole Milk Cottage Cheese</td>\n",
              "      <td>108</td>\n",
              "      <td>16</td>\n",
              "      <td>dairy eggs</td>\n",
              "    </tr>\n",
              "    <tr>\n",
              "      <th>2</th>\n",
              "      <td>1</td>\n",
              "      <td>10246</td>\n",
              "      <td>3</td>\n",
              "      <td>0</td>\n",
              "      <td>112108</td>\n",
              "      <td>train</td>\n",
              "      <td>4</td>\n",
              "      <td>4</td>\n",
              "      <td>10</td>\n",
              "      <td>9.0</td>\n",
              "      <td>Organic Celery Hearts</td>\n",
              "      <td>83</td>\n",
              "      <td>4</td>\n",
              "      <td>produce</td>\n",
              "    </tr>\n",
              "    <tr>\n",
              "      <th>3</th>\n",
              "      <td>1</td>\n",
              "      <td>49683</td>\n",
              "      <td>4</td>\n",
              "      <td>0</td>\n",
              "      <td>112108</td>\n",
              "      <td>train</td>\n",
              "      <td>4</td>\n",
              "      <td>4</td>\n",
              "      <td>10</td>\n",
              "      <td>9.0</td>\n",
              "      <td>Cucumber Kirby</td>\n",
              "      <td>83</td>\n",
              "      <td>4</td>\n",
              "      <td>produce</td>\n",
              "    </tr>\n",
              "    <tr>\n",
              "      <th>4</th>\n",
              "      <td>1</td>\n",
              "      <td>43633</td>\n",
              "      <td>5</td>\n",
              "      <td>1</td>\n",
              "      <td>112108</td>\n",
              "      <td>train</td>\n",
              "      <td>4</td>\n",
              "      <td>4</td>\n",
              "      <td>10</td>\n",
              "      <td>9.0</td>\n",
              "      <td>Lightly Smoked Sardines in Olive Oil</td>\n",
              "      <td>95</td>\n",
              "      <td>15</td>\n",
              "      <td>canned goods</td>\n",
              "    </tr>\n",
              "  </tbody>\n",
              "</table>\n",
              "</div>"
            ],
            "text/plain": [
              "   order_id  product_id  ...  department_id    department\n",
              "0         1       49302  ...             16    dairy eggs\n",
              "1         1       11109  ...             16    dairy eggs\n",
              "2         1       10246  ...              4       produce\n",
              "3         1       49683  ...              4       produce\n",
              "4         1       43633  ...             15  canned goods\n",
              "\n",
              "[5 rows x 14 columns]"
            ]
          },
          "metadata": {
            "tags": []
          },
          "execution_count": 122
        }
      ]
    },
    {
      "cell_type": "code",
      "metadata": {
        "id": "M_2jL8iqyql5",
        "colab_type": "code",
        "colab": {}
      },
      "source": [
        "# creating new features such as orders,reorders and reorder_rate for predicting the department variable\n",
        "\n",
        "df_new['orders'] = df_new.groupby(df_new.product_id).size().astype(np.int32) \n",
        "df_new['orders'] = df_new['orders'].replace(np.nan,0)\n",
        "df_new['reorders'] = df_new['reordered'].groupby(df_new.product_id).sum().astype(np.float32)\n",
        "df_new['reorders'] = df_new['reorders'].replace(np.nan,0)\n",
        "df_new['reorder_rate'] = (df_new.reorders / df_new.orders).astype(np.float32)\n",
        "df_new['reorder_rate'] = df_new['reorder_rate'].replace(np.nan,0)"
      ],
      "execution_count": 0,
      "outputs": []
    },
    {
      "cell_type": "code",
      "metadata": {
        "id": "TsFkxfDvy5-K",
        "colab_type": "code",
        "colab": {}
      },
      "source": [
        "df_new['average_days_between_orders'] = orders.groupby('user_id')['days_since_prior_order'].mean().astype(np.float32)\n",
        "df_new['average_days_between_orders'] = df_new['average_days_between_orders'].replace(np.nan, 0)"
      ],
      "execution_count": 0,
      "outputs": []
    },
    {
      "cell_type": "code",
      "metadata": {
        "id": "OJ9608ywzBK4",
        "colab_type": "code",
        "colab": {}
      },
      "source": [
        "df_new['average_days_between_orders'] = df_new['average_days_between_orders'].replace(0, 1)"
      ],
      "execution_count": 0,
      "outputs": []
    },
    {
      "cell_type": "code",
      "metadata": {
        "id": "jerCcwYAzEl6",
        "colab_type": "code",
        "colab": {}
      },
      "source": [
        "df_new['nb_orders'] = orders.groupby('user_id').size().astype(np.int16)\n",
        "df_new['nb_orders'] = df_new['nb_orders'].replace(np.nan, 0)"
      ],
      "execution_count": 0,
      "outputs": []
    },
    {
      "cell_type": "code",
      "metadata": {
        "id": "ieVIUOoozKXY",
        "colab_type": "code",
        "colab": {}
      },
      "source": [
        "df_new['total_items'] = df_merged1.groupby('user_id').size().astype(np.int16)\n",
        "df_new['total_items'] = df_new['total_items'].replace(np.nan, 0)"
      ],
      "execution_count": 0,
      "outputs": []
    },
    {
      "cell_type": "code",
      "metadata": {
        "id": "SZ-9ZDBwzNYJ",
        "colab_type": "code",
        "colab": {}
      },
      "source": [
        "df_new['average_basket'] = (df_new.total_items /df_new.nb_orders).astype(np.float32)"
      ],
      "execution_count": 0,
      "outputs": []
    },
    {
      "cell_type": "code",
      "metadata": {
        "id": "lliMBfUQzO_9",
        "colab_type": "code",
        "outputId": "68a9fa63-5b3d-4eb3-8829-9911d5f5287c",
        "colab": {
          "base_uri": "https://localhost:8080/",
          "height": 378
        }
      },
      "source": [
        "df_new.head()"
      ],
      "execution_count": 0,
      "outputs": [
        {
          "output_type": "execute_result",
          "data": {
            "text/html": [
              "<div>\n",
              "<style scoped>\n",
              "    .dataframe tbody tr th:only-of-type {\n",
              "        vertical-align: middle;\n",
              "    }\n",
              "\n",
              "    .dataframe tbody tr th {\n",
              "        vertical-align: top;\n",
              "    }\n",
              "\n",
              "    .dataframe thead th {\n",
              "        text-align: right;\n",
              "    }\n",
              "</style>\n",
              "<table border=\"1\" class=\"dataframe\">\n",
              "  <thead>\n",
              "    <tr style=\"text-align: right;\">\n",
              "      <th></th>\n",
              "      <th>order_id</th>\n",
              "      <th>product_id</th>\n",
              "      <th>add_to_cart_order</th>\n",
              "      <th>reordered</th>\n",
              "      <th>user_id</th>\n",
              "      <th>eval_set</th>\n",
              "      <th>order_number</th>\n",
              "      <th>order_dow</th>\n",
              "      <th>order_hour_of_day</th>\n",
              "      <th>days_since_prior_order</th>\n",
              "      <th>product_name</th>\n",
              "      <th>aisle_id</th>\n",
              "      <th>department_id</th>\n",
              "      <th>department</th>\n",
              "      <th>orders</th>\n",
              "      <th>reorders</th>\n",
              "      <th>reorder_rate</th>\n",
              "      <th>average_days_between_orders</th>\n",
              "      <th>nb_orders</th>\n",
              "      <th>total_items</th>\n",
              "      <th>average_basket</th>\n",
              "    </tr>\n",
              "  </thead>\n",
              "  <tbody>\n",
              "    <tr>\n",
              "      <th>0</th>\n",
              "      <td>1</td>\n",
              "      <td>49302</td>\n",
              "      <td>1</td>\n",
              "      <td>1</td>\n",
              "      <td>112108</td>\n",
              "      <td>train</td>\n",
              "      <td>4</td>\n",
              "      <td>4</td>\n",
              "      <td>10</td>\n",
              "      <td>9.0</td>\n",
              "      <td>Bulgarian Yogurt</td>\n",
              "      <td>120</td>\n",
              "      <td>16</td>\n",
              "      <td>dairy eggs</td>\n",
              "      <td>0.0</td>\n",
              "      <td>0.0</td>\n",
              "      <td>0.000000</td>\n",
              "      <td>1.000000</td>\n",
              "      <td>0.0</td>\n",
              "      <td>0.0</td>\n",
              "      <td>NaN</td>\n",
              "    </tr>\n",
              "    <tr>\n",
              "      <th>1</th>\n",
              "      <td>1</td>\n",
              "      <td>11109</td>\n",
              "      <td>2</td>\n",
              "      <td>1</td>\n",
              "      <td>112108</td>\n",
              "      <td>train</td>\n",
              "      <td>4</td>\n",
              "      <td>4</td>\n",
              "      <td>10</td>\n",
              "      <td>9.0</td>\n",
              "      <td>Organic 4% Milk Fat Whole Milk Cottage Cheese</td>\n",
              "      <td>108</td>\n",
              "      <td>16</td>\n",
              "      <td>dairy eggs</td>\n",
              "      <td>76.0</td>\n",
              "      <td>49.0</td>\n",
              "      <td>0.644737</td>\n",
              "      <td>19.000000</td>\n",
              "      <td>10.0</td>\n",
              "      <td>11.0</td>\n",
              "      <td>1.100000</td>\n",
              "    </tr>\n",
              "    <tr>\n",
              "      <th>2</th>\n",
              "      <td>1</td>\n",
              "      <td>10246</td>\n",
              "      <td>3</td>\n",
              "      <td>0</td>\n",
              "      <td>112108</td>\n",
              "      <td>train</td>\n",
              "      <td>4</td>\n",
              "      <td>4</td>\n",
              "      <td>10</td>\n",
              "      <td>9.0</td>\n",
              "      <td>Organic Celery Hearts</td>\n",
              "      <td>83</td>\n",
              "      <td>4</td>\n",
              "      <td>produce</td>\n",
              "      <td>4.0</td>\n",
              "      <td>1.0</td>\n",
              "      <td>0.250000</td>\n",
              "      <td>16.285715</td>\n",
              "      <td>14.0</td>\n",
              "      <td>31.0</td>\n",
              "      <td>2.214286</td>\n",
              "    </tr>\n",
              "    <tr>\n",
              "      <th>3</th>\n",
              "      <td>1</td>\n",
              "      <td>49683</td>\n",
              "      <td>4</td>\n",
              "      <td>0</td>\n",
              "      <td>112108</td>\n",
              "      <td>train</td>\n",
              "      <td>4</td>\n",
              "      <td>4</td>\n",
              "      <td>10</td>\n",
              "      <td>9.0</td>\n",
              "      <td>Cucumber Kirby</td>\n",
              "      <td>83</td>\n",
              "      <td>4</td>\n",
              "      <td>produce</td>\n",
              "      <td>6.0</td>\n",
              "      <td>6.0</td>\n",
              "      <td>1.000000</td>\n",
              "      <td>12.000000</td>\n",
              "      <td>12.0</td>\n",
              "      <td>0.0</td>\n",
              "      <td>0.000000</td>\n",
              "    </tr>\n",
              "    <tr>\n",
              "      <th>4</th>\n",
              "      <td>1</td>\n",
              "      <td>43633</td>\n",
              "      <td>5</td>\n",
              "      <td>1</td>\n",
              "      <td>112108</td>\n",
              "      <td>train</td>\n",
              "      <td>4</td>\n",
              "      <td>4</td>\n",
              "      <td>10</td>\n",
              "      <td>9.0</td>\n",
              "      <td>Lightly Smoked Sardines in Olive Oil</td>\n",
              "      <td>95</td>\n",
              "      <td>15</td>\n",
              "      <td>canned goods</td>\n",
              "      <td>22.0</td>\n",
              "      <td>14.0</td>\n",
              "      <td>0.636364</td>\n",
              "      <td>17.000000</td>\n",
              "      <td>5.0</td>\n",
              "      <td>0.0</td>\n",
              "      <td>0.000000</td>\n",
              "    </tr>\n",
              "  </tbody>\n",
              "</table>\n",
              "</div>"
            ],
            "text/plain": [
              "   order_id  product_id  ...  total_items  average_basket\n",
              "0         1       49302  ...          0.0             NaN\n",
              "1         1       11109  ...         11.0        1.100000\n",
              "2         1       10246  ...         31.0        2.214286\n",
              "3         1       49683  ...          0.0        0.000000\n",
              "4         1       43633  ...          0.0        0.000000\n",
              "\n",
              "[5 rows x 21 columns]"
            ]
          },
          "metadata": {
            "tags": []
          },
          "execution_count": 129
        }
      ]
    },
    {
      "cell_type": "code",
      "metadata": {
        "id": "JWzhaZFpzYj-",
        "colab_type": "code",
        "colab": {}
      },
      "source": [
        "df_new['average_basket'] = df_new['average_basket'].replace(np.nan, 0)\n",
        "df_new['days_since_ratio'] = df_new.days_since_prior_order / df_new.average_days_between_orders\n",
        "df_new['order_hour_of_day_new'] = [float(hour[t]) for t in df_new.order_hour_of_day]\n",
        "df_new['reordered'] = df_new['reordered'].astype('float')\n",
        "df_new['order_dow_new'] = [float(dow[t]) for t in df_new.order_dow]\n",
        "df_new['days_since_prior_order__new'] = [float(dspo[t]) for t in df_new.days_since_prior_order]\n",
        "df_new['dept_new'] = [float(dept[t]) for t in df_new.department_id]\n",
        "df_new['product_new'] = [float(product[t]) for t in df_new.product_id]"
      ],
      "execution_count": 0,
      "outputs": []
    },
    {
      "cell_type": "code",
      "metadata": {
        "id": "WfTFnDaI0oKY",
        "colab_type": "code",
        "colab": {}
      },
      "source": [
        "\n",
        "del df_new['days_since_prior_order']\n",
        "del df_new['order_dow']\n",
        "del df_new['order_hour_of_day']\n",
        "del df_new['department_id']\n",
        "del df_new['aisle_id']\n",
        "del df_new['product_id']\n",
        "del df_new['add_to_cart_order']\n",
        "del df_new['eval_set']\n",
        "del df_new['department']\n",
        "del df_new['product_name']\n",
        "del df_new['product_new']"
      ],
      "execution_count": 0,
      "outputs": []
    },
    {
      "cell_type": "code",
      "metadata": {
        "id": "sJEBlNiA0szR",
        "colab_type": "code",
        "outputId": "f20bd0ba-ea9a-4a14-8d2e-2fb5e4060cdc",
        "colab": {
          "base_uri": "https://localhost:8080/",
          "height": 222
        }
      },
      "source": [
        "df_new.head()"
      ],
      "execution_count": 0,
      "outputs": [
        {
          "output_type": "execute_result",
          "data": {
            "text/html": [
              "<div>\n",
              "<style scoped>\n",
              "    .dataframe tbody tr th:only-of-type {\n",
              "        vertical-align: middle;\n",
              "    }\n",
              "\n",
              "    .dataframe tbody tr th {\n",
              "        vertical-align: top;\n",
              "    }\n",
              "\n",
              "    .dataframe thead th {\n",
              "        text-align: right;\n",
              "    }\n",
              "</style>\n",
              "<table border=\"1\" class=\"dataframe\">\n",
              "  <thead>\n",
              "    <tr style=\"text-align: right;\">\n",
              "      <th></th>\n",
              "      <th>order_id</th>\n",
              "      <th>reordered</th>\n",
              "      <th>user_id</th>\n",
              "      <th>order_number</th>\n",
              "      <th>orders</th>\n",
              "      <th>reorders</th>\n",
              "      <th>reorder_rate</th>\n",
              "      <th>average_days_between_orders</th>\n",
              "      <th>nb_orders</th>\n",
              "      <th>total_items</th>\n",
              "      <th>average_basket</th>\n",
              "      <th>days_since_ratio</th>\n",
              "      <th>order_hour_of_day_new</th>\n",
              "      <th>order_dow_new</th>\n",
              "      <th>days_since_prior_order__new</th>\n",
              "      <th>dept_new</th>\n",
              "    </tr>\n",
              "  </thead>\n",
              "  <tbody>\n",
              "    <tr>\n",
              "      <th>0</th>\n",
              "      <td>1</td>\n",
              "      <td>1.0</td>\n",
              "      <td>112108</td>\n",
              "      <td>4</td>\n",
              "      <td>0.0</td>\n",
              "      <td>0.0</td>\n",
              "      <td>0.000000</td>\n",
              "      <td>1.000000</td>\n",
              "      <td>0.0</td>\n",
              "      <td>0.0</td>\n",
              "      <td>0.000000</td>\n",
              "      <td>9.000000</td>\n",
              "      <td>0.0</td>\n",
              "      <td>0.0</td>\n",
              "      <td>0.0</td>\n",
              "      <td>0.0</td>\n",
              "    </tr>\n",
              "    <tr>\n",
              "      <th>1</th>\n",
              "      <td>1</td>\n",
              "      <td>1.0</td>\n",
              "      <td>112108</td>\n",
              "      <td>4</td>\n",
              "      <td>76.0</td>\n",
              "      <td>49.0</td>\n",
              "      <td>0.644737</td>\n",
              "      <td>19.000000</td>\n",
              "      <td>10.0</td>\n",
              "      <td>11.0</td>\n",
              "      <td>1.100000</td>\n",
              "      <td>0.473684</td>\n",
              "      <td>0.0</td>\n",
              "      <td>0.0</td>\n",
              "      <td>0.0</td>\n",
              "      <td>0.0</td>\n",
              "    </tr>\n",
              "    <tr>\n",
              "      <th>2</th>\n",
              "      <td>1</td>\n",
              "      <td>0.0</td>\n",
              "      <td>112108</td>\n",
              "      <td>4</td>\n",
              "      <td>4.0</td>\n",
              "      <td>1.0</td>\n",
              "      <td>0.250000</td>\n",
              "      <td>16.285715</td>\n",
              "      <td>14.0</td>\n",
              "      <td>31.0</td>\n",
              "      <td>2.214286</td>\n",
              "      <td>0.552632</td>\n",
              "      <td>0.0</td>\n",
              "      <td>0.0</td>\n",
              "      <td>0.0</td>\n",
              "      <td>1.0</td>\n",
              "    </tr>\n",
              "    <tr>\n",
              "      <th>3</th>\n",
              "      <td>1</td>\n",
              "      <td>0.0</td>\n",
              "      <td>112108</td>\n",
              "      <td>4</td>\n",
              "      <td>6.0</td>\n",
              "      <td>6.0</td>\n",
              "      <td>1.000000</td>\n",
              "      <td>12.000000</td>\n",
              "      <td>12.0</td>\n",
              "      <td>0.0</td>\n",
              "      <td>0.000000</td>\n",
              "      <td>0.750000</td>\n",
              "      <td>0.0</td>\n",
              "      <td>0.0</td>\n",
              "      <td>0.0</td>\n",
              "      <td>1.0</td>\n",
              "    </tr>\n",
              "    <tr>\n",
              "      <th>4</th>\n",
              "      <td>1</td>\n",
              "      <td>1.0</td>\n",
              "      <td>112108</td>\n",
              "      <td>4</td>\n",
              "      <td>22.0</td>\n",
              "      <td>14.0</td>\n",
              "      <td>0.636364</td>\n",
              "      <td>17.000000</td>\n",
              "      <td>5.0</td>\n",
              "      <td>0.0</td>\n",
              "      <td>0.000000</td>\n",
              "      <td>0.529412</td>\n",
              "      <td>0.0</td>\n",
              "      <td>0.0</td>\n",
              "      <td>0.0</td>\n",
              "      <td>2.0</td>\n",
              "    </tr>\n",
              "  </tbody>\n",
              "</table>\n",
              "</div>"
            ],
            "text/plain": [
              "   order_id  reordered  ...  days_since_prior_order__new  dept_new\n",
              "0         1        1.0  ...                          0.0       0.0\n",
              "1         1        1.0  ...                          0.0       0.0\n",
              "2         1        0.0  ...                          0.0       1.0\n",
              "3         1        0.0  ...                          0.0       1.0\n",
              "4         1        1.0  ...                          0.0       2.0\n",
              "\n",
              "[5 rows x 16 columns]"
            ]
          },
          "metadata": {
            "tags": []
          },
          "execution_count": 60
        }
      ]
    },
    {
      "cell_type": "code",
      "metadata": {
        "id": "BnisaPJe0xBD",
        "colab_type": "code",
        "colab": {}
      },
      "source": [
        "ynew = df_new['dept_new']\n",
        "del df_new['dept_new']"
      ],
      "execution_count": 0,
      "outputs": []
    },
    {
      "cell_type": "code",
      "metadata": {
        "id": "e1iv8uKq06n-",
        "colab_type": "code",
        "colab": {}
      },
      "source": [
        "#Splitting the data into train and test\n",
        "Xtrainnew, Xtestnew, ytrainnew, ytestnew = train_test_split(df_new, ynew, test_size=0.30, random_state=5)"
      ],
      "execution_count": 0,
      "outputs": []
    },
    {
      "cell_type": "code",
      "metadata": {
        "id": "FuZMGw7e1Efq",
        "colab_type": "code",
        "colab": {}
      },
      "source": [
        "#Random Forest Classifier\n",
        "\n",
        "clfrfnew = RandomForestClassifier(max_features=\"log2\", max_depth=11, n_estimators=24,min_samples_split=1000, oob_score=True)"
      ],
      "execution_count": 0,
      "outputs": []
    },
    {
      "cell_type": "code",
      "metadata": {
        "id": "PLf-dwvQ1T30",
        "colab_type": "code",
        "outputId": "76df6603-1063-49fa-cd5f-ad6b1850edc9",
        "colab": {
          "base_uri": "https://localhost:8080/",
          "height": 228
        }
      },
      "source": [
        "#Building model\n",
        "clfrfnew.fit(Xtrainnew, ytrainnew)"
      ],
      "execution_count": 0,
      "outputs": [
        {
          "output_type": "stream",
          "text": [
            "/usr/local/lib/python3.6/dist-packages/sklearn/ensemble/forest.py:460: UserWarning: Some inputs do not have OOB scores. This probably means too few trees were used to compute any reliable oob estimates.\n",
            "  warn(\"Some inputs do not have OOB scores. \"\n",
            "/usr/local/lib/python3.6/dist-packages/sklearn/ensemble/forest.py:465: RuntimeWarning: invalid value encountered in true_divide\n",
            "  predictions[k].sum(axis=1)[:, np.newaxis])\n"
          ],
          "name": "stderr"
        },
        {
          "output_type": "execute_result",
          "data": {
            "text/plain": [
              "RandomForestClassifier(bootstrap=True, class_weight=None, criterion='gini',\n",
              "                       max_depth=11, max_features='log2', max_leaf_nodes=None,\n",
              "                       min_impurity_decrease=0.0, min_impurity_split=None,\n",
              "                       min_samples_leaf=1, min_samples_split=1000,\n",
              "                       min_weight_fraction_leaf=0.0, n_estimators=24,\n",
              "                       n_jobs=None, oob_score=True, random_state=None,\n",
              "                       verbose=0, warm_start=False)"
            ]
          },
          "metadata": {
            "tags": []
          },
          "execution_count": 135
        }
      ]
    },
    {
      "cell_type": "code",
      "metadata": {
        "id": "VWFw8Kwzp8P7",
        "colab_type": "code",
        "colab": {}
      },
      "source": [
        "trainnrf = clfrfnew.predict_proba(Xtrainnew)"
      ],
      "execution_count": 0,
      "outputs": []
    },
    {
      "cell_type": "code",
      "metadata": {
        "id": "gG04vgfk3T1J",
        "colab_type": "code",
        "colab": {}
      },
      "source": [
        "#predictions and probabiliti\n",
        "testnrf =clfrfnew.predict_proba(Xtestnew)"
      ],
      "execution_count": 0,
      "outputs": []
    },
    {
      "cell_type": "code",
      "metadata": {
        "id": "ofsSvn8J3Ztg",
        "colab_type": "code",
        "outputId": "17e0be47-aa51-4158-9e8b-7380a57af3de",
        "colab": {
          "base_uri": "https://localhost:8080/",
          "height": 431
        }
      },
      "source": [
        "feature_imp_dept = pd.Series(clfrfnew.feature_importances_,index= df_new.columns)\n",
        "feature_imp_dept.sort_values(ascending=False).plot(kind='Bar')"
      ],
      "execution_count": 0,
      "outputs": [
        {
          "output_type": "execute_result",
          "data": {
            "text/plain": [
              "<matplotlib.axes._subplots.AxesSubplot at 0x7f7baf058160>"
            ]
          },
          "metadata": {
            "tags": []
          },
          "execution_count": 138
        },
        {
          "output_type": "display_data",
          "data": {
            "image/png": "[encoded data removed]",
            "text/plain": [
              "<Figure size 432x288 with 1 Axes>"
            ]
          },
          "metadata": {
            "tags": []
          }
        }
      ]
    },
    {
      "cell_type": "markdown",
      "metadata": {
        "id": "wE75Ruvm3g6v",
        "colab_type": "text"
      },
      "source": [
        "The most important features while predicting the department are: Reordered, day of week, order number, user_id and order_id."
      ]
    },
    {
      "cell_type": "code",
      "metadata": {
        "id": "dSZ06dvz3nSi",
        "colab_type": "code",
        "outputId": "8b5f3057-f26c-49da-8f2d-e6d71148c3ff",
        "colab": {
          "base_uri": "https://localhost:8080/",
          "height": 35
        }
      },
      "source": [
        "# Log loss for the Random Forest model\n",
        "from sklearn.metrics import log_loss\n",
        "log_loss(ytestnew,testnrf)\n"
      ],
      "execution_count": 0,
      "outputs": [
        {
          "output_type": "execute_result",
          "data": {
            "text/plain": [
              "2.343050686973105"
            ]
          },
          "metadata": {
            "tags": []
          },
          "execution_count": 140
        }
      ]
    },
    {
      "cell_type": "code",
      "metadata": {
        "id": "2WkdQJ9iLDPa",
        "colab_type": "code",
        "outputId": "dbe57b3c-773f-46d6-e707-02d3f039f87e",
        "colab": {
          "base_uri": "https://localhost:8080/",
          "height": 35
        }
      },
      "source": [
        "log_loss(ytrainnew,trainnrf)"
      ],
      "execution_count": 0,
      "outputs": [
        {
          "output_type": "execute_result",
          "data": {
            "text/plain": [
              "2.3340213166908335"
            ]
          },
          "metadata": {
            "tags": []
          },
          "execution_count": 141
        }
      ]
    },
    {
      "cell_type": "code",
      "metadata": {
        "id": "5Y7wBgAK5hGW",
        "colab_type": "code",
        "colab": {}
      },
      "source": [
        "#Gradient Boosting Classifier\n",
        "clfgb= GradientBoostingClassifier(max_features=\"log2\", max_depth=11, n_estimators=24,min_samples_split=1000)"
      ],
      "execution_count": 0,
      "outputs": []
    },
    {
      "cell_type": "code",
      "metadata": {
        "id": "_Idnxs_86KBv",
        "colab_type": "code",
        "outputId": "50cbdf1b-0343-4ece-cf93-12f5f8ce3715",
        "colab": {
          "base_uri": "https://localhost:8080/",
          "height": 191
        }
      },
      "source": [
        "#fitting\n",
        "clfgb.fit(Xtrainnew,ytrainnew)"
      ],
      "execution_count": 0,
      "outputs": [
        {
          "output_type": "execute_result",
          "data": {
            "text/plain": [
              "GradientBoostingClassifier(criterion='friedman_mse', init=None,\n",
              "                           learning_rate=0.1, loss='deviance', max_depth=11,\n",
              "                           max_features='log2', max_leaf_nodes=None,\n",
              "                           min_impurity_decrease=0.0, min_impurity_split=None,\n",
              "                           min_samples_leaf=1, min_samples_split=1000,\n",
              "                           min_weight_fraction_leaf=0.0, n_estimators=24,\n",
              "                           n_iter_no_change=None, presort='auto',\n",
              "                           random_state=None, subsample=1.0, tol=0.0001,\n",
              "                           validation_fraction=0.1, verbose=0,\n",
              "                           warm_start=False)"
            ]
          },
          "metadata": {
            "tags": []
          },
          "execution_count": 143
        }
      ]
    },
    {
      "cell_type": "code",
      "metadata": {
        "id": "39mEy0yKXJqb",
        "colab_type": "code",
        "colab": {}
      },
      "source": [
        "predgbterainn=clfgb.predict_proba(Xtrainnew)"
      ],
      "execution_count": 0,
      "outputs": []
    },
    {
      "cell_type": "code",
      "metadata": {
        "id": "tWxD7Adl6SKw",
        "colab_type": "code",
        "colab": {}
      },
      "source": [
        "#predictions and probabilties\n",
        "predgbnewp =clfgb.predict_proba(Xtestnew)"
      ],
      "execution_count": 0,
      "outputs": []
    },
    {
      "cell_type": "code",
      "metadata": {
        "id": "inDvqL_VBawz",
        "colab_type": "code",
        "outputId": "9a25b0ed-ca5e-44c8-e948-92376839f47f",
        "colab": {
          "base_uri": "https://localhost:8080/",
          "height": 35
        }
      },
      "source": [
        "#Log loss score for Gradient Boosting Classifier\n",
        "log_loss( ytestnew,predgbnewp)\n"
      ],
      "execution_count": 0,
      "outputs": [
        {
          "output_type": "execute_result",
          "data": {
            "text/plain": [
              "2.3421391402314993"
            ]
          },
          "metadata": {
            "tags": []
          },
          "execution_count": 147
        }
      ]
    },
    {
      "cell_type": "code",
      "metadata": {
        "id": "ggFmxhsuLl_h",
        "colab_type": "code",
        "outputId": "14cfcd29-a2d2-439d-ff12-f3feecb8e627",
        "colab": {
          "base_uri": "https://localhost:8080/",
          "height": 35
        }
      },
      "source": [
        "log_loss(ytrainnew,predgbterainn)"
      ],
      "execution_count": 0,
      "outputs": [
        {
          "output_type": "execute_result",
          "data": {
            "text/plain": [
              "2.28770107456173"
            ]
          },
          "metadata": {
            "tags": []
          },
          "execution_count": 148
        }
      ]
    },
    {
      "cell_type": "code",
      "metadata": {
        "id": "SN7Lus3EBjnB",
        "colab_type": "code",
        "colab": {}
      },
      "source": [
        "clfada = AdaBoostClassifier( n_estimators=24,random_state=True)"
      ],
      "execution_count": 0,
      "outputs": []
    },
    {
      "cell_type": "code",
      "metadata": {
        "id": "iDT8ZopuBpvY",
        "colab_type": "code",
        "colab": {}
      },
      "source": [
        "predadatrain=clfada.fit(Xtrainnew, ytrainnew)"
      ],
      "execution_count": 0,
      "outputs": []
    },
    {
      "cell_type": "code",
      "metadata": {
        "id": "RTa4RVV7lCqI",
        "colab_type": "code",
        "colab": {}
      },
      "source": [
        "predaptr=clfada.predict_proba(Xtrainnew)"
      ],
      "execution_count": 0,
      "outputs": []
    },
    {
      "cell_type": "code",
      "metadata": {
        "id": "ykSpmzcRCHph",
        "colab_type": "code",
        "colab": {}
      },
      "source": [
        "#predictions and probabilities\n",
        "predadap = clfada.predict_proba(Xtestnew)"
      ],
      "execution_count": 0,
      "outputs": []
    },
    {
      "cell_type": "code",
      "metadata": {
        "id": "4WLH6USNCM_q",
        "colab_type": "code",
        "outputId": "90a76469-b2d6-49a6-e72e-75e256313f22",
        "colab": {
          "base_uri": "https://localhost:8080/",
          "height": 35
        }
      },
      "source": [
        "log_loss(ytestnew,predadap)"
      ],
      "execution_count": 0,
      "outputs": [
        {
          "output_type": "execute_result",
          "data": {
            "text/plain": [
              "2.979625315097"
            ]
          },
          "metadata": {
            "tags": []
          },
          "execution_count": 152
        }
      ]
    },
    {
      "cell_type": "code",
      "metadata": {
        "id": "Muwb4zM3L3iH",
        "colab_type": "code",
        "outputId": "2040f7c5-5c67-4950-e1f8-52d5a9e99ea8",
        "colab": {
          "base_uri": "https://localhost:8080/",
          "height": 35
        }
      },
      "source": [
        "log_loss( ytrainnew,predaptr)"
      ],
      "execution_count": 0,
      "outputs": [
        {
          "output_type": "execute_result",
          "data": {
            "text/plain": [
              "2.9795467406613367"
            ]
          },
          "metadata": {
            "tags": []
          },
          "execution_count": 153
        }
      ]
    },
    {
      "cell_type": "markdown",
      "metadata": {
        "id": "-y7jI84qEtse",
        "colab_type": "text"
      },
      "source": [
        "The best model for predicting whether a product will be reorodered or not is the Gradient Boosting Classifier with 0.67 accuracy. Whereas while predicting the category of the department, Random Forest Classifier is the best model with a log loss score of 2.342."
      ]
    },
    {
      "cell_type": "code",
      "metadata": {
        "id": "iGVia8aIMJ3w",
        "colab_type": "code",
        "colab": {}
      },
      "source": [
        ""
      ],
      "execution_count": 0,
      "outputs": []
    }
  ]
}